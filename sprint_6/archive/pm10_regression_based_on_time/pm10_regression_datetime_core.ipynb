{
 "cells": [
  {
   "cell_type": "markdown",
   "id": "737294d8-0f6c-457a-9d51-eae447fd7ea0",
   "metadata": {},
   "source": [
    "#### Regression Based on only datetime information\n",
    "Goal: Predict the value of pm10 based on datetime information (f.e. day of the week, hour of the day, month of the year, year)\n",
    "- Train once with year and once without year\n",
    "Regression models: \n",
    "1. Decision Tree\n",
    "2. Random Forest\n",
    "3. Knn\n",
    "4. Lineare Regression  \n",
    "\n",
    "To-Do: train 2-3 models with random train-validate split and time block split"
   ]
  },
  {
   "cell_type": "code",
   "execution_count": 12,
   "id": "dec8f4db-5c81-4b88-8c1c-f8dccff35c54",
   "metadata": {},
   "outputs": [],
   "source": [
    "# GET ALL THE JSONS INTO ONE DATAFRAME\n",
    "import pandas as pd\n",
    "import matplotlib.pyplot as plt\n",
    "import seaborn as sns\n",
    "import numpy as np\n",
    "import os\n",
    "import json\n",
    "import glob"
   ]
  },
  {
   "cell_type": "code",
   "execution_count": 13,
   "id": "032f2b23-46ac-4db7-850e-ff7739a4eaee",
   "metadata": {},
   "outputs": [
    {
     "name": "stdout",
     "output_type": "stream",
     "text": [
      "Combined dataframe shape: (542555, 6)\n"
     ]
    }
   ],
   "source": [
    "# Set the search path for files (assuming the directory is relative to the current script)\n",
    "file_path_mc124 = os.path.join(\"mc124_data\", \"*.json\")\n",
    "files = glob.glob(file_path_mc124)\n",
    "\n",
    "# Create empty list to store dataframes\n",
    "li_all_files = []\n",
    "\n",
    "# Loop through list of files and read each one into a dataframe and append to list\n",
    "for f in files:\n",
    "    # Read in json\n",
    "    temp_df = pd.read_json(f)\n",
    "    # Append df to list\n",
    "    li_all_files.append(temp_df)\n",
    "\n",
    "# Optionally concatenate all dataframes into one if needed\n",
    "if li_all_files:\n",
    "    combined_df = pd.concat(li_all_files)\n",
    "    print(f'Combined dataframe shape: {combined_df.shape}')\n",
    "else:\n",
    "    print('No dataframes were created.')"
   ]
  },
  {
   "cell_type": "code",
   "execution_count": 14,
   "id": "899dced3-3997-4824-ae92-c3d496342a86",
   "metadata": {},
   "outputs": [
    {
     "data": {
      "text/html": [
       "<div>\n",
       "<style scoped>\n",
       "    .dataframe tbody tr th:only-of-type {\n",
       "        vertical-align: middle;\n",
       "    }\n",
       "\n",
       "    .dataframe tbody tr th {\n",
       "        vertical-align: top;\n",
       "    }\n",
       "\n",
       "    .dataframe thead th {\n",
       "        text-align: right;\n",
       "    }\n",
       "</style>\n",
       "<table border=\"1\" class=\"dataframe\">\n",
       "  <thead>\n",
       "    <tr style=\"text-align: right;\">\n",
       "      <th></th>\n",
       "      <th>datetime</th>\n",
       "      <th>station</th>\n",
       "      <th>core</th>\n",
       "      <th>component</th>\n",
       "      <th>period</th>\n",
       "      <th>value</th>\n",
       "    </tr>\n",
       "  </thead>\n",
       "  <tbody>\n",
       "    <tr>\n",
       "      <th>563</th>\n",
       "      <td>2011-09-23 04:00:00+02:00</td>\n",
       "      <td>mc124</td>\n",
       "      <td>nox</td>\n",
       "      <td>nox_1h</td>\n",
       "      <td>1h</td>\n",
       "      <td>75.0</td>\n",
       "    </tr>\n",
       "  </tbody>\n",
       "</table>\n",
       "</div>"
      ],
      "text/plain": [
       "                      datetime station core component period  value\n",
       "563  2011-09-23 04:00:00+02:00   mc124  nox    nox_1h     1h   75.0"
      ]
     },
     "execution_count": 14,
     "metadata": {},
     "output_type": "execute_result"
    }
   ],
   "source": [
    "combined_df.sample()"
   ]
  },
  {
   "cell_type": "code",
   "execution_count": 16,
   "id": "3907114f-34e2-4755-ac85-9d74020c16f7",
   "metadata": {},
   "outputs": [
    {
     "name": "stdout",
     "output_type": "stream",
     "text": [
      "<class 'pandas.core.frame.DataFrame'>\n",
      "Index: 542555 entries, 0 to 3654\n",
      "Data columns (total 4 columns):\n",
      " #   Column    Non-Null Count   Dtype         \n",
      "---  ------    --------------   -----         \n",
      " 0   datetime  542555 non-null  datetime64[ns]\n",
      " 1   station   542555 non-null  object        \n",
      " 2   core      542555 non-null  object        \n",
      " 3   value     539422 non-null  float64       \n",
      "dtypes: datetime64[ns](1), float64(1), object(2)\n",
      "memory usage: 20.7+ MB\n"
     ]
    },
    {
     "name": "stderr",
     "output_type": "stream",
     "text": [
      "C:\\Users\\a_n_n\\AppData\\Local\\Temp\\ipykernel_25448\\2472174257.py:8: SettingWithCopyWarning: \n",
      "A value is trying to be set on a copy of a slice from a DataFrame.\n",
      "Try using .loc[row_indexer,col_indexer] = value instead\n",
      "\n",
      "See the caveats in the documentation: https://pandas.pydata.org/pandas-docs/stable/user_guide/indexing.html#returning-a-view-versus-a-copy\n",
      "  df_reduced['datetime'] = pd.to_datetime(df_reduced['datetime'], format='mixed')\n"
     ]
    }
   ],
   "source": [
    "# FILTER BY PARTICLE AND ONLY KEEP THE DATETIME, STATION, PERIOD AND VALUE FEATURE SINCE THE REST ARE CONSTANT INFORMATION (station, core, component, period)\n",
    "df_reduced = combined_df[['datetime', 'station', 'core', 'value']]\n",
    "df_reduced.sample(3)\n",
    "\n",
    "# CUT OFF THE TIMEZONE INFORMATION FROM THE DATETIME TO AVOID CONVERSION ISSUES DUE TO TIME CHANGE IN MARCH AND OCTOBER\n",
    "df_reduced.loc[:, 'datetime'] = df_reduced['datetime'].astype(str).str.slice(0, 19)\n",
    "#df_pm10_reduced.loc[:, 'datetime'] = pd.to_datetime(df_pm10_reduced['datetime'], format='mixed')\n",
    "df_reduced['datetime'] = pd.to_datetime(df_reduced['datetime'], format='mixed')\n",
    "df_reduced.loc[:, 'datetime'] = df_reduced['datetime'].dt.tz_localize(None)\n",
    "df_reduced.info()"
   ]
  },
  {
   "cell_type": "code",
   "execution_count": 17,
   "id": "578822bd-0311-4067-a83f-11868d7436b3",
   "metadata": {},
   "outputs": [
    {
     "data": {
      "text/html": [
       "<div>\n",
       "<style scoped>\n",
       "    .dataframe tbody tr th:only-of-type {\n",
       "        vertical-align: middle;\n",
       "    }\n",
       "\n",
       "    .dataframe tbody tr th {\n",
       "        vertical-align: top;\n",
       "    }\n",
       "\n",
       "    .dataframe thead th {\n",
       "        text-align: right;\n",
       "    }\n",
       "</style>\n",
       "<table border=\"1\" class=\"dataframe\">\n",
       "  <thead>\n",
       "    <tr style=\"text-align: right;\">\n",
       "      <th></th>\n",
       "      <th>datetime</th>\n",
       "      <th>station</th>\n",
       "      <th>core</th>\n",
       "      <th>value</th>\n",
       "    </tr>\n",
       "  </thead>\n",
       "  <tbody>\n",
       "    <tr>\n",
       "      <th>2367</th>\n",
       "      <td>2022-02-09 06:00:00</td>\n",
       "      <td>mc124</td>\n",
       "      <td>no2</td>\n",
       "      <td>27.0</td>\n",
       "    </tr>\n",
       "    <tr>\n",
       "      <th>1303</th>\n",
       "      <td>2022-02-18 03:00:00</td>\n",
       "      <td>mc124</td>\n",
       "      <td>no</td>\n",
       "      <td>4.0</td>\n",
       "    </tr>\n",
       "    <tr>\n",
       "      <th>778</th>\n",
       "      <td>2017-02-22 12:00:00</td>\n",
       "      <td>mc124</td>\n",
       "      <td>no</td>\n",
       "      <td>39.0</td>\n",
       "    </tr>\n",
       "  </tbody>\n",
       "</table>\n",
       "</div>"
      ],
      "text/plain": [
       "                datetime station core  value\n",
       "2367 2022-02-09 06:00:00   mc124  no2   27.0\n",
       "1303 2022-02-18 03:00:00   mc124   no    4.0\n",
       "778  2017-02-22 12:00:00   mc124   no   39.0"
      ]
     },
     "execution_count": 17,
     "metadata": {},
     "output_type": "execute_result"
    }
   ],
   "source": [
    "df_reduced.sample(3)"
   ]
  },
  {
   "cell_type": "code",
   "execution_count": 25,
   "id": "2ecf72c9-0c5b-41a1-a706-70a5ef24ad98",
   "metadata": {},
   "outputs": [
    {
     "data": {
      "text/html": [
       "<div>\n",
       "<style scoped>\n",
       "    .dataframe tbody tr th:only-of-type {\n",
       "        vertical-align: middle;\n",
       "    }\n",
       "\n",
       "    .dataframe tbody tr th {\n",
       "        vertical-align: top;\n",
       "    }\n",
       "\n",
       "    .dataframe thead th {\n",
       "        text-align: right;\n",
       "    }\n",
       "</style>\n",
       "<table border=\"1\" class=\"dataframe\">\n",
       "  <thead>\n",
       "    <tr style=\"text-align: right;\">\n",
       "      <th></th>\n",
       "      <th>datetime</th>\n",
       "      <th>station</th>\n",
       "      <th>core</th>\n",
       "      <th>value</th>\n",
       "      <th>day</th>\n",
       "      <th>hour</th>\n",
       "      <th>month</th>\n",
       "      <th>year</th>\n",
       "    </tr>\n",
       "  </thead>\n",
       "  <tbody>\n",
       "    <tr>\n",
       "      <th>1877</th>\n",
       "      <td>2021-04-15 08:00:00</td>\n",
       "      <td>mc124</td>\n",
       "      <td>no2</td>\n",
       "      <td>81.0</td>\n",
       "      <td>15</td>\n",
       "      <td>08</td>\n",
       "      <td>04</td>\n",
       "      <td>2021</td>\n",
       "    </tr>\n",
       "    <tr>\n",
       "      <th>3635</th>\n",
       "      <td>2019-05-01 16:00:00</td>\n",
       "      <td>mc124</td>\n",
       "      <td>pm10</td>\n",
       "      <td>27.0</td>\n",
       "      <td>01</td>\n",
       "      <td>16</td>\n",
       "      <td>05</td>\n",
       "      <td>2019</td>\n",
       "    </tr>\n",
       "    <tr>\n",
       "      <th>1965</th>\n",
       "      <td>2012-09-03 16:00:00</td>\n",
       "      <td>mc124</td>\n",
       "      <td>no2</td>\n",
       "      <td>118.0</td>\n",
       "      <td>03</td>\n",
       "      <td>16</td>\n",
       "      <td>09</td>\n",
       "      <td>2012</td>\n",
       "    </tr>\n",
       "  </tbody>\n",
       "</table>\n",
       "</div>"
      ],
      "text/plain": [
       "                datetime station  core  value day hour month  year\n",
       "1877 2021-04-15 08:00:00   mc124   no2   81.0  15   08    04  2021\n",
       "3635 2019-05-01 16:00:00   mc124  pm10   27.0  01   16    05  2019\n",
       "1965 2012-09-03 16:00:00   mc124   no2  118.0  03   16    09  2012"
      ]
     },
     "execution_count": 25,
     "metadata": {},
     "output_type": "execute_result"
    }
   ],
   "source": [
    "#use loc to add it to every for every row\n",
    "df_reduced['hour'] = df_reduced['datetime'].dt.strftime('%H')  # Hour (00-23)\n",
    "df_reduced['day'] = df_reduced['datetime'].dt.strftime('%d')  # Day of the month (01-31)\n",
    "df_reduced['month'] = df_reduced['datetime'].dt.strftime('%m')  # Month (01-12)\n",
    "df_reduced['year'] = df_reduced['datetime'].dt.strftime('%Y')  # Month (01-12)\n",
    "df_reduced.sample(3)"
   ]
  },
  {
   "cell_type": "markdown",
   "id": "df5eee8c-1008-4e9e-b884-8f361da67ba7",
   "metadata": {},
   "source": [
    "#### TODO\n",
    "SPLIT DATETIME (reference: Bike Rental Data Set)\n",
    "- [ x ] month\n",
    "- [ x ] day of week\n",
    "- [ x ] time of day\n",
    "- [ ] holiday"
   ]
  }
 ],
 "metadata": {
  "kernelspec": {
   "display_name": "Python 3 (ipykernel)",
   "language": "python",
   "name": "python3"
  },
  "language_info": {
   "codemirror_mode": {
    "name": "ipython",
    "version": 3
   },
   "file_extension": ".py",
   "mimetype": "text/x-python",
   "name": "python",
   "nbconvert_exporter": "python",
   "pygments_lexer": "ipython3",
   "version": "3.11.8"
  }
 },
 "nbformat": 4,
 "nbformat_minor": 5
}
