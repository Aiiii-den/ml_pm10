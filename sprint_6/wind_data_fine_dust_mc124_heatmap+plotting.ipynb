{
 "cells": [
  {
   "cell_type": "markdown",
   "id": "745125fd-6458-47fc-97eb-ee780af57b5a",
   "metadata": {},
   "source": [
    "### Analysis wind information and pm10"
   ]
  },
  {
   "cell_type": "code",
   "execution_count": 1,
   "id": "172e7ec5-2a75-4053-82f9-c8b5e27a28f6",
   "metadata": {},
   "outputs": [],
   "source": [
    "# GET ALL THE JSONS INTO ONE DATAFRAME\n",
    "import pandas as pd\n",
    "import matplotlib.pyplot as plt\n",
    "import seaborn as sns\n",
    "import numpy as np\n",
    "import os\n",
    "import json\n",
    "import glob"
   ]
  },
  {
   "cell_type": "markdown",
   "id": "3d2f62b2-3289-4403-9ff4-760dcb2fb094",
   "metadata": {},
   "source": [
    "#### Get all the pm10 files and keep columns which contain pm10"
   ]
  },
  {
   "cell_type": "code",
   "execution_count": 2,
   "id": "8545916f-82b3-43c9-b0bb-dfb3f14f7c13",
   "metadata": {},
   "outputs": [
    {
     "name": "stdout",
     "output_type": "stream",
     "text": [
      "Combined dataframe shape: (542555, 6)\n"
     ]
    }
   ],
   "source": [
    "# Set the search path for files (assuming the directory is relative to the current script)\n",
    "file_path_mc124 = os.path.join(\"mc124_data\", \"*.json\")\n",
    "files = glob.glob(file_path_mc124)\n",
    "\n",
    "# Create empty list to store dataframes\n",
    "li_all_files = []\n",
    "\n",
    "# Loop through list of files and read each one into a dataframe and append to list\n",
    "for f in files:\n",
    "    # Read in json\n",
    "    temp_df = pd.read_json(f)\n",
    "    # Append df to list\n",
    "    li_all_files.append(temp_df)\n",
    "\n",
    "# Optionally concatenate all dataframes into one if needed\n",
    "if li_all_files:\n",
    "    combined_df = pd.concat(li_all_files)\n",
    "    print(f'Combined dataframe shape: {combined_df.shape}')\n",
    "else:\n",
    "    print('No dataframes were created.')"
   ]
  },
  {
   "cell_type": "code",
   "execution_count": 3,
   "id": "a955e25c-d179-4b23-8347-08e1a4bce6a3",
   "metadata": {},
   "outputs": [
    {
     "name": "stdout",
     "output_type": "stream",
     "text": [
      "<class 'pandas.core.frame.DataFrame'>\n",
      "Index: 542555 entries, 0 to 3654\n",
      "Data columns (total 6 columns):\n",
      " #   Column     Non-Null Count   Dtype  \n",
      "---  ------     --------------   -----  \n",
      " 0   datetime   542555 non-null  object \n",
      " 1   station    542555 non-null  object \n",
      " 2   core       542555 non-null  object \n",
      " 3   component  542555 non-null  object \n",
      " 4   period     542555 non-null  object \n",
      " 5   value      539422 non-null  float64\n",
      "dtypes: float64(1), object(5)\n",
      "memory usage: 29.0+ MB\n"
     ]
    }
   ],
   "source": [
    "combined_df.info()"
   ]
  },
  {
   "cell_type": "code",
   "execution_count": 4,
   "id": "feb413e3-cc7c-4d74-9b76-48fc65b40fa2",
   "metadata": {},
   "outputs": [
    {
     "data": {
      "text/html": [
       "<div>\n",
       "<style scoped>\n",
       "    .dataframe tbody tr th:only-of-type {\n",
       "        vertical-align: middle;\n",
       "    }\n",
       "\n",
       "    .dataframe tbody tr th {\n",
       "        vertical-align: top;\n",
       "    }\n",
       "\n",
       "    .dataframe thead th {\n",
       "        text-align: right;\n",
       "    }\n",
       "</style>\n",
       "<table border=\"1\" class=\"dataframe\">\n",
       "  <thead>\n",
       "    <tr style=\"text-align: right;\">\n",
       "      <th></th>\n",
       "      <th>datetime</th>\n",
       "      <th>station</th>\n",
       "      <th>core</th>\n",
       "      <th>value</th>\n",
       "    </tr>\n",
       "  </thead>\n",
       "  <tbody>\n",
       "    <tr>\n",
       "      <th>2932</th>\n",
       "      <td>2017-01-07 13:00:00+01:00</td>\n",
       "      <td>mc124</td>\n",
       "      <td>no2</td>\n",
       "      <td>50.0</td>\n",
       "    </tr>\n",
       "    <tr>\n",
       "      <th>2043</th>\n",
       "      <td>2023-10-14T23:00:00+02:00</td>\n",
       "      <td>mc124</td>\n",
       "      <td>no</td>\n",
       "      <td>11.0</td>\n",
       "    </tr>\n",
       "    <tr>\n",
       "      <th>1107</th>\n",
       "      <td>2023-03-22T17:00:00+01:00</td>\n",
       "      <td>mc124</td>\n",
       "      <td>no2</td>\n",
       "      <td>34.0</td>\n",
       "    </tr>\n",
       "  </tbody>\n",
       "</table>\n",
       "</div>"
      ],
      "text/plain": [
       "                       datetime station core  value\n",
       "2932  2017-01-07 13:00:00+01:00   mc124  no2   50.0\n",
       "2043  2023-10-14T23:00:00+02:00   mc124   no   11.0\n",
       "1107  2023-03-22T17:00:00+01:00   mc124  no2   34.0"
      ]
     },
     "execution_count": 4,
     "metadata": {},
     "output_type": "execute_result"
    }
   ],
   "source": [
    "# FILTER BY PARTICLE AND ONLY KEEP THE DATETIME, STATION, PERIOD AND VALUE FEATURE SINCE THE REST ARE CONSTANT INFORMATION (station, core, component, period)\n",
    "df_reduced = combined_df[['datetime', 'station', 'core', 'value']]\n",
    "df_reduced.sample(3)"
   ]
  },
  {
   "cell_type": "code",
   "execution_count": 5,
   "id": "9a8dc1b4-e6aa-475a-86d2-a0c1cf02e78f",
   "metadata": {},
   "outputs": [
    {
     "name": "stdout",
     "output_type": "stream",
     "text": [
      "<class 'pandas.core.frame.DataFrame'>\n",
      "Index: 542555 entries, 0 to 3654\n",
      "Data columns (total 4 columns):\n",
      " #   Column    Non-Null Count   Dtype         \n",
      "---  ------    --------------   -----         \n",
      " 0   datetime  542555 non-null  datetime64[ns]\n",
      " 1   station   542555 non-null  object        \n",
      " 2   core      542555 non-null  object        \n",
      " 3   value     539422 non-null  float64       \n",
      "dtypes: datetime64[ns](1), float64(1), object(2)\n",
      "memory usage: 20.7+ MB\n"
     ]
    },
    {
     "name": "stderr",
     "output_type": "stream",
     "text": [
      "C:\\Users\\a_n_n\\AppData\\Local\\Temp\\ipykernel_10788\\436813494.py:4: SettingWithCopyWarning: \n",
      "A value is trying to be set on a copy of a slice from a DataFrame.\n",
      "Try using .loc[row_indexer,col_indexer] = value instead\n",
      "\n",
      "See the caveats in the documentation: https://pandas.pydata.org/pandas-docs/stable/user_guide/indexing.html#returning-a-view-versus-a-copy\n",
      "  df_reduced['datetime'] = pd.to_datetime(df_reduced['datetime'], format='mixed')\n"
     ]
    }
   ],
   "source": [
    "# CUT OFF THE TIMEZONE INFORMATION FROM THE DATETIME TO AVOID CONVERSION ISSUES DUE TO TIME CHANGE IN MARCH AND OCTOBER\n",
    "df_reduced.loc[:, 'datetime'] = df_reduced['datetime'].astype(str).str.slice(0, 19)\n",
    "#df_pm10_reduced.loc[:, 'datetime'] = pd.to_datetime(df_pm10_reduced['datetime'], format='mixed')\n",
    "df_reduced['datetime'] = pd.to_datetime(df_reduced['datetime'], format='mixed')\n",
    "df_reduced.loc[:, 'datetime'] = df_reduced['datetime'].dt.tz_localize(None)\n",
    "df_reduced.info()"
   ]
  },
  {
   "cell_type": "code",
   "execution_count": 6,
   "id": "67d48893-45a3-447c-8607-99a44ff2b522",
   "metadata": {},
   "outputs": [
    {
     "data": {
      "text/html": [
       "<div>\n",
       "<style scoped>\n",
       "    .dataframe tbody tr th:only-of-type {\n",
       "        vertical-align: middle;\n",
       "    }\n",
       "\n",
       "    .dataframe tbody tr th {\n",
       "        vertical-align: top;\n",
       "    }\n",
       "\n",
       "    .dataframe thead th {\n",
       "        text-align: right;\n",
       "    }\n",
       "</style>\n",
       "<table border=\"1\" class=\"dataframe\">\n",
       "  <thead>\n",
       "    <tr style=\"text-align: right;\">\n",
       "      <th></th>\n",
       "      <th>datetime</th>\n",
       "      <th>station</th>\n",
       "      <th>core</th>\n",
       "      <th>value</th>\n",
       "    </tr>\n",
       "  </thead>\n",
       "  <tbody>\n",
       "    <tr>\n",
       "      <th>739</th>\n",
       "      <td>2023-12-25 20:00:00</td>\n",
       "      <td>mc124</td>\n",
       "      <td>nox</td>\n",
       "      <td>40.0</td>\n",
       "    </tr>\n",
       "    <tr>\n",
       "      <th>2596</th>\n",
       "      <td>2017-12-10 08:00:00</td>\n",
       "      <td>mc124</td>\n",
       "      <td>pm2</td>\n",
       "      <td>7.0</td>\n",
       "    </tr>\n",
       "    <tr>\n",
       "      <th>1200</th>\n",
       "      <td>2011-11-14 07:00:00</td>\n",
       "      <td>mc124</td>\n",
       "      <td>no2</td>\n",
       "      <td>55.0</td>\n",
       "    </tr>\n",
       "    <tr>\n",
       "      <th>796</th>\n",
       "      <td>2017-10-25 08:00:00</td>\n",
       "      <td>mc124</td>\n",
       "      <td>pm2</td>\n",
       "      <td>14.0</td>\n",
       "    </tr>\n",
       "    <tr>\n",
       "      <th>2979</th>\n",
       "      <td>2017-10-07 04:00:00</td>\n",
       "      <td>mc124</td>\n",
       "      <td>nox</td>\n",
       "      <td>33.0</td>\n",
       "    </tr>\n",
       "  </tbody>\n",
       "</table>\n",
       "</div>"
      ],
      "text/plain": [
       "                datetime station core  value\n",
       "739  2023-12-25 20:00:00   mc124  nox   40.0\n",
       "2596 2017-12-10 08:00:00   mc124  pm2    7.0\n",
       "1200 2011-11-14 07:00:00   mc124  no2   55.0\n",
       "796  2017-10-25 08:00:00   mc124  pm2   14.0\n",
       "2979 2017-10-07 04:00:00   mc124  nox   33.0"
      ]
     },
     "execution_count": 6,
     "metadata": {},
     "output_type": "execute_result"
    }
   ],
   "source": [
    "df_reduced.sample(5)"
   ]
  },
  {
   "cell_type": "markdown",
   "id": "e1f3fbff-8929-4b07-ac59-2a7cc6cd7e64",
   "metadata": {},
   "source": [
    "#### Load wind data and filter for wind speed and wind direction"
   ]
  },
  {
   "cell_type": "markdown",
   "id": "18f3495e-02c5-41c7-bd10-e91fb722f4f0",
   "metadata": {},
   "source": [
    "##### Erklärung Windrichtung  \n",
    "https://www.dwd.de/DE/service/lexikon/Functions/glossar.html?lv3=103182&lv2=102936  \n",
    "Die Windrichtung wird bestimmt nach dem Polarwinkel (Azimut). Zur Richtungsangabe benutzt man die 360 Grad Skala des Kreises.   \n",
    "Alle Richtungsangaben in Grad sind rechtweisend auf geographisch Nord bezogen, d.h.   \n",
    "Ost  =  90 Grad,  \n",
    "Süd  =  180 Grad,  \n",
    "West =  270 Grad,   \n",
    "Nord =  360 Grad.  "
   ]
  },
  {
   "cell_type": "code",
   "execution_count": 7,
   "id": "790b520f-fe63-42b7-91c8-d02974e3fe02",
   "metadata": {},
   "outputs": [
    {
     "data": {
      "text/html": [
       "<div>\n",
       "<style scoped>\n",
       "    .dataframe tbody tr th:only-of-type {\n",
       "        vertical-align: middle;\n",
       "    }\n",
       "\n",
       "    .dataframe tbody tr th {\n",
       "        vertical-align: top;\n",
       "    }\n",
       "\n",
       "    .dataframe thead th {\n",
       "        text-align: right;\n",
       "    }\n",
       "</style>\n",
       "<table border=\"1\" class=\"dataframe\">\n",
       "  <thead>\n",
       "    <tr style=\"text-align: right;\">\n",
       "      <th></th>\n",
       "      <th>stations_id</th>\n",
       "      <th>date</th>\n",
       "      <th>quality_level</th>\n",
       "      <th>structure_version</th>\n",
       "      <th>wind_speed</th>\n",
       "      <th>wind_direction</th>\n",
       "      <th>eor</th>\n",
       "    </tr>\n",
       "  </thead>\n",
       "  <tbody>\n",
       "    <tr>\n",
       "      <th>41700</th>\n",
       "      <td>399</td>\n",
       "      <td>2020120715</td>\n",
       "      <td>2</td>\n",
       "      <td>0</td>\n",
       "      <td>5.8</td>\n",
       "      <td>190</td>\n",
       "      <td>eor</td>\n",
       "    </tr>\n",
       "    <tr>\n",
       "      <th>38140</th>\n",
       "      <td>399</td>\n",
       "      <td>2020052200</td>\n",
       "      <td>2</td>\n",
       "      <td>0</td>\n",
       "      <td>10.1</td>\n",
       "      <td>150</td>\n",
       "      <td>eor</td>\n",
       "    </tr>\n",
       "    <tr>\n",
       "      <th>31042</th>\n",
       "      <td>399</td>\n",
       "      <td>2019030900</td>\n",
       "      <td>2</td>\n",
       "      <td>0</td>\n",
       "      <td>13.8</td>\n",
       "      <td>250</td>\n",
       "      <td>eor</td>\n",
       "    </tr>\n",
       "    <tr>\n",
       "      <th>56084</th>\n",
       "      <td>399</td>\n",
       "      <td>2022080513</td>\n",
       "      <td>2</td>\n",
       "      <td>0</td>\n",
       "      <td>3.7</td>\n",
       "      <td>280</td>\n",
       "      <td>eor</td>\n",
       "    </tr>\n",
       "    <tr>\n",
       "      <th>20038</th>\n",
       "      <td>399</td>\n",
       "      <td>2017120412</td>\n",
       "      <td>2</td>\n",
       "      <td>0</td>\n",
       "      <td>13.2</td>\n",
       "      <td>310</td>\n",
       "      <td>eor</td>\n",
       "    </tr>\n",
       "  </tbody>\n",
       "</table>\n",
       "</div>"
      ],
      "text/plain": [
       "       stations_id        date  quality_level  structure_version  wind_speed  \\\n",
       "41700          399  2020120715              2                  0         5.8   \n",
       "38140          399  2020052200              2                  0        10.1   \n",
       "31042          399  2019030900              2                  0        13.8   \n",
       "56084          399  2022080513              2                  0         3.7   \n",
       "20038          399  2017120412              2                  0        13.2   \n",
       "\n",
       "       wind_direction  eor  \n",
       "41700             190  eor  \n",
       "38140             150  eor  \n",
       "31042             250  eor  \n",
       "56084             280  eor  \n",
       "20038             310  eor  "
      ]
     },
     "execution_count": 7,
     "metadata": {},
     "output_type": "execute_result"
    }
   ],
   "source": [
    "file_path_berlin = os.path.join(\"..\", \"winddaten_berlin\",\"produkt_wind_399_akt.txt\")# join because different os use either \\ or / as file path seperators\n",
    "weather_station = pd.read_csv(file_path_berlin, names=['stations_id','date','quality_level','structure_version', 'wind_speed', 'wind_direction', 'eor'], skiprows=1, sep=';') \n",
    "# TODO rename names\n",
    "weather_station.sample(5)"
   ]
  },
  {
   "cell_type": "code",
   "execution_count": 8,
   "id": "6a6ae533-a54f-4266-9233-b557c70f8bfd",
   "metadata": {},
   "outputs": [
    {
     "data": {
      "text/html": [
       "<div>\n",
       "<style scoped>\n",
       "    .dataframe tbody tr th:only-of-type {\n",
       "        vertical-align: middle;\n",
       "    }\n",
       "\n",
       "    .dataframe tbody tr th {\n",
       "        vertical-align: top;\n",
       "    }\n",
       "\n",
       "    .dataframe thead th {\n",
       "        text-align: right;\n",
       "    }\n",
       "</style>\n",
       "<table border=\"1\" class=\"dataframe\">\n",
       "  <thead>\n",
       "    <tr style=\"text-align: right;\">\n",
       "      <th></th>\n",
       "      <th>stations_id</th>\n",
       "      <th>date</th>\n",
       "      <th>quality_level</th>\n",
       "      <th>structure_version</th>\n",
       "      <th>wind_speed</th>\n",
       "      <th>wind_direction</th>\n",
       "      <th>eor</th>\n",
       "      <th>datetime</th>\n",
       "    </tr>\n",
       "  </thead>\n",
       "  <tbody>\n",
       "    <tr>\n",
       "      <th>9806</th>\n",
       "      <td>399</td>\n",
       "      <td>2016100307</td>\n",
       "      <td>2</td>\n",
       "      <td>0</td>\n",
       "      <td>1.6</td>\n",
       "      <td>130</td>\n",
       "      <td>eor</td>\n",
       "      <td>2016-10-03 07:00:00</td>\n",
       "    </tr>\n",
       "    <tr>\n",
       "      <th>36911</th>\n",
       "      <td>399</td>\n",
       "      <td>2020032813</td>\n",
       "      <td>2</td>\n",
       "      <td>0</td>\n",
       "      <td>7.0</td>\n",
       "      <td>340</td>\n",
       "      <td>eor</td>\n",
       "      <td>2020-03-28 13:00:00</td>\n",
       "    </tr>\n",
       "    <tr>\n",
       "      <th>37730</th>\n",
       "      <td>399</td>\n",
       "      <td>2020050116</td>\n",
       "      <td>2</td>\n",
       "      <td>0</td>\n",
       "      <td>6.0</td>\n",
       "      <td>220</td>\n",
       "      <td>eor</td>\n",
       "      <td>2020-05-01 16:00:00</td>\n",
       "    </tr>\n",
       "    <tr>\n",
       "      <th>10578</th>\n",
       "      <td>399</td>\n",
       "      <td>2016110411</td>\n",
       "      <td>2</td>\n",
       "      <td>0</td>\n",
       "      <td>9.1</td>\n",
       "      <td>230</td>\n",
       "      <td>eor</td>\n",
       "      <td>2016-11-04 11:00:00</td>\n",
       "    </tr>\n",
       "    <tr>\n",
       "      <th>13789</th>\n",
       "      <td>399</td>\n",
       "      <td>2017031806</td>\n",
       "      <td>2</td>\n",
       "      <td>0</td>\n",
       "      <td>15.6</td>\n",
       "      <td>220</td>\n",
       "      <td>eor</td>\n",
       "      <td>2017-03-18 06:00:00</td>\n",
       "    </tr>\n",
       "  </tbody>\n",
       "</table>\n",
       "</div>"
      ],
      "text/plain": [
       "       stations_id        date  quality_level  structure_version  wind_speed  \\\n",
       "9806           399  2016100307              2                  0         1.6   \n",
       "36911          399  2020032813              2                  0         7.0   \n",
       "37730          399  2020050116              2                  0         6.0   \n",
       "10578          399  2016110411              2                  0         9.1   \n",
       "13789          399  2017031806              2                  0        15.6   \n",
       "\n",
       "       wind_direction  eor            datetime  \n",
       "9806              130  eor 2016-10-03 07:00:00  \n",
       "36911             340  eor 2020-03-28 13:00:00  \n",
       "37730             220  eor 2020-05-01 16:00:00  \n",
       "10578             230  eor 2016-11-04 11:00:00  \n",
       "13789             220  eor 2017-03-18 06:00:00  "
      ]
     },
     "execution_count": 8,
     "metadata": {},
     "output_type": "execute_result"
    }
   ],
   "source": [
    "# Convert the 'dates' column to datetime and store it in a new column 'datetime'\n",
    "weather_station.loc[:,'datetime'] = pd.to_datetime(weather_station['date'], format='%Y%m%d%H')\n",
    "weather_station.sample(5)"
   ]
  },
  {
   "cell_type": "code",
   "execution_count": 9,
   "id": "c657b4e5-8246-4a30-952b-35135d7fc680",
   "metadata": {},
   "outputs": [
    {
     "name": "stdout",
     "output_type": "stream",
     "text": [
      "<class 'pandas.core.frame.DataFrame'>\n",
      "RangeIndex: 65861 entries, 0 to 65860\n",
      "Data columns (total 3 columns):\n",
      " #   Column          Non-Null Count  Dtype         \n",
      "---  ------          --------------  -----         \n",
      " 0   datetime        65861 non-null  datetime64[ns]\n",
      " 1   wind_speed      65861 non-null  float64       \n",
      " 2   wind_direction  65861 non-null  int64         \n",
      "dtypes: datetime64[ns](1), float64(1), int64(1)\n",
      "memory usage: 1.5 MB\n"
     ]
    }
   ],
   "source": [
    "# Filter neccessary rows\n",
    "weather_station_reduced = weather_station[['datetime','wind_speed','wind_direction']]\n",
    "weather_station_reduced.info()"
   ]
  },
  {
   "cell_type": "code",
   "execution_count": 10,
   "id": "fdf667c1-ab75-414e-b19e-6f1b58c8569e",
   "metadata": {},
   "outputs": [
    {
     "data": {
      "text/html": [
       "<div>\n",
       "<style scoped>\n",
       "    .dataframe tbody tr th:only-of-type {\n",
       "        vertical-align: middle;\n",
       "    }\n",
       "\n",
       "    .dataframe tbody tr th {\n",
       "        vertical-align: top;\n",
       "    }\n",
       "\n",
       "    .dataframe thead th {\n",
       "        text-align: right;\n",
       "    }\n",
       "</style>\n",
       "<table border=\"1\" class=\"dataframe\">\n",
       "  <thead>\n",
       "    <tr style=\"text-align: right;\">\n",
       "      <th></th>\n",
       "      <th>datetime</th>\n",
       "      <th>wind_speed</th>\n",
       "      <th>wind_direction</th>\n",
       "    </tr>\n",
       "  </thead>\n",
       "  <tbody>\n",
       "    <tr>\n",
       "      <th>49249</th>\n",
       "      <td>2021-10-24 10:00:00</td>\n",
       "      <td>8.6</td>\n",
       "      <td>180</td>\n",
       "    </tr>\n",
       "    <tr>\n",
       "      <th>23181</th>\n",
       "      <td>2018-04-15 11:00:00</td>\n",
       "      <td>4.8</td>\n",
       "      <td>120</td>\n",
       "    </tr>\n",
       "    <tr>\n",
       "      <th>38635</th>\n",
       "      <td>2020-08-01 22:00:00</td>\n",
       "      <td>10.5</td>\n",
       "      <td>130</td>\n",
       "    </tr>\n",
       "    <tr>\n",
       "      <th>60627</th>\n",
       "      <td>2023-11-06 10:00:00</td>\n",
       "      <td>14.5</td>\n",
       "      <td>250</td>\n",
       "    </tr>\n",
       "    <tr>\n",
       "      <th>29253</th>\n",
       "      <td>2018-12-24 11:00:00</td>\n",
       "      <td>8.9</td>\n",
       "      <td>330</td>\n",
       "    </tr>\n",
       "  </tbody>\n",
       "</table>\n",
       "</div>"
      ],
      "text/plain": [
       "                 datetime  wind_speed  wind_direction\n",
       "49249 2021-10-24 10:00:00         8.6             180\n",
       "23181 2018-04-15 11:00:00         4.8             120\n",
       "38635 2020-08-01 22:00:00        10.5             130\n",
       "60627 2023-11-06 10:00:00        14.5             250\n",
       "29253 2018-12-24 11:00:00         8.9             330"
      ]
     },
     "execution_count": 10,
     "metadata": {},
     "output_type": "execute_result"
    }
   ],
   "source": [
    "weather_station_reduced.sample(5)"
   ]
  },
  {
   "cell_type": "markdown",
   "id": "ce3a0afb-006a-47d5-b0a4-94e4747f768d",
   "metadata": {},
   "source": [
    "#### Merge df_reduced and weather_station_reduced based on datetime/DATETIME"
   ]
  },
  {
   "cell_type": "code",
   "execution_count": 11,
   "id": "ee2b3417-33e8-4f1d-8d9a-de830f5692e2",
   "metadata": {},
   "outputs": [
    {
     "name": "stdout",
     "output_type": "stream",
     "text": [
      "<class 'pandas.core.frame.DataFrame'>\n",
      "RangeIndex: 542865 entries, 0 to 542864\n",
      "Data columns (total 6 columns):\n",
      " #   Column          Non-Null Count   Dtype         \n",
      "---  ------          --------------   -----         \n",
      " 0   datetime        542865 non-null  datetime64[ns]\n",
      " 1   station         542555 non-null  object        \n",
      " 2   core            542555 non-null  object        \n",
      " 3   value           539422 non-null  float64       \n",
      " 4   wind_speed      311477 non-null  float64       \n",
      " 5   wind_direction  311477 non-null  float64       \n",
      "dtypes: datetime64[ns](1), float64(3), object(2)\n",
      "memory usage: 24.9+ MB\n"
     ]
    }
   ],
   "source": [
    "df_merged = pd.merge(df_reduced, weather_station_reduced, on='datetime', how='outer')\n",
    "df_merged.info()"
   ]
  },
  {
   "cell_type": "code",
   "execution_count": 12,
   "id": "b0331ae0-4252-4a0f-8d91-d1233ce904fa",
   "metadata": {},
   "outputs": [
    {
     "data": {
      "text/html": [
       "<div>\n",
       "<style scoped>\n",
       "    .dataframe tbody tr th:only-of-type {\n",
       "        vertical-align: middle;\n",
       "    }\n",
       "\n",
       "    .dataframe tbody tr th {\n",
       "        vertical-align: top;\n",
       "    }\n",
       "\n",
       "    .dataframe thead th {\n",
       "        text-align: right;\n",
       "    }\n",
       "</style>\n",
       "<table border=\"1\" class=\"dataframe\">\n",
       "  <thead>\n",
       "    <tr style=\"text-align: right;\">\n",
       "      <th></th>\n",
       "      <th>datetime</th>\n",
       "      <th>station</th>\n",
       "      <th>core</th>\n",
       "      <th>value</th>\n",
       "      <th>wind_speed</th>\n",
       "      <th>wind_direction</th>\n",
       "    </tr>\n",
       "  </thead>\n",
       "  <tbody>\n",
       "    <tr>\n",
       "      <th>358664</th>\n",
       "      <td>2020-03-12 03:00:00</td>\n",
       "      <td>mc124</td>\n",
       "      <td>nox</td>\n",
       "      <td>16.0</td>\n",
       "      <td>NaN</td>\n",
       "      <td>NaN</td>\n",
       "    </tr>\n",
       "    <tr>\n",
       "      <th>119567</th>\n",
       "      <td>2013-07-13 02:00:00</td>\n",
       "      <td>mc124</td>\n",
       "      <td>nox</td>\n",
       "      <td>105.0</td>\n",
       "      <td>NaN</td>\n",
       "      <td>NaN</td>\n",
       "    </tr>\n",
       "    <tr>\n",
       "      <th>254511</th>\n",
       "      <td>2017-11-28 04:00:00</td>\n",
       "      <td>mc124</td>\n",
       "      <td>pm2</td>\n",
       "      <td>4.0</td>\n",
       "      <td>15.6</td>\n",
       "      <td>220.0</td>\n",
       "    </tr>\n",
       "    <tr>\n",
       "      <th>359734</th>\n",
       "      <td>2020-03-03 05:00:00</td>\n",
       "      <td>mc124</td>\n",
       "      <td>nox</td>\n",
       "      <td>43.0</td>\n",
       "      <td>8.8</td>\n",
       "      <td>130.0</td>\n",
       "    </tr>\n",
       "    <tr>\n",
       "      <th>312324</th>\n",
       "      <td>2019-02-01 09:00:00</td>\n",
       "      <td>mc124</td>\n",
       "      <td>nox</td>\n",
       "      <td>70.0</td>\n",
       "      <td>16.8</td>\n",
       "      <td>140.0</td>\n",
       "    </tr>\n",
       "  </tbody>\n",
       "</table>\n",
       "</div>"
      ],
      "text/plain": [
       "                  datetime station core  value  wind_speed  wind_direction\n",
       "358664 2020-03-12 03:00:00   mc124  nox   16.0         NaN             NaN\n",
       "119567 2013-07-13 02:00:00   mc124  nox  105.0         NaN             NaN\n",
       "254511 2017-11-28 04:00:00   mc124  pm2    4.0        15.6           220.0\n",
       "359734 2020-03-03 05:00:00   mc124  nox   43.0         8.8           130.0\n",
       "312324 2019-02-01 09:00:00   mc124  nox   70.0        16.8           140.0"
      ]
     },
     "execution_count": 12,
     "metadata": {},
     "output_type": "execute_result"
    }
   ],
   "source": [
    "df_merged.sample(5)"
   ]
  },
  {
   "cell_type": "code",
   "execution_count": 13,
   "id": "fce24805-cee4-4ff4-8f31-fba2ac767648",
   "metadata": {},
   "outputs": [],
   "source": [
    "# EXPORT AS JSON FOR LATER USE (without having to clean again)\n",
    "#json_file_name = 'mc124_plus_wind_data_incl_NaN2.json'\n",
    "#df_filtered.to_json(json_file_name, orient='records')"
   ]
  },
  {
   "cell_type": "code",
   "execution_count": 14,
   "id": "6a91ac15-bb0e-4bb6-86f4-c93ec1bbba65",
   "metadata": {},
   "outputs": [
    {
     "name": "stdout",
     "output_type": "stream",
     "text": [
      "<class 'pandas.core.frame.DataFrame'>\n",
      "Index: 354537 entries, 188328 to 542864\n",
      "Data columns (total 6 columns):\n",
      " #   Column          Non-Null Count   Dtype         \n",
      "---  ------          --------------   -----         \n",
      " 0   datetime        354537 non-null  datetime64[ns]\n",
      " 1   station         354227 non-null  object        \n",
      " 2   core            354227 non-null  object        \n",
      " 3   value           352295 non-null  float64       \n",
      " 4   wind_speed      297587 non-null  float64       \n",
      " 5   wind_direction  297587 non-null  float64       \n",
      "dtypes: datetime64[ns](1), float64(3), object(2)\n",
      "memory usage: 18.9+ MB\n"
     ]
    }
   ],
   "source": [
    "#Deleting all rows before March 2016 since useful pm10 data starts in March 2016\n",
    "#TODO check when other particles where first measured\n",
    "start_date = '2016-03-01'\n",
    "start_date = pd.Timestamp(start_date)\n",
    "df_filtered = df_merged[df_merged['datetime'] >= start_date]\n",
    "df_filtered.info()"
   ]
  },
  {
   "cell_type": "code",
   "execution_count": 15,
   "id": "fad6b444-9077-47f4-a6ed-bc6c7eacf638",
   "metadata": {},
   "outputs": [
    {
     "data": {
      "text/html": [
       "<div>\n",
       "<style scoped>\n",
       "    .dataframe tbody tr th:only-of-type {\n",
       "        vertical-align: middle;\n",
       "    }\n",
       "\n",
       "    .dataframe tbody tr th {\n",
       "        vertical-align: top;\n",
       "    }\n",
       "\n",
       "    .dataframe thead th {\n",
       "        text-align: right;\n",
       "    }\n",
       "</style>\n",
       "<table border=\"1\" class=\"dataframe\">\n",
       "  <thead>\n",
       "    <tr style=\"text-align: right;\">\n",
       "      <th></th>\n",
       "      <th>datetime</th>\n",
       "      <th>station</th>\n",
       "      <th>core</th>\n",
       "      <th>value</th>\n",
       "      <th>wind_speed</th>\n",
       "      <th>wind_direction</th>\n",
       "    </tr>\n",
       "  </thead>\n",
       "  <tbody>\n",
       "    <tr>\n",
       "      <th>188328</th>\n",
       "      <td>2016-03-31 23:00:00</td>\n",
       "      <td>mc124</td>\n",
       "      <td>pm10</td>\n",
       "      <td>16.0</td>\n",
       "      <td>8.3</td>\n",
       "      <td>40.0</td>\n",
       "    </tr>\n",
       "    <tr>\n",
       "      <th>188329</th>\n",
       "      <td>2016-03-31 23:00:00</td>\n",
       "      <td>mc124</td>\n",
       "      <td>no2</td>\n",
       "      <td>31.0</td>\n",
       "      <td>8.3</td>\n",
       "      <td>40.0</td>\n",
       "    </tr>\n",
       "    <tr>\n",
       "      <th>188330</th>\n",
       "      <td>2016-03-31 23:00:00</td>\n",
       "      <td>mc124</td>\n",
       "      <td>no</td>\n",
       "      <td>8.0</td>\n",
       "      <td>8.3</td>\n",
       "      <td>40.0</td>\n",
       "    </tr>\n",
       "    <tr>\n",
       "      <th>188331</th>\n",
       "      <td>2016-03-31 23:00:00</td>\n",
       "      <td>mc124</td>\n",
       "      <td>nox</td>\n",
       "      <td>43.0</td>\n",
       "      <td>8.3</td>\n",
       "      <td>40.0</td>\n",
       "    </tr>\n",
       "    <tr>\n",
       "      <th>188332</th>\n",
       "      <td>2016-03-31 22:00:00</td>\n",
       "      <td>mc124</td>\n",
       "      <td>pm10</td>\n",
       "      <td>22.0</td>\n",
       "      <td>8.4</td>\n",
       "      <td>40.0</td>\n",
       "    </tr>\n",
       "  </tbody>\n",
       "</table>\n",
       "</div>"
      ],
      "text/plain": [
       "                  datetime station  core  value  wind_speed  wind_direction\n",
       "188328 2016-03-31 23:00:00   mc124  pm10   16.0         8.3            40.0\n",
       "188329 2016-03-31 23:00:00   mc124   no2   31.0         8.3            40.0\n",
       "188330 2016-03-31 23:00:00   mc124    no    8.0         8.3            40.0\n",
       "188331 2016-03-31 23:00:00   mc124   nox   43.0         8.3            40.0\n",
       "188332 2016-03-31 22:00:00   mc124  pm10   22.0         8.4            40.0"
      ]
     },
     "execution_count": 15,
     "metadata": {},
     "output_type": "execute_result"
    }
   ],
   "source": [
    "df_filtered.head()"
   ]
  },
  {
   "cell_type": "markdown",
   "id": "7039acba-f03f-44ff-a5ef-9952c036dd46",
   "metadata": {},
   "source": [
    "#### Create heatmap and scatter plots to visualise relationship betwen pm10 wind_speed and wind_direction"
   ]
  },
  {
   "cell_type": "code",
   "execution_count": 16,
   "id": "4c7698fe-5d6a-422b-8b11-f246668ffdb3",
   "metadata": {},
   "outputs": [
    {
     "name": "stdout",
     "output_type": "stream",
     "text": [
      "<class 'pandas.core.frame.DataFrame'>\n",
      "Index: 354537 entries, 188328 to 542864\n",
      "Data columns (total 5 columns):\n",
      " #   Column          Non-Null Count   Dtype         \n",
      "---  ------          --------------   -----         \n",
      " 0   datetime        354537 non-null  datetime64[ns]\n",
      " 1   core            354227 non-null  object        \n",
      " 2   value           352295 non-null  float64       \n",
      " 3   wind_speed      297587 non-null  float64       \n",
      " 4   wind_direction  297587 non-null  float64       \n",
      "dtypes: datetime64[ns](1), float64(3), object(1)\n",
      "memory usage: 16.2+ MB\n"
     ]
    }
   ],
   "source": [
    "df_filtered = df_filtered.drop(columns=['station'])\n",
    "#df_filtered = df_filtered.drop(columns=['station', 'datetime'])\n",
    "df_filtered.info()"
   ]
  },
  {
   "cell_type": "code",
   "execution_count": 17,
   "id": "f3123b91-6a44-47e1-a171-ee69f0c7e24d",
   "metadata": {},
   "outputs": [
    {
     "name": "stdout",
     "output_type": "stream",
     "text": [
      "Correlation Matrix:\n",
      "                datetime  NaN        no       no2       nox      pm10  \\\n",
      "datetime        1.000000  NaN -0.242807 -0.343725 -0.283212 -0.087735   \n",
      "NaN                  NaN  NaN       NaN       NaN       NaN       NaN   \n",
      "no             -0.242807  NaN  1.000000  0.761484  0.980164  0.252599   \n",
      "no2            -0.343725  NaN  0.761484  1.000000  0.863944  0.275885   \n",
      "nox            -0.283212  NaN  0.980164  0.863944  1.000000  0.267086   \n",
      "pm10           -0.087735  NaN  0.252599  0.275885  0.267086  1.000000   \n",
      "pm2            -0.135405  NaN  0.204922  0.175452  0.203974  0.882997   \n",
      "wind_speed      0.069484  NaN -0.216030 -0.310966 -0.253485 -0.225838   \n",
      "wind_direction -0.000502  NaN  0.265513  0.234550  0.271277 -0.117976   \n",
      "\n",
      "                     pm2  wind_speed  wind_direction  \n",
      "datetime       -0.135405    0.069484       -0.000502  \n",
      "NaN                  NaN         NaN             NaN  \n",
      "no              0.204922   -0.216030        0.265513  \n",
      "no2             0.175452   -0.310966        0.234550  \n",
      "nox             0.203974   -0.253485        0.271277  \n",
      "pm10            0.882997   -0.225838       -0.117976  \n",
      "pm2             1.000000   -0.184645       -0.141656  \n",
      "wind_speed     -0.184645    1.000000        0.136419  \n",
      "wind_direction -0.141656    0.136419        1.000000  \n"
     ]
    }
   ],
   "source": [
    "# Pivot the DataFrame\n",
    "df_pivot = df_filtered.pivot(index='datetime', columns='core', values='value')\n",
    "\n",
    "# Include other columns by merging them back to the pivoted DataFrame\n",
    "df_pivot = df_pivot.merge(df_filtered[['datetime', 'wind_speed', 'wind_direction']].drop_duplicates().dropna(), on='datetime')\n",
    "\n",
    "# Calculate the Correlation Matrix\n",
    "correlation_matrix = df_pivot.corr()\n",
    "\n",
    "print(\"Correlation Matrix:\")\n",
    "print(correlation_matrix)"
   ]
  },
  {
   "cell_type": "code",
   "execution_count": 18,
   "id": "a5f2b5f7-8149-4678-afe1-181081531ddd",
   "metadata": {},
   "outputs": [
    {
     "data": {
      "image/png": "[encoded data removed]",
      "text/plain": [
       "<Figure size 640x480 with 2 Axes>"
      ]
     },
     "metadata": {},
     "output_type": "display_data"
    }
   ],
   "source": [
    "# show heatmap with seaborn\n",
    "sns.heatmap(correlation_matrix, annot=True, cmap='coolwarm', fmt=\".2f\")\n",
    "plt.title(\"Correlation Heatmap - Verkehr\")\n",
    "plt.show()"
   ]
  },
  {
   "cell_type": "code",
   "execution_count": 19,
   "id": "58d4a994-197b-4b4f-b26c-e07a0c2c4c69",
   "metadata": {},
   "outputs": [
    {
     "name": "stdout",
     "output_type": "stream",
     "text": [
      "Correlation Matrix:\n",
      "                datetime      pm10  wind_speed  wind_direction\n",
      "datetime        1.000000 -0.087735    0.073614       -0.003760\n",
      "pm10           -0.087735  1.000000   -0.225838       -0.117976\n",
      "wind_speed      0.073614 -0.225838    1.000000        0.137242\n",
      "wind_direction -0.003760 -0.117976    0.137242        1.000000\n"
     ]
    },
    {
     "data": {
      "image/png": "[encoded data removed]",
      "text/plain": [
       "<Figure size 640x480 with 2 Axes>"
      ]
     },
     "metadata": {},
     "output_type": "display_data"
    }
   ],
   "source": [
    "df_filtered = df_filtered[(df_filtered['core'] == 'pm10')]\n",
    "df_reduced = df_filtered[['core', 'wind_speed', 'wind_direction']]\n",
    "\n",
    "# Pivot the DataFrame\n",
    "df_pivot = df_filtered.pivot(index='datetime', columns='core', values='value')\n",
    "\n",
    "# Include other columns by merging them back to the pivoted DataFrame\n",
    "df_pivot = df_pivot.merge(df_filtered[['datetime', 'wind_speed', 'wind_direction']].drop_duplicates().dropna(), on='datetime')\n",
    "\n",
    "# Calculate the Correlation Matrix\n",
    "correlation_matrix = df_pivot.corr()\n",
    "\n",
    "print(\"Correlation Matrix:\")\n",
    "print(correlation_matrix)\n",
    "\n",
    "# show heatmap with seaborn\n",
    "sns.heatmap(correlation_matrix, annot=True, cmap='coolwarm', fmt=\".2f\")\n",
    "plt.title(\"Correlation Heatmap\")\n",
    "plt.show()"
   ]
  },
  {
   "cell_type": "markdown",
   "id": "13c6032b-82c4-4694-829d-f6ba7b036c8b",
   "metadata": {},
   "source": [
    "#### KEEP IN MIND:\n",
    "- when pm10 is not measured pm2 is also not measured\n",
    "    - remove it from the features when training\n",
    "- TODO: andere Feinstaubstationen hinzufügen (später) (durchschnitt), h-1 - h - h+1\n",
    "- Datensatz mit Bike Rentals (aus den Filter)\n",
    "- when adding multiple feinstaubstationen add columns with enum for Gebiet / Category it's in. f.e. \"städtisches Wohngebiet\""
   ]
  },
  {
   "cell_type": "markdown",
   "id": "2bcba53f-3a49-40d4-aaba-2675d2042760",
   "metadata": {},
   "source": [
    "# TODO y-data profiling\n",
    "Ultrafeinstaub & Starkregen \n",
    "\n",
    "gleiche API: \n",
    "- Semesteraufgabe: Visualisierung aller Daten im Sommer über ein paar Wochen\n",
    "- nicht alle Stationen liefern verlässlich Daten\n",
    "- verschiedene Kategorien an Werten\n",
    "- Kohlenmonoxidwerte in einer anderen Einheit ab und zu\n",
    "- alle Daten in dictionaries -> ein Objekt mit allen Station Infos, ein Objekt mit den Werten\n",
    "- Charts anzeigen lassen --> Programm starten\n",
    "\n",
    "Uber Luftdatenapp -- Uber Luft(qualität)"
   ]
  }
 ],
 "metadata": {
  "kernelspec": {
   "display_name": "Python 3 (ipykernel)",
   "language": "python",
   "name": "python3"
  },
  "language_info": {
   "codemirror_mode": {
    "name": "ipython",
    "version": 3
   },
   "file_extension": ".py",
   "mimetype": "text/x-python",
   "name": "python",
   "nbconvert_exporter": "python",
   "pygments_lexer": "ipython3",
   "version": "3.11.8"
  }
 },
 "nbformat": 4,
 "nbformat_minor": 5
}
