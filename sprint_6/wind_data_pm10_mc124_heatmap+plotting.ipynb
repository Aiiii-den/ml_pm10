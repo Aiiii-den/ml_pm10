{
 "cells": [
  {
   "cell_type": "markdown",
   "id": "745125fd-6458-47fc-97eb-ee780af57b5a",
   "metadata": {},
   "source": [
    "### Analysis wind information and pm10"
   ]
  },
  {
   "cell_type": "code",
   "execution_count": 1,
   "id": "172e7ec5-2a75-4053-82f9-c8b5e27a28f6",
   "metadata": {},
   "outputs": [],
   "source": [
    "# GET ALL THE JSONS INTO ONE DATAFRAME\n",
    "import pandas as pd\n",
    "import matplotlib.pyplot as plt\n",
    "import seaborn as sns\n",
    "import numpy as np\n",
    "import os\n",
    "import json\n",
    "import glob"
   ]
  },
  {
   "cell_type": "markdown",
   "id": "3d2f62b2-3289-4403-9ff4-760dcb2fb094",
   "metadata": {},
   "source": [
    "#### Get all the pm10 files and keep columns which contain pm10"
   ]
  },
  {
   "cell_type": "code",
   "execution_count": 2,
   "id": "8545916f-82b3-43c9-b0bb-dfb3f14f7c13",
   "metadata": {},
   "outputs": [
    {
     "name": "stdout",
     "output_type": "stream",
     "text": [
      "Combined dataframe shape: (542555, 6)\n"
     ]
    }
   ],
   "source": [
    "# Set the search path for files (assuming the directory is relative to the current script)\n",
    "file_path_mc124 = os.path.join(\"mc124_data\", \"*.json\")\n",
    "files = glob.glob(file_path_mc124)\n",
    "\n",
    "# Create empty list to store dataframes\n",
    "li_all_files = []\n",
    "\n",
    "# Loop through list of files and read each one into a dataframe and append to list\n",
    "for f in files:\n",
    "    # Read in json\n",
    "    temp_df = pd.read_json(f)\n",
    "    # Append df to list\n",
    "    li_all_files.append(temp_df)\n",
    "\n",
    "# Optionally concatenate all dataframes into one if needed\n",
    "if li_all_files:\n",
    "    combined_df = pd.concat(li_all_files)\n",
    "    print(f'Combined dataframe shape: {combined_df.shape}')\n",
    "else:\n",
    "    print('No dataframes were created.')"
   ]
  },
  {
   "cell_type": "code",
   "execution_count": 3,
   "id": "feb413e3-cc7c-4d74-9b76-48fc65b40fa2",
   "metadata": {},
   "outputs": [
    {
     "data": {
      "text/html": [
       "<div>\n",
       "<style scoped>\n",
       "    .dataframe tbody tr th:only-of-type {\n",
       "        vertical-align: middle;\n",
       "    }\n",
       "\n",
       "    .dataframe tbody tr th {\n",
       "        vertical-align: top;\n",
       "    }\n",
       "\n",
       "    .dataframe thead th {\n",
       "        text-align: right;\n",
       "    }\n",
       "</style>\n",
       "<table border=\"1\" class=\"dataframe\">\n",
       "  <thead>\n",
       "    <tr style=\"text-align: right;\">\n",
       "      <th></th>\n",
       "      <th>datetime</th>\n",
       "      <th>pm10</th>\n",
       "    </tr>\n",
       "  </thead>\n",
       "  <tbody>\n",
       "    <tr>\n",
       "      <th>1705</th>\n",
       "      <td>2017-10-17T18:00:00+02:00</td>\n",
       "      <td>55.0</td>\n",
       "    </tr>\n",
       "    <tr>\n",
       "      <th>2410</th>\n",
       "      <td>2018-12-11 21:00:00+01:00</td>\n",
       "      <td>9.0</td>\n",
       "    </tr>\n",
       "    <tr>\n",
       "      <th>764</th>\n",
       "      <td>2016-10-24T00:00:00+02:00</td>\n",
       "      <td>26.0</td>\n",
       "    </tr>\n",
       "  </tbody>\n",
       "</table>\n",
       "</div>"
      ],
      "text/plain": [
       "                       datetime  pm10\n",
       "1705  2017-10-17T18:00:00+02:00  55.0\n",
       "2410  2018-12-11 21:00:00+01:00   9.0\n",
       "764   2016-10-24T00:00:00+02:00  26.0"
      ]
     },
     "execution_count": 3,
     "metadata": {},
     "output_type": "execute_result"
    }
   ],
   "source": [
    "# FILTER BY pm10 AND ONLY KEEP THE DATETIME AND VALUE FEATURE SINCE THE REST ARE CONSTANT INFORMATION (station, core, component, period)\n",
    "df_pm10 = combined_df[(combined_df['core'] == 'pm10')]\n",
    "df_pm10_reduced = df_pm10[['datetime', 'value']]\n",
    "df_pm10_reduced = df_pm10_reduced.rename(columns={'value': 'pm10'})\n",
    "df_pm10_reduced.sample(3)"
   ]
  },
  {
   "cell_type": "code",
   "execution_count": 4,
   "id": "9a8dc1b4-e6aa-475a-86d2-a0c1cf02e78f",
   "metadata": {},
   "outputs": [
    {
     "name": "stdout",
     "output_type": "stream",
     "text": [
      "<class 'pandas.core.frame.DataFrame'>\n",
      "Index: 72314 entries, 0 to 3650\n",
      "Data columns (total 2 columns):\n",
      " #   Column    Non-Null Count  Dtype         \n",
      "---  ------    --------------  -----         \n",
      " 0   datetime  72314 non-null  datetime64[ns]\n",
      " 1   pm10      71471 non-null  float64       \n",
      "dtypes: datetime64[ns](1), float64(1)\n",
      "memory usage: 1.7 MB\n"
     ]
    }
   ],
   "source": [
    "# CUT OFF THE TIMEZONE INFORMATION FROM THE DATETIME TO AVOID CONVERSION ISSUES DUE TO TIME CHANGE IN MARCH AND OCTOBER\n",
    "df_pm10_reduced.loc[:, 'datetime'] = df_pm10_reduced['datetime'].astype(str).str.slice(0, 19)\n",
    "#df_pm10_reduced.loc[:, 'datetime'] = pd.to_datetime(df_pm10_reduced['datetime'], format='mixed')\n",
    "df_pm10_reduced['datetime'] = pd.to_datetime(df_pm10_reduced['datetime'], format='mixed')\n",
    "df_pm10_reduced.loc[:, 'datetime'] = df_pm10_reduced['datetime'].dt.tz_localize(None)\n",
    "df_pm10_reduced.info()"
   ]
  },
  {
   "cell_type": "code",
   "execution_count": 5,
   "id": "67d48893-45a3-447c-8607-99a44ff2b522",
   "metadata": {},
   "outputs": [
    {
     "data": {
      "text/html": [
       "<div>\n",
       "<style scoped>\n",
       "    .dataframe tbody tr th:only-of-type {\n",
       "        vertical-align: middle;\n",
       "    }\n",
       "\n",
       "    .dataframe tbody tr th {\n",
       "        vertical-align: top;\n",
       "    }\n",
       "\n",
       "    .dataframe thead th {\n",
       "        text-align: right;\n",
       "    }\n",
       "</style>\n",
       "<table border=\"1\" class=\"dataframe\">\n",
       "  <thead>\n",
       "    <tr style=\"text-align: right;\">\n",
       "      <th></th>\n",
       "      <th>datetime</th>\n",
       "      <th>pm10</th>\n",
       "    </tr>\n",
       "  </thead>\n",
       "  <tbody>\n",
       "    <tr>\n",
       "      <th>2365</th>\n",
       "      <td>2024-05-11 17:00:00</td>\n",
       "      <td>14.0</td>\n",
       "    </tr>\n",
       "    <tr>\n",
       "      <th>2610</th>\n",
       "      <td>2017-04-09 05:00:00</td>\n",
       "      <td>20.0</td>\n",
       "    </tr>\n",
       "    <tr>\n",
       "      <th>15</th>\n",
       "      <td>2018-10-31 20:00:00</td>\n",
       "      <td>24.0</td>\n",
       "    </tr>\n",
       "    <tr>\n",
       "      <th>40</th>\n",
       "      <td>2018-08-31 15:00:00</td>\n",
       "      <td>16.0</td>\n",
       "    </tr>\n",
       "    <tr>\n",
       "      <th>2170</th>\n",
       "      <td>2023-05-13 21:00:00</td>\n",
       "      <td>19.0</td>\n",
       "    </tr>\n",
       "  </tbody>\n",
       "</table>\n",
       "</div>"
      ],
      "text/plain": [
       "                datetime  pm10\n",
       "2365 2024-05-11 17:00:00  14.0\n",
       "2610 2017-04-09 05:00:00  20.0\n",
       "15   2018-10-31 20:00:00  24.0\n",
       "40   2018-08-31 15:00:00  16.0\n",
       "2170 2023-05-13 21:00:00  19.0"
      ]
     },
     "execution_count": 5,
     "metadata": {},
     "output_type": "execute_result"
    }
   ],
   "source": [
    "df_pm10_reduced.sample(5)"
   ]
  },
  {
   "cell_type": "markdown",
   "id": "e1f3fbff-8929-4b07-ac59-2a7cc6cd7e64",
   "metadata": {},
   "source": [
    "#### Load wind data and filter for wind speed and wind direction"
   ]
  },
  {
   "cell_type": "markdown",
   "id": "18f3495e-02c5-41c7-bd10-e91fb722f4f0",
   "metadata": {},
   "source": [
    "##### Erklärung Windrichtung  \n",
    "https://www.dwd.de/DE/service/lexikon/Functions/glossar.html?lv3=103182&lv2=102936  \n",
    "Die Windrichtung wird bestimmt nach dem Polarwinkel (Azimut). Zur Richtungsangabe benutzt man die 360 Grad Skala des Kreises.   \n",
    "Alle Richtungsangaben in Grad sind recht weisend auf geografisch Nord bezogen, d.h.\n",
    "Ost  =  90 Grad,  \n",
    "Süd  =  180 Grad,  \n",
    "West =  270 Grad,   \n",
    "Nord =  360 Grad.  "
   ]
  },
  {
   "cell_type": "code",
   "execution_count": 6,
   "id": "790b520f-fe63-42b7-91c8-d02974e3fe02",
   "metadata": {},
   "outputs": [
    {
     "data": {
      "text/html": [
       "<div>\n",
       "<style scoped>\n",
       "    .dataframe tbody tr th:only-of-type {\n",
       "        vertical-align: middle;\n",
       "    }\n",
       "\n",
       "    .dataframe tbody tr th {\n",
       "        vertical-align: top;\n",
       "    }\n",
       "\n",
       "    .dataframe thead th {\n",
       "        text-align: right;\n",
       "    }\n",
       "</style>\n",
       "<table border=\"1\" class=\"dataframe\">\n",
       "  <thead>\n",
       "    <tr style=\"text-align: right;\">\n",
       "      <th></th>\n",
       "      <th>stations_id</th>\n",
       "      <th>date</th>\n",
       "      <th>quality_level</th>\n",
       "      <th>structure_version</th>\n",
       "      <th>wind_speed</th>\n",
       "      <th>wind_direction</th>\n",
       "      <th>eor</th>\n",
       "    </tr>\n",
       "  </thead>\n",
       "  <tbody>\n",
       "    <tr>\n",
       "      <th>93</th>\n",
       "      <td>399</td>\n",
       "      <td>2015082400</td>\n",
       "      <td>2</td>\n",
       "      <td>0</td>\n",
       "      <td>14.5</td>\n",
       "      <td>140</td>\n",
       "      <td>eor</td>\n",
       "    </tr>\n",
       "    <tr>\n",
       "      <th>54215</th>\n",
       "      <td>399</td>\n",
       "      <td>2022051908</td>\n",
       "      <td>2</td>\n",
       "      <td>0</td>\n",
       "      <td>5.4</td>\n",
       "      <td>220</td>\n",
       "      <td>eor</td>\n",
       "    </tr>\n",
       "    <tr>\n",
       "      <th>42902</th>\n",
       "      <td>399</td>\n",
       "      <td>2021012617</td>\n",
       "      <td>2</td>\n",
       "      <td>0</td>\n",
       "      <td>10.3</td>\n",
       "      <td>280</td>\n",
       "      <td>eor</td>\n",
       "    </tr>\n",
       "    <tr>\n",
       "      <th>14634</th>\n",
       "      <td>399</td>\n",
       "      <td>2017042211</td>\n",
       "      <td>2</td>\n",
       "      <td>0</td>\n",
       "      <td>12.2</td>\n",
       "      <td>290</td>\n",
       "      <td>eor</td>\n",
       "    </tr>\n",
       "    <tr>\n",
       "      <th>38862</th>\n",
       "      <td>399</td>\n",
       "      <td>2020081109</td>\n",
       "      <td>2</td>\n",
       "      <td>0</td>\n",
       "      <td>5.9</td>\n",
       "      <td>80</td>\n",
       "      <td>eor</td>\n",
       "    </tr>\n",
       "  </tbody>\n",
       "</table>\n",
       "</div>"
      ],
      "text/plain": [
       "       stations_id        date  quality_level  structure_version  wind_speed  \\\n",
       "93             399  2015082400              2                  0        14.5   \n",
       "54215          399  2022051908              2                  0         5.4   \n",
       "42902          399  2021012617              2                  0        10.3   \n",
       "14634          399  2017042211              2                  0        12.2   \n",
       "38862          399  2020081109              2                  0         5.9   \n",
       "\n",
       "       wind_direction  eor  \n",
       "93                140  eor  \n",
       "54215             220  eor  \n",
       "42902             280  eor  \n",
       "14634             290  eor  \n",
       "38862              80  eor  "
      ]
     },
     "execution_count": 6,
     "metadata": {},
     "output_type": "execute_result"
    }
   ],
   "source": [
    "file_path_berlin = os.path.join(\"..\", \"winddaten_berlin\",\"produkt_wind_399_akt.txt\")# join because different os use either \\ or / as file path separators\n",
    "weather_station = pd.read_csv(file_path_berlin, names=['stations_id','date','quality_level','structure_version', 'wind_speed', 'wind_direction', 'eor'], skiprows=1, sep=';') \n",
    "# TODO rename names\n",
    "weather_station.sample(5)"
   ]
  },
  {
   "cell_type": "code",
   "execution_count": 7,
   "id": "6a6ae533-a54f-4266-9233-b557c70f8bfd",
   "metadata": {},
   "outputs": [
    {
     "data": {
      "text/html": [
       "<div>\n",
       "<style scoped>\n",
       "    .dataframe tbody tr th:only-of-type {\n",
       "        vertical-align: middle;\n",
       "    }\n",
       "\n",
       "    .dataframe tbody tr th {\n",
       "        vertical-align: top;\n",
       "    }\n",
       "\n",
       "    .dataframe thead th {\n",
       "        text-align: right;\n",
       "    }\n",
       "</style>\n",
       "<table border=\"1\" class=\"dataframe\">\n",
       "  <thead>\n",
       "    <tr style=\"text-align: right;\">\n",
       "      <th></th>\n",
       "      <th>stations_id</th>\n",
       "      <th>date</th>\n",
       "      <th>quality_level</th>\n",
       "      <th>structure_version</th>\n",
       "      <th>wind_speed</th>\n",
       "      <th>wind_direction</th>\n",
       "      <th>eor</th>\n",
       "      <th>datetime</th>\n",
       "    </tr>\n",
       "  </thead>\n",
       "  <tbody>\n",
       "    <tr>\n",
       "      <th>24714</th>\n",
       "      <td>399</td>\n",
       "      <td>2018061808</td>\n",
       "      <td>2</td>\n",
       "      <td>0</td>\n",
       "      <td>2.0</td>\n",
       "      <td>270</td>\n",
       "      <td>eor</td>\n",
       "      <td>2018-06-18 08:00:00</td>\n",
       "    </tr>\n",
       "    <tr>\n",
       "      <th>14866</th>\n",
       "      <td>399</td>\n",
       "      <td>2017050203</td>\n",
       "      <td>2</td>\n",
       "      <td>0</td>\n",
       "      <td>16.2</td>\n",
       "      <td>80</td>\n",
       "      <td>eor</td>\n",
       "      <td>2017-05-02 03:00:00</td>\n",
       "    </tr>\n",
       "    <tr>\n",
       "      <th>5576</th>\n",
       "      <td>399</td>\n",
       "      <td>2016040910</td>\n",
       "      <td>2</td>\n",
       "      <td>0</td>\n",
       "      <td>2.9</td>\n",
       "      <td>40</td>\n",
       "      <td>eor</td>\n",
       "      <td>2016-04-09 10:00:00</td>\n",
       "    </tr>\n",
       "    <tr>\n",
       "      <th>2114</th>\n",
       "      <td>399</td>\n",
       "      <td>2015111613</td>\n",
       "      <td>2</td>\n",
       "      <td>0</td>\n",
       "      <td>14.4</td>\n",
       "      <td>250</td>\n",
       "      <td>eor</td>\n",
       "      <td>2015-11-16 13:00:00</td>\n",
       "    </tr>\n",
       "    <tr>\n",
       "      <th>2193</th>\n",
       "      <td>399</td>\n",
       "      <td>2015111920</td>\n",
       "      <td>2</td>\n",
       "      <td>0</td>\n",
       "      <td>14.9</td>\n",
       "      <td>260</td>\n",
       "      <td>eor</td>\n",
       "      <td>2015-11-19 20:00:00</td>\n",
       "    </tr>\n",
       "  </tbody>\n",
       "</table>\n",
       "</div>"
      ],
      "text/plain": [
       "       stations_id        date  quality_level  structure_version  wind_speed  \\\n",
       "24714          399  2018061808              2                  0         2.0   \n",
       "14866          399  2017050203              2                  0        16.2   \n",
       "5576           399  2016040910              2                  0         2.9   \n",
       "2114           399  2015111613              2                  0        14.4   \n",
       "2193           399  2015111920              2                  0        14.9   \n",
       "\n",
       "       wind_direction  eor            datetime  \n",
       "24714             270  eor 2018-06-18 08:00:00  \n",
       "14866              80  eor 2017-05-02 03:00:00  \n",
       "5576               40  eor 2016-04-09 10:00:00  \n",
       "2114              250  eor 2015-11-16 13:00:00  \n",
       "2193              260  eor 2015-11-19 20:00:00  "
      ]
     },
     "execution_count": 7,
     "metadata": {},
     "output_type": "execute_result"
    }
   ],
   "source": [
    "# Convert the 'dates' column to datetime and store it in a new column 'datetime'\n",
    "weather_station.loc[:,'datetime'] = pd.to_datetime(weather_station['date'], format='%Y%m%d%H')\n",
    "weather_station.sample(5)"
   ]
  },
  {
   "cell_type": "code",
   "execution_count": 8,
   "id": "c657b4e5-8246-4a30-952b-35135d7fc680",
   "metadata": {},
   "outputs": [
    {
     "name": "stdout",
     "output_type": "stream",
     "text": [
      "<class 'pandas.core.frame.DataFrame'>\n",
      "RangeIndex: 65861 entries, 0 to 65860\n",
      "Data columns (total 3 columns):\n",
      " #   Column          Non-Null Count  Dtype         \n",
      "---  ------          --------------  -----         \n",
      " 0   datetime        65861 non-null  datetime64[ns]\n",
      " 1   wind_speed      65861 non-null  float64       \n",
      " 2   wind_direction  65861 non-null  int64         \n",
      "dtypes: datetime64[ns](1), float64(1), int64(1)\n",
      "memory usage: 1.5 MB\n"
     ]
    }
   ],
   "source": [
    "# Filter necessary rows\n",
    "weather_station_reduced = weather_station[['datetime','wind_speed','wind_direction']]\n",
    "weather_station_reduced.info()"
   ]
  },
  {
   "cell_type": "code",
   "execution_count": 9,
   "id": "fdf667c1-ab75-414e-b19e-6f1b58c8569e",
   "metadata": {},
   "outputs": [
    {
     "data": {
      "text/html": [
       "<div>\n",
       "<style scoped>\n",
       "    .dataframe tbody tr th:only-of-type {\n",
       "        vertical-align: middle;\n",
       "    }\n",
       "\n",
       "    .dataframe tbody tr th {\n",
       "        vertical-align: top;\n",
       "    }\n",
       "\n",
       "    .dataframe thead th {\n",
       "        text-align: right;\n",
       "    }\n",
       "</style>\n",
       "<table border=\"1\" class=\"dataframe\">\n",
       "  <thead>\n",
       "    <tr style=\"text-align: right;\">\n",
       "      <th></th>\n",
       "      <th>datetime</th>\n",
       "      <th>wind_speed</th>\n",
       "      <th>wind_direction</th>\n",
       "    </tr>\n",
       "  </thead>\n",
       "  <tbody>\n",
       "    <tr>\n",
       "      <th>13759</th>\n",
       "      <td>2017-03-17 00:00:00</td>\n",
       "      <td>11.9</td>\n",
       "      <td>210</td>\n",
       "    </tr>\n",
       "    <tr>\n",
       "      <th>47989</th>\n",
       "      <td>2021-09-01 22:00:00</td>\n",
       "      <td>7.7</td>\n",
       "      <td>330</td>\n",
       "    </tr>\n",
       "    <tr>\n",
       "      <th>48562</th>\n",
       "      <td>2021-09-25 19:00:00</td>\n",
       "      <td>4.5</td>\n",
       "      <td>250</td>\n",
       "    </tr>\n",
       "    <tr>\n",
       "      <th>3137</th>\n",
       "      <td>2015-12-29 19:00:00</td>\n",
       "      <td>17.1</td>\n",
       "      <td>120</td>\n",
       "    </tr>\n",
       "    <tr>\n",
       "      <th>23045</th>\n",
       "      <td>2018-04-09 19:00:00</td>\n",
       "      <td>6.4</td>\n",
       "      <td>90</td>\n",
       "    </tr>\n",
       "  </tbody>\n",
       "</table>\n",
       "</div>"
      ],
      "text/plain": [
       "                 datetime  wind_speed  wind_direction\n",
       "13759 2017-03-17 00:00:00        11.9             210\n",
       "47989 2021-09-01 22:00:00         7.7             330\n",
       "48562 2021-09-25 19:00:00         4.5             250\n",
       "3137  2015-12-29 19:00:00        17.1             120\n",
       "23045 2018-04-09 19:00:00         6.4              90"
      ]
     },
     "execution_count": 9,
     "metadata": {},
     "output_type": "execute_result"
    }
   ],
   "source": [
    "weather_station_reduced.sample(5)"
   ]
  },
  {
   "cell_type": "markdown",
   "id": "ce3a0afb-006a-47d5-b0a4-94e4747f768d",
   "metadata": {},
   "source": [
    "#### Merge df_pm10_reduced and weather_station_reduced based on datetime/DATETIME"
   ]
  },
  {
   "cell_type": "code",
   "execution_count": 10,
   "id": "ee2b3417-33e8-4f1d-8d9a-de830f5692e2",
   "metadata": {},
   "outputs": [
    {
     "name": "stdout",
     "output_type": "stream",
     "text": [
      "<class 'pandas.core.frame.DataFrame'>\n",
      "RangeIndex: 77254 entries, 0 to 77253\n",
      "Data columns (total 4 columns):\n",
      " #   Column          Non-Null Count  Dtype         \n",
      "---  ------          --------------  -----         \n",
      " 0   datetime        77254 non-null  datetime64[ns]\n",
      " 1   pm10            71471 non-null  float64       \n",
      " 2   wind_speed      65861 non-null  float64       \n",
      " 3   wind_direction  65861 non-null  float64       \n",
      "dtypes: datetime64[ns](1), float64(3)\n",
      "memory usage: 2.4 MB\n"
     ]
    }
   ],
   "source": [
    "df_merged = pd.merge(df_pm10_reduced, weather_station_reduced, on='datetime', how='outer')\n",
    "df_merged.info()"
   ]
  },
  {
   "cell_type": "code",
   "execution_count": 11,
   "id": "b0331ae0-4252-4a0f-8d91-d1233ce904fa",
   "metadata": {},
   "outputs": [
    {
     "data": {
      "text/html": [
       "<div>\n",
       "<style scoped>\n",
       "    .dataframe tbody tr th:only-of-type {\n",
       "        vertical-align: middle;\n",
       "    }\n",
       "\n",
       "    .dataframe tbody tr th {\n",
       "        vertical-align: top;\n",
       "    }\n",
       "\n",
       "    .dataframe thead th {\n",
       "        text-align: right;\n",
       "    }\n",
       "</style>\n",
       "<table border=\"1\" class=\"dataframe\">\n",
       "  <thead>\n",
       "    <tr style=\"text-align: right;\">\n",
       "      <th></th>\n",
       "      <th>datetime</th>\n",
       "      <th>pm10</th>\n",
       "      <th>wind_speed</th>\n",
       "      <th>wind_direction</th>\n",
       "    </tr>\n",
       "  </thead>\n",
       "  <tbody>\n",
       "    <tr>\n",
       "      <th>42895</th>\n",
       "      <td>2021-01-11 11:00:00</td>\n",
       "      <td>19.0</td>\n",
       "      <td>12.1</td>\n",
       "      <td>230.0</td>\n",
       "    </tr>\n",
       "    <tr>\n",
       "      <th>20328</th>\n",
       "      <td>2018-06-05 20:00:00</td>\n",
       "      <td>27.0</td>\n",
       "      <td>11.3</td>\n",
       "      <td>30.0</td>\n",
       "    </tr>\n",
       "    <tr>\n",
       "      <th>46163</th>\n",
       "      <td>2021-06-25 06:00:00</td>\n",
       "      <td>23.0</td>\n",
       "      <td>3.5</td>\n",
       "      <td>300.0</td>\n",
       "    </tr>\n",
       "    <tr>\n",
       "      <th>70888</th>\n",
       "      <td>2024-04-29 22:00:00</td>\n",
       "      <td>18.0</td>\n",
       "      <td>13.0</td>\n",
       "      <td>60.0</td>\n",
       "    </tr>\n",
       "    <tr>\n",
       "      <th>2931</th>\n",
       "      <td>2016-07-31 19:00:00</td>\n",
       "      <td>15.0</td>\n",
       "      <td>4.2</td>\n",
       "      <td>360.0</td>\n",
       "    </tr>\n",
       "  </tbody>\n",
       "</table>\n",
       "</div>"
      ],
      "text/plain": [
       "                 datetime  pm10  wind_speed  wind_direction\n",
       "42895 2021-01-11 11:00:00  19.0        12.1           230.0\n",
       "20328 2018-06-05 20:00:00  27.0        11.3            30.0\n",
       "46163 2021-06-25 06:00:00  23.0         3.5           300.0\n",
       "70888 2024-04-29 22:00:00  18.0        13.0            60.0\n",
       "2931  2016-07-31 19:00:00  15.0         4.2           360.0"
      ]
     },
     "execution_count": 11,
     "metadata": {},
     "output_type": "execute_result"
    }
   ],
   "source": [
    "df_merged.sample(5)"
   ]
  },
  {
   "cell_type": "code",
   "execution_count": 12,
   "id": "6a91ac15-bb0e-4bb6-86f4-c93ec1bbba65",
   "metadata": {},
   "outputs": [
    {
     "name": "stdout",
     "output_type": "stream",
     "text": [
      "<class 'pandas.core.frame.DataFrame'>\n",
      "Index: 72624 entries, 0 to 77253\n",
      "Data columns (total 4 columns):\n",
      " #   Column          Non-Null Count  Dtype         \n",
      "---  ------          --------------  -----         \n",
      " 0   datetime        72624 non-null  datetime64[ns]\n",
      " 1   pm10            71471 non-null  float64       \n",
      " 2   wind_speed      61231 non-null  float64       \n",
      " 3   wind_direction  61231 non-null  float64       \n",
      "dtypes: datetime64[ns](1), float64(3)\n",
      "memory usage: 2.8 MB\n"
     ]
    }
   ],
   "source": [
    "#Deleting all rows before March 2016 since useful pm10 data starts in March 2016\n",
    "start_date = '2016-03-01'\n",
    "start_date = pd.Timestamp(start_date)\n",
    "df_filtered = df_merged[df_merged['datetime'] >= start_date]\n",
    "df_filtered.info()"
   ]
  },
  {
   "cell_type": "code",
   "execution_count": 13,
   "id": "fad6b444-9077-47f4-a6ed-bc6c7eacf638",
   "metadata": {},
   "outputs": [
    {
     "data": {
      "text/html": [
       "<div>\n",
       "<style scoped>\n",
       "    .dataframe tbody tr th:only-of-type {\n",
       "        vertical-align: middle;\n",
       "    }\n",
       "\n",
       "    .dataframe tbody tr th {\n",
       "        vertical-align: top;\n",
       "    }\n",
       "\n",
       "    .dataframe thead th {\n",
       "        text-align: right;\n",
       "    }\n",
       "</style>\n",
       "<table border=\"1\" class=\"dataframe\">\n",
       "  <thead>\n",
       "    <tr style=\"text-align: right;\">\n",
       "      <th></th>\n",
       "      <th>datetime</th>\n",
       "      <th>pm10</th>\n",
       "      <th>wind_speed</th>\n",
       "      <th>wind_direction</th>\n",
       "    </tr>\n",
       "  </thead>\n",
       "  <tbody>\n",
       "    <tr>\n",
       "      <th>0</th>\n",
       "      <td>2016-03-31 23:00:00</td>\n",
       "      <td>16.0</td>\n",
       "      <td>8.3</td>\n",
       "      <td>40.0</td>\n",
       "    </tr>\n",
       "    <tr>\n",
       "      <th>1</th>\n",
       "      <td>2016-03-31 22:00:00</td>\n",
       "      <td>22.0</td>\n",
       "      <td>8.4</td>\n",
       "      <td>40.0</td>\n",
       "    </tr>\n",
       "    <tr>\n",
       "      <th>2</th>\n",
       "      <td>2016-03-31 21:00:00</td>\n",
       "      <td>22.0</td>\n",
       "      <td>7.5</td>\n",
       "      <td>40.0</td>\n",
       "    </tr>\n",
       "    <tr>\n",
       "      <th>3</th>\n",
       "      <td>2016-03-31 20:00:00</td>\n",
       "      <td>24.0</td>\n",
       "      <td>9.1</td>\n",
       "      <td>60.0</td>\n",
       "    </tr>\n",
       "    <tr>\n",
       "      <th>4</th>\n",
       "      <td>2016-03-31 19:00:00</td>\n",
       "      <td>21.0</td>\n",
       "      <td>8.6</td>\n",
       "      <td>40.0</td>\n",
       "    </tr>\n",
       "  </tbody>\n",
       "</table>\n",
       "</div>"
      ],
      "text/plain": [
       "             datetime  pm10  wind_speed  wind_direction\n",
       "0 2016-03-31 23:00:00  16.0         8.3            40.0\n",
       "1 2016-03-31 22:00:00  22.0         8.4            40.0\n",
       "2 2016-03-31 21:00:00  22.0         7.5            40.0\n",
       "3 2016-03-31 20:00:00  24.0         9.1            60.0\n",
       "4 2016-03-31 19:00:00  21.0         8.6            40.0"
      ]
     },
     "execution_count": 13,
     "metadata": {},
     "output_type": "execute_result"
    }
   ],
   "source": [
    "df_filtered.head()"
   ]
  },
  {
   "cell_type": "markdown",
   "id": "7039acba-f03f-44ff-a5ef-9952c036dd46",
   "metadata": {},
   "source": [
    "#### Create heatmap and scatter plots to visualise relationship between pm10 wind_speed and wind_direction"
   ]
  },
  {
   "cell_type": "code",
   "execution_count": 14,
   "id": "70d7cdee-4573-4ea4-a75c-62205f6258f7",
   "metadata": {},
   "outputs": [
    {
     "name": "stdout",
     "output_type": "stream",
     "text": [
      "Correlation Matrix:\n",
      "                    pm10  wind_speed  wind_direction\n",
      "pm10            1.000000   -0.225838       -0.117976\n",
      "wind_speed     -0.225838    1.000000        0.137632\n",
      "wind_direction -0.117976    0.137632        1.000000\n"
     ]
    }
   ],
   "source": [
    "# Create correlation matrix\n",
    "correlation_matrix = df_merged.set_index('datetime').corr()\n",
    "print(\"Correlation Matrix:\")\n",
    "print(correlation_matrix)"
   ]
  },
  {
   "cell_type": "code",
   "execution_count": 22,
   "id": "a5f2b5f7-8149-4678-afe1-181081531ddd",
   "metadata": {},
   "outputs": [
    {
     "data": {
      "image/png": "[encoded data removed]",
      "text/plain": [
       "<Figure size 640x480 with 2 Axes>"
      ]
     },
     "metadata": {},
     "output_type": "display_data"
    }
   ],
   "source": [
    "# show heatmap with seaborn\n",
    "sns.heatmap(correlation_matrix, annot=True, cmap='coolwarm', fmt=\".2f\")\n",
    "plt.title(\"pm10 - wind data | mc124\")\n",
    "plt.show()"
   ]
  }
 ],
 "metadata": {
  "kernelspec": {
   "display_name": "Python 3 (ipykernel)",
   "language": "python",
   "name": "python3"
  },
  "language_info": {
   "codemirror_mode": {
    "name": "ipython",
    "version": 3
   },
   "file_extension": ".py",
   "mimetype": "text/x-python",
   "name": "python",
   "nbconvert_exporter": "python",
   "pygments_lexer": "ipython3",
   "version": "3.11.8"
  }
 },
 "nbformat": 4,
 "nbformat_minor": 5
}
