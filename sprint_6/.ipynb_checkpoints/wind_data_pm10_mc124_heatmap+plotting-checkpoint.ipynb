{
 "cells": [
  {
   "cell_type": "markdown",
   "id": "745125fd-6458-47fc-97eb-ee780af57b5a",
   "metadata": {},
   "source": [
    "### Analysis wind information and pm10"
   ]
  },
  {
   "cell_type": "code",
   "execution_count": 1,
   "id": "172e7ec5-2a75-4053-82f9-c8b5e27a28f6",
   "metadata": {},
   "outputs": [],
   "source": [
    "# GET ALL THE JSONS INTO ONE DATAFRAME\n",
    "import pandas as pd\n",
    "import matplotlib.pyplot as plt\n",
    "import seaborn as sns\n",
    "import numpy as np\n",
    "import os\n",
    "import json\n",
    "import glob"
   ]
  },
  {
   "cell_type": "markdown",
   "id": "3d2f62b2-3289-4403-9ff4-760dcb2fb094",
   "metadata": {},
   "source": [
    "#### Get all the pm10 files and keep columns which contain pm10"
   ]
  },
  {
   "cell_type": "code",
   "execution_count": 2,
   "id": "8545916f-82b3-43c9-b0bb-dfb3f14f7c13",
   "metadata": {},
   "outputs": [
    {
     "name": "stdout",
     "output_type": "stream",
     "text": [
      "Combined dataframe shape: (542555, 6)\n"
     ]
    }
   ],
   "source": [
    "# Set the search path for files (assuming the directory is relative to the current script)\n",
    "file_path_mc124 = os.path.join(\"mc124_data\", \"*.json\")\n",
    "files = glob.glob(file_path_mc124)\n",
    "\n",
    "# Create empty list to store dataframes\n",
    "li_all_files = []\n",
    "\n",
    "# Loop through list of files and read each one into a dataframe and append to list\n",
    "for f in files:\n",
    "    # Read in json\n",
    "    temp_df = pd.read_json(f)\n",
    "    # Append df to list\n",
    "    li_all_files.append(temp_df)\n",
    "\n",
    "# Optionally concatenate all dataframes into one if needed\n",
    "if li_all_files:\n",
    "    combined_df = pd.concat(li_all_files)\n",
    "    print(f'Combined dataframe shape: {combined_df.shape}')\n",
    "else:\n",
    "    print('No dataframes were created.')"
   ]
  },
  {
   "cell_type": "code",
   "execution_count": 3,
   "id": "feb413e3-cc7c-4d74-9b76-48fc65b40fa2",
   "metadata": {},
   "outputs": [
    {
     "data": {
      "text/html": [
       "<div>\n",
       "<style scoped>\n",
       "    .dataframe tbody tr th:only-of-type {\n",
       "        vertical-align: middle;\n",
       "    }\n",
       "\n",
       "    .dataframe tbody tr th {\n",
       "        vertical-align: top;\n",
       "    }\n",
       "\n",
       "    .dataframe thead th {\n",
       "        text-align: right;\n",
       "    }\n",
       "</style>\n",
       "<table border=\"1\" class=\"dataframe\">\n",
       "  <thead>\n",
       "    <tr style=\"text-align: right;\">\n",
       "      <th></th>\n",
       "      <th>datetime</th>\n",
       "      <th>pm10</th>\n",
       "    </tr>\n",
       "  </thead>\n",
       "  <tbody>\n",
       "    <tr>\n",
       "      <th>1595</th>\n",
       "      <td>2019-12-18 16:00:00+01:00</td>\n",
       "      <td>28.0</td>\n",
       "    </tr>\n",
       "    <tr>\n",
       "      <th>2465</th>\n",
       "      <td>2023-09-10 10:00:00+02:00</td>\n",
       "      <td>30.0</td>\n",
       "    </tr>\n",
       "    <tr>\n",
       "      <th>2705</th>\n",
       "      <td>2017-12-09 10:00:00+01:00</td>\n",
       "      <td>14.0</td>\n",
       "    </tr>\n",
       "  </tbody>\n",
       "</table>\n",
       "</div>"
      ],
      "text/plain": [
       "                       datetime  pm10\n",
       "1595  2019-12-18 16:00:00+01:00  28.0\n",
       "2465  2023-09-10 10:00:00+02:00  30.0\n",
       "2705  2017-12-09 10:00:00+01:00  14.0"
      ]
     },
     "execution_count": 3,
     "metadata": {},
     "output_type": "execute_result"
    }
   ],
   "source": [
    "# FILTER BY pm10 AND ONLY KEEP THE DATETIME AND VALUE FEATURE SINCE THE REST ARE CONSTANT INFORMATION (station, core, component, period)\n",
    "df_pm10 = combined_df[(combined_df['core'] == 'pm10')]\n",
    "df_pm10_reduced = df_pm10[['datetime', 'value']]\n",
    "df_pm10_reduced = df_pm10_reduced.rename(columns={'value': 'pm10'})\n",
    "df_pm10_reduced.sample(3)"
   ]
  },
  {
   "cell_type": "code",
   "execution_count": 4,
   "id": "9a8dc1b4-e6aa-475a-86d2-a0c1cf02e78f",
   "metadata": {},
   "outputs": [
    {
     "name": "stdout",
     "output_type": "stream",
     "text": [
      "<class 'pandas.core.frame.DataFrame'>\n",
      "Index: 72314 entries, 0 to 3650\n",
      "Data columns (total 2 columns):\n",
      " #   Column    Non-Null Count  Dtype         \n",
      "---  ------    --------------  -----         \n",
      " 0   datetime  72314 non-null  datetime64[ns]\n",
      " 1   pm10      71471 non-null  float64       \n",
      "dtypes: datetime64[ns](1), float64(1)\n",
      "memory usage: 1.7 MB\n"
     ]
    }
   ],
   "source": [
    "# CUT OFF THE TIMEZONE INFORMATION FROM THE DATETIME TO AVOID CONVERSION ISSUES DUE TO TIME CHANGE IN MARCH AND OCTOBER\n",
    "df_pm10_reduced.loc[:, 'datetime'] = df_pm10_reduced['datetime'].astype(str).str.slice(0, 19)\n",
    "#df_pm10_reduced.loc[:, 'datetime'] = pd.to_datetime(df_pm10_reduced['datetime'], format='mixed')\n",
    "df_pm10_reduced['datetime'] = pd.to_datetime(df_pm10_reduced['datetime'], format='mixed')\n",
    "df_pm10_reduced.loc[:, 'datetime'] = df_pm10_reduced['datetime'].dt.tz_localize(None)\n",
    "df_pm10_reduced.info()"
   ]
  },
  {
   "cell_type": "code",
   "execution_count": 5,
   "id": "67d48893-45a3-447c-8607-99a44ff2b522",
   "metadata": {},
   "outputs": [
    {
     "data": {
      "text/html": [
       "<div>\n",
       "<style scoped>\n",
       "    .dataframe tbody tr th:only-of-type {\n",
       "        vertical-align: middle;\n",
       "    }\n",
       "\n",
       "    .dataframe tbody tr th {\n",
       "        vertical-align: top;\n",
       "    }\n",
       "\n",
       "    .dataframe thead th {\n",
       "        text-align: right;\n",
       "    }\n",
       "</style>\n",
       "<table border=\"1\" class=\"dataframe\">\n",
       "  <thead>\n",
       "    <tr style=\"text-align: right;\">\n",
       "      <th></th>\n",
       "      <th>datetime</th>\n",
       "      <th>pm10</th>\n",
       "    </tr>\n",
       "  </thead>\n",
       "  <tbody>\n",
       "    <tr>\n",
       "      <th>65</th>\n",
       "      <td>2017-08-31 10:00:00</td>\n",
       "      <td>31.0</td>\n",
       "    </tr>\n",
       "    <tr>\n",
       "      <th>2675</th>\n",
       "      <td>2020-06-08 16:00:00</td>\n",
       "      <td>19.0</td>\n",
       "    </tr>\n",
       "    <tr>\n",
       "      <th>3150</th>\n",
       "      <td>2020-12-05 17:00:00</td>\n",
       "      <td>39.0</td>\n",
       "    </tr>\n",
       "    <tr>\n",
       "      <th>2030</th>\n",
       "      <td>2020-12-15 01:00:00</td>\n",
       "      <td>22.0</td>\n",
       "    </tr>\n",
       "    <tr>\n",
       "      <th>1125</th>\n",
       "      <td>2020-09-21 14:00:00</td>\n",
       "      <td>33.0</td>\n",
       "    </tr>\n",
       "  </tbody>\n",
       "</table>\n",
       "</div>"
      ],
      "text/plain": [
       "                datetime  pm10\n",
       "65   2017-08-31 10:00:00  31.0\n",
       "2675 2020-06-08 16:00:00  19.0\n",
       "3150 2020-12-05 17:00:00  39.0\n",
       "2030 2020-12-15 01:00:00  22.0\n",
       "1125 2020-09-21 14:00:00  33.0"
      ]
     },
     "execution_count": 5,
     "metadata": {},
     "output_type": "execute_result"
    }
   ],
   "source": [
    "df_pm10_reduced.sample(5)"
   ]
  },
  {
   "cell_type": "markdown",
   "id": "e1f3fbff-8929-4b07-ac59-2a7cc6cd7e64",
   "metadata": {},
   "source": [
    "#### Load wind data and filter for wind speed and wind direction"
   ]
  },
  {
   "cell_type": "markdown",
   "id": "18f3495e-02c5-41c7-bd10-e91fb722f4f0",
   "metadata": {},
   "source": [
    "##### Erklärung Windrichtung  \n",
    "https://www.dwd.de/DE/service/lexikon/Functions/glossar.html?lv3=103182&lv2=102936  \n",
    "Die Windrichtung wird bestimmt nach dem Polarwinkel (Azimut). Zur Richtungsangabe benutzt man die 360 Grad Skala des Kreises.   \n",
    "Alle Richtungsangaben in Grad sind rechtweisend auf geographisch Nord bezogen, d.h.   \n",
    "Ost  =  90 Grad,  \n",
    "Süd  =  180 Grad,  \n",
    "West =  270 Grad,   \n",
    "Nord =  360 Grad.  "
   ]
  },
  {
   "cell_type": "code",
   "execution_count": 6,
   "id": "790b520f-fe63-42b7-91c8-d02974e3fe02",
   "metadata": {},
   "outputs": [
    {
     "data": {
      "text/html": [
       "<div>\n",
       "<style scoped>\n",
       "    .dataframe tbody tr th:only-of-type {\n",
       "        vertical-align: middle;\n",
       "    }\n",
       "\n",
       "    .dataframe tbody tr th {\n",
       "        vertical-align: top;\n",
       "    }\n",
       "\n",
       "    .dataframe thead th {\n",
       "        text-align: right;\n",
       "    }\n",
       "</style>\n",
       "<table border=\"1\" class=\"dataframe\">\n",
       "  <thead>\n",
       "    <tr style=\"text-align: right;\">\n",
       "      <th></th>\n",
       "      <th>stations_id</th>\n",
       "      <th>date</th>\n",
       "      <th>quality_level</th>\n",
       "      <th>structure_version</th>\n",
       "      <th>wind_speed</th>\n",
       "      <th>wind_direction</th>\n",
       "      <th>eor</th>\n",
       "    </tr>\n",
       "  </thead>\n",
       "  <tbody>\n",
       "    <tr>\n",
       "      <th>7798</th>\n",
       "      <td>399</td>\n",
       "      <td>2016071114</td>\n",
       "      <td>2</td>\n",
       "      <td>0</td>\n",
       "      <td>7.9</td>\n",
       "      <td>270</td>\n",
       "      <td>eor</td>\n",
       "    </tr>\n",
       "    <tr>\n",
       "      <th>9562</th>\n",
       "      <td>399</td>\n",
       "      <td>2016092303</td>\n",
       "      <td>2</td>\n",
       "      <td>0</td>\n",
       "      <td>4.3</td>\n",
       "      <td>230</td>\n",
       "      <td>eor</td>\n",
       "    </tr>\n",
       "    <tr>\n",
       "      <th>19160</th>\n",
       "      <td>399</td>\n",
       "      <td>2017102822</td>\n",
       "      <td>2</td>\n",
       "      <td>0</td>\n",
       "      <td>20.9</td>\n",
       "      <td>250</td>\n",
       "      <td>eor</td>\n",
       "    </tr>\n",
       "    <tr>\n",
       "      <th>15862</th>\n",
       "      <td>399</td>\n",
       "      <td>2017061311</td>\n",
       "      <td>2</td>\n",
       "      <td>0</td>\n",
       "      <td>10.6</td>\n",
       "      <td>260</td>\n",
       "      <td>eor</td>\n",
       "    </tr>\n",
       "    <tr>\n",
       "      <th>17623</th>\n",
       "      <td>399</td>\n",
       "      <td>2017082521</td>\n",
       "      <td>2</td>\n",
       "      <td>0</td>\n",
       "      <td>1.9</td>\n",
       "      <td>330</td>\n",
       "      <td>eor</td>\n",
       "    </tr>\n",
       "  </tbody>\n",
       "</table>\n",
       "</div>"
      ],
      "text/plain": [
       "       stations_id        date  quality_level  structure_version  wind_speed  \\\n",
       "7798           399  2016071114              2                  0         7.9   \n",
       "9562           399  2016092303              2                  0         4.3   \n",
       "19160          399  2017102822              2                  0        20.9   \n",
       "15862          399  2017061311              2                  0        10.6   \n",
       "17623          399  2017082521              2                  0         1.9   \n",
       "\n",
       "       wind_direction  eor  \n",
       "7798              270  eor  \n",
       "9562              230  eor  \n",
       "19160             250  eor  \n",
       "15862             260  eor  \n",
       "17623             330  eor  "
      ]
     },
     "execution_count": 6,
     "metadata": {},
     "output_type": "execute_result"
    }
   ],
   "source": [
    "file_path_berlin = os.path.join(\"..\", \"winddaten_berlin\",\"produkt_wind_399_akt.txt\")# join because different os use either \\ or / as file path seperators\n",
    "weather_station = pd.read_csv(file_path_berlin, names=['stations_id','date','quality_level','structure_version', 'wind_speed', 'wind_direction', 'eor'], skiprows=1, sep=';') \n",
    "# TODO rename names\n",
    "weather_station.sample(5)"
   ]
  },
  {
   "cell_type": "code",
   "execution_count": 7,
   "id": "6a6ae533-a54f-4266-9233-b557c70f8bfd",
   "metadata": {},
   "outputs": [
    {
     "data": {
      "text/html": [
       "<div>\n",
       "<style scoped>\n",
       "    .dataframe tbody tr th:only-of-type {\n",
       "        vertical-align: middle;\n",
       "    }\n",
       "\n",
       "    .dataframe tbody tr th {\n",
       "        vertical-align: top;\n",
       "    }\n",
       "\n",
       "    .dataframe thead th {\n",
       "        text-align: right;\n",
       "    }\n",
       "</style>\n",
       "<table border=\"1\" class=\"dataframe\">\n",
       "  <thead>\n",
       "    <tr style=\"text-align: right;\">\n",
       "      <th></th>\n",
       "      <th>stations_id</th>\n",
       "      <th>date</th>\n",
       "      <th>quality_level</th>\n",
       "      <th>structure_version</th>\n",
       "      <th>wind_speed</th>\n",
       "      <th>wind_direction</th>\n",
       "      <th>eor</th>\n",
       "      <th>datetime</th>\n",
       "    </tr>\n",
       "  </thead>\n",
       "  <tbody>\n",
       "    <tr>\n",
       "      <th>44063</th>\n",
       "      <td>399</td>\n",
       "      <td>2021031809</td>\n",
       "      <td>2</td>\n",
       "      <td>0</td>\n",
       "      <td>6.3</td>\n",
       "      <td>300</td>\n",
       "      <td>eor</td>\n",
       "      <td>2021-03-18 09:00:00</td>\n",
       "    </tr>\n",
       "    <tr>\n",
       "      <th>7266</th>\n",
       "      <td>399</td>\n",
       "      <td>2016061910</td>\n",
       "      <td>2</td>\n",
       "      <td>0</td>\n",
       "      <td>4.7</td>\n",
       "      <td>250</td>\n",
       "      <td>eor</td>\n",
       "      <td>2016-06-19 10:00:00</td>\n",
       "    </tr>\n",
       "    <tr>\n",
       "      <th>2154</th>\n",
       "      <td>399</td>\n",
       "      <td>2015111805</td>\n",
       "      <td>2</td>\n",
       "      <td>0</td>\n",
       "      <td>22.0</td>\n",
       "      <td>260</td>\n",
       "      <td>eor</td>\n",
       "      <td>2015-11-18 05:00:00</td>\n",
       "    </tr>\n",
       "    <tr>\n",
       "      <th>3116</th>\n",
       "      <td>399</td>\n",
       "      <td>2015122822</td>\n",
       "      <td>2</td>\n",
       "      <td>0</td>\n",
       "      <td>7.9</td>\n",
       "      <td>110</td>\n",
       "      <td>eor</td>\n",
       "      <td>2015-12-28 22:00:00</td>\n",
       "    </tr>\n",
       "    <tr>\n",
       "      <th>44135</th>\n",
       "      <td>399</td>\n",
       "      <td>2021032111</td>\n",
       "      <td>2</td>\n",
       "      <td>0</td>\n",
       "      <td>13.0</td>\n",
       "      <td>300</td>\n",
       "      <td>eor</td>\n",
       "      <td>2021-03-21 11:00:00</td>\n",
       "    </tr>\n",
       "  </tbody>\n",
       "</table>\n",
       "</div>"
      ],
      "text/plain": [
       "       stations_id        date  quality_level  structure_version  wind_speed  \\\n",
       "44063          399  2021031809              2                  0         6.3   \n",
       "7266           399  2016061910              2                  0         4.7   \n",
       "2154           399  2015111805              2                  0        22.0   \n",
       "3116           399  2015122822              2                  0         7.9   \n",
       "44135          399  2021032111              2                  0        13.0   \n",
       "\n",
       "       wind_direction  eor            datetime  \n",
       "44063             300  eor 2021-03-18 09:00:00  \n",
       "7266              250  eor 2016-06-19 10:00:00  \n",
       "2154              260  eor 2015-11-18 05:00:00  \n",
       "3116              110  eor 2015-12-28 22:00:00  \n",
       "44135             300  eor 2021-03-21 11:00:00  "
      ]
     },
     "execution_count": 7,
     "metadata": {},
     "output_type": "execute_result"
    }
   ],
   "source": [
    "# Convert the 'dates' column to datetime and store it in a new column 'datetime'\n",
    "weather_station.loc[:,'datetime'] = pd.to_datetime(weather_station['date'], format='%Y%m%d%H')\n",
    "weather_station.sample(5)"
   ]
  },
  {
   "cell_type": "code",
   "execution_count": 8,
   "id": "c657b4e5-8246-4a30-952b-35135d7fc680",
   "metadata": {},
   "outputs": [
    {
     "name": "stdout",
     "output_type": "stream",
     "text": [
      "<class 'pandas.core.frame.DataFrame'>\n",
      "RangeIndex: 65861 entries, 0 to 65860\n",
      "Data columns (total 3 columns):\n",
      " #   Column          Non-Null Count  Dtype         \n",
      "---  ------          --------------  -----         \n",
      " 0   datetime        65861 non-null  datetime64[ns]\n",
      " 1   wind_speed      65861 non-null  float64       \n",
      " 2   wind_direction  65861 non-null  int64         \n",
      "dtypes: datetime64[ns](1), float64(1), int64(1)\n",
      "memory usage: 1.5 MB\n"
     ]
    }
   ],
   "source": [
    "# Filter neccessary rows\n",
    "weather_station_reduced = weather_station[['datetime','wind_speed','wind_direction']]\n",
    "weather_station_reduced.info()"
   ]
  },
  {
   "cell_type": "code",
   "execution_count": 9,
   "id": "fdf667c1-ab75-414e-b19e-6f1b58c8569e",
   "metadata": {},
   "outputs": [
    {
     "data": {
      "text/html": [
       "<div>\n",
       "<style scoped>\n",
       "    .dataframe tbody tr th:only-of-type {\n",
       "        vertical-align: middle;\n",
       "    }\n",
       "\n",
       "    .dataframe tbody tr th {\n",
       "        vertical-align: top;\n",
       "    }\n",
       "\n",
       "    .dataframe thead th {\n",
       "        text-align: right;\n",
       "    }\n",
       "</style>\n",
       "<table border=\"1\" class=\"dataframe\">\n",
       "  <thead>\n",
       "    <tr style=\"text-align: right;\">\n",
       "      <th></th>\n",
       "      <th>datetime</th>\n",
       "      <th>wind_speed</th>\n",
       "      <th>wind_direction</th>\n",
       "    </tr>\n",
       "  </thead>\n",
       "  <tbody>\n",
       "    <tr>\n",
       "      <th>17235</th>\n",
       "      <td>2017-08-09 17:00:00</td>\n",
       "      <td>6.0</td>\n",
       "      <td>230</td>\n",
       "    </tr>\n",
       "    <tr>\n",
       "      <th>51683</th>\n",
       "      <td>2022-02-02 20:00:00</td>\n",
       "      <td>14.1</td>\n",
       "      <td>310</td>\n",
       "    </tr>\n",
       "    <tr>\n",
       "      <th>19158</th>\n",
       "      <td>2017-10-28 20:00:00</td>\n",
       "      <td>18.7</td>\n",
       "      <td>260</td>\n",
       "    </tr>\n",
       "    <tr>\n",
       "      <th>25268</th>\n",
       "      <td>2018-07-11 10:00:00</td>\n",
       "      <td>1.5</td>\n",
       "      <td>10</td>\n",
       "    </tr>\n",
       "    <tr>\n",
       "      <th>43504</th>\n",
       "      <td>2021-02-20 19:00:00</td>\n",
       "      <td>10.4</td>\n",
       "      <td>180</td>\n",
       "    </tr>\n",
       "  </tbody>\n",
       "</table>\n",
       "</div>"
      ],
      "text/plain": [
       "                 datetime  wind_speed  wind_direction\n",
       "17235 2017-08-09 17:00:00         6.0             230\n",
       "51683 2022-02-02 20:00:00        14.1             310\n",
       "19158 2017-10-28 20:00:00        18.7             260\n",
       "25268 2018-07-11 10:00:00         1.5              10\n",
       "43504 2021-02-20 19:00:00        10.4             180"
      ]
     },
     "execution_count": 9,
     "metadata": {},
     "output_type": "execute_result"
    }
   ],
   "source": [
    "weather_station_reduced.sample(5)"
   ]
  },
  {
   "cell_type": "markdown",
   "id": "ce3a0afb-006a-47d5-b0a4-94e4747f768d",
   "metadata": {},
   "source": [
    "#### Merge df_pm10_reduced and weather_station_reduced based on datetime/DATETIME"
   ]
  },
  {
   "cell_type": "code",
   "execution_count": 10,
   "id": "ee2b3417-33e8-4f1d-8d9a-de830f5692e2",
   "metadata": {},
   "outputs": [
    {
     "name": "stdout",
     "output_type": "stream",
     "text": [
      "<class 'pandas.core.frame.DataFrame'>\n",
      "RangeIndex: 77254 entries, 0 to 77253\n",
      "Data columns (total 4 columns):\n",
      " #   Column          Non-Null Count  Dtype         \n",
      "---  ------          --------------  -----         \n",
      " 0   datetime        77254 non-null  datetime64[ns]\n",
      " 1   pm10            71471 non-null  float64       \n",
      " 2   wind_speed      65861 non-null  float64       \n",
      " 3   wind_direction  65861 non-null  float64       \n",
      "dtypes: datetime64[ns](1), float64(3)\n",
      "memory usage: 2.4 MB\n"
     ]
    }
   ],
   "source": [
    "df_merged = pd.merge(df_pm10_reduced, weather_station_reduced, on='datetime', how='outer')\n",
    "df_merged.info()"
   ]
  },
  {
   "cell_type": "code",
   "execution_count": 11,
   "id": "b0331ae0-4252-4a0f-8d91-d1233ce904fa",
   "metadata": {},
   "outputs": [
    {
     "data": {
      "text/html": [
       "<div>\n",
       "<style scoped>\n",
       "    .dataframe tbody tr th:only-of-type {\n",
       "        vertical-align: middle;\n",
       "    }\n",
       "\n",
       "    .dataframe tbody tr th {\n",
       "        vertical-align: top;\n",
       "    }\n",
       "\n",
       "    .dataframe thead th {\n",
       "        text-align: right;\n",
       "    }\n",
       "</style>\n",
       "<table border=\"1\" class=\"dataframe\">\n",
       "  <thead>\n",
       "    <tr style=\"text-align: right;\">\n",
       "      <th></th>\n",
       "      <th>datetime</th>\n",
       "      <th>pm10</th>\n",
       "      <th>wind_speed</th>\n",
       "      <th>wind_direction</th>\n",
       "    </tr>\n",
       "  </thead>\n",
       "  <tbody>\n",
       "    <tr>\n",
       "      <th>28353</th>\n",
       "      <td>2019-05-06 10:00:00</td>\n",
       "      <td>24.0</td>\n",
       "      <td>7.8</td>\n",
       "      <td>270.0</td>\n",
       "    </tr>\n",
       "    <tr>\n",
       "      <th>48475</th>\n",
       "      <td>2021-09-20 22:00:00</td>\n",
       "      <td>18.0</td>\n",
       "      <td>4.9</td>\n",
       "      <td>30.0</td>\n",
       "    </tr>\n",
       "    <tr>\n",
       "      <th>54005</th>\n",
       "      <td>2022-04-02 11:00:00</td>\n",
       "      <td>11.0</td>\n",
       "      <td>11.3</td>\n",
       "      <td>30.0</td>\n",
       "    </tr>\n",
       "    <tr>\n",
       "      <th>41155</th>\n",
       "      <td>2020-11-21 23:00:00</td>\n",
       "      <td>11.0</td>\n",
       "      <td>16.6</td>\n",
       "      <td>240.0</td>\n",
       "    </tr>\n",
       "    <tr>\n",
       "      <th>74208</th>\n",
       "      <td>2015-11-07 01:00:00</td>\n",
       "      <td>NaN</td>\n",
       "      <td>9.4</td>\n",
       "      <td>240.0</td>\n",
       "    </tr>\n",
       "  </tbody>\n",
       "</table>\n",
       "</div>"
      ],
      "text/plain": [
       "                 datetime  pm10  wind_speed  wind_direction\n",
       "28353 2019-05-06 10:00:00  24.0         7.8           270.0\n",
       "48475 2021-09-20 22:00:00  18.0         4.9            30.0\n",
       "54005 2022-04-02 11:00:00  11.0        11.3            30.0\n",
       "41155 2020-11-21 23:00:00  11.0        16.6           240.0\n",
       "74208 2015-11-07 01:00:00   NaN         9.4           240.0"
      ]
     },
     "execution_count": 11,
     "metadata": {},
     "output_type": "execute_result"
    }
   ],
   "source": [
    "df_merged.sample(5)"
   ]
  },
  {
   "cell_type": "code",
   "execution_count": 12,
   "id": "6a91ac15-bb0e-4bb6-86f4-c93ec1bbba65",
   "metadata": {},
   "outputs": [
    {
     "name": "stdout",
     "output_type": "stream",
     "text": [
      "<class 'pandas.core.frame.DataFrame'>\n",
      "Index: 72624 entries, 0 to 77253\n",
      "Data columns (total 4 columns):\n",
      " #   Column          Non-Null Count  Dtype         \n",
      "---  ------          --------------  -----         \n",
      " 0   datetime        72624 non-null  datetime64[ns]\n",
      " 1   pm10            71471 non-null  float64       \n",
      " 2   wind_speed      61231 non-null  float64       \n",
      " 3   wind_direction  61231 non-null  float64       \n",
      "dtypes: datetime64[ns](1), float64(3)\n",
      "memory usage: 2.8 MB\n"
     ]
    }
   ],
   "source": [
    "#Deleting all rows before March 2016 since useful pm10 data starts in March 2016\n",
    "start_date = '2016-03-01'\n",
    "start_date = pd.Timestamp(start_date)\n",
    "df_filtered = df_merged[df_merged['datetime'] >= start_date]\n",
    "df_filtered.info()"
   ]
  },
  {
   "cell_type": "code",
   "execution_count": 13,
   "id": "fad6b444-9077-47f4-a6ed-bc6c7eacf638",
   "metadata": {},
   "outputs": [
    {
     "data": {
      "text/html": [
       "<div>\n",
       "<style scoped>\n",
       "    .dataframe tbody tr th:only-of-type {\n",
       "        vertical-align: middle;\n",
       "    }\n",
       "\n",
       "    .dataframe tbody tr th {\n",
       "        vertical-align: top;\n",
       "    }\n",
       "\n",
       "    .dataframe thead th {\n",
       "        text-align: right;\n",
       "    }\n",
       "</style>\n",
       "<table border=\"1\" class=\"dataframe\">\n",
       "  <thead>\n",
       "    <tr style=\"text-align: right;\">\n",
       "      <th></th>\n",
       "      <th>datetime</th>\n",
       "      <th>pm10</th>\n",
       "      <th>wind_speed</th>\n",
       "      <th>wind_direction</th>\n",
       "    </tr>\n",
       "  </thead>\n",
       "  <tbody>\n",
       "    <tr>\n",
       "      <th>0</th>\n",
       "      <td>2016-03-31 23:00:00</td>\n",
       "      <td>16.0</td>\n",
       "      <td>8.3</td>\n",
       "      <td>40.0</td>\n",
       "    </tr>\n",
       "    <tr>\n",
       "      <th>1</th>\n",
       "      <td>2016-03-31 22:00:00</td>\n",
       "      <td>22.0</td>\n",
       "      <td>8.4</td>\n",
       "      <td>40.0</td>\n",
       "    </tr>\n",
       "    <tr>\n",
       "      <th>2</th>\n",
       "      <td>2016-03-31 21:00:00</td>\n",
       "      <td>22.0</td>\n",
       "      <td>7.5</td>\n",
       "      <td>40.0</td>\n",
       "    </tr>\n",
       "    <tr>\n",
       "      <th>3</th>\n",
       "      <td>2016-03-31 20:00:00</td>\n",
       "      <td>24.0</td>\n",
       "      <td>9.1</td>\n",
       "      <td>60.0</td>\n",
       "    </tr>\n",
       "    <tr>\n",
       "      <th>4</th>\n",
       "      <td>2016-03-31 19:00:00</td>\n",
       "      <td>21.0</td>\n",
       "      <td>8.6</td>\n",
       "      <td>40.0</td>\n",
       "    </tr>\n",
       "  </tbody>\n",
       "</table>\n",
       "</div>"
      ],
      "text/plain": [
       "             datetime  pm10  wind_speed  wind_direction\n",
       "0 2016-03-31 23:00:00  16.0         8.3            40.0\n",
       "1 2016-03-31 22:00:00  22.0         8.4            40.0\n",
       "2 2016-03-31 21:00:00  22.0         7.5            40.0\n",
       "3 2016-03-31 20:00:00  24.0         9.1            60.0\n",
       "4 2016-03-31 19:00:00  21.0         8.6            40.0"
      ]
     },
     "execution_count": 13,
     "metadata": {},
     "output_type": "execute_result"
    }
   ],
   "source": [
    "df_filtered.head()"
   ]
  },
  {
   "cell_type": "markdown",
   "id": "7039acba-f03f-44ff-a5ef-9952c036dd46",
   "metadata": {},
   "source": [
    "#### Create heatmap and scatter plots to visualise relationship betwen pm10 wind_speed and wind_direction"
   ]
  },
  {
   "cell_type": "code",
   "execution_count": 14,
   "id": "70d7cdee-4573-4ea4-a75c-62205f6258f7",
   "metadata": {},
   "outputs": [
    {
     "name": "stdout",
     "output_type": "stream",
     "text": [
      "Correlation Matrix:\n",
      "                    pm10  wind_speed  wind_direction\n",
      "pm10            1.000000   -0.225838       -0.117976\n",
      "wind_speed     -0.225838    1.000000        0.137632\n",
      "wind_direction -0.117976    0.137632        1.000000\n"
     ]
    }
   ],
   "source": [
    "# Create correlation matrix\n",
    "correlation_matrix = df_merged.set_index('datetime').corr()\n",
    "print(\"Correlation Matrix:\")\n",
    "print(correlation_matrix)"
   ]
  },
  {
   "cell_type": "code",
   "execution_count": 15,
   "id": "a5f2b5f7-8149-4678-afe1-181081531ddd",
   "metadata": {},
   "outputs": [
    {
     "data": {
      "image/png": "[encoded data removed]",
      "text/plain": [
       "<Figure size 640x480 with 2 Axes>"
      ]
     },
     "metadata": {},
     "output_type": "display_data"
    }
   ],
   "source": [
    "# show heatmap with seaborn\n",
    "sns.heatmap(correlation_matrix, annot=True, cmap='coolwarm', fmt=\".2f\")\n",
    "plt.title(\"Correlation Heatmap\")\n",
    "plt.show()"
   ]
  },
  {
   "cell_type": "code",
   "execution_count": 16,
   "id": "09e45cf0-753e-428d-88ff-17228010f5d3",
   "metadata": {},
   "outputs": [],
   "source": [
    "# TODO y-data profiling"
   ]
  },
  {
   "cell_type": "code",
   "execution_count": 19,
   "id": "29460581-2ac1-41c8-be85-53d867c71e6e",
   "metadata": {},
   "outputs": [
    {
     "ename": "KeyError",
     "evalue": "\"None of ['datetime'] are in the columns\"",
     "output_type": "error",
     "traceback": [
      "\u001b[1;31m---------------------------------------------------------------------------\u001b[0m",
      "\u001b[1;31mKeyError\u001b[0m                                  Traceback (most recent call last)",
      "\u001b[1;32m~\\AppData\\Local\\Temp\\ipykernel_10040\\4045999951.py\u001b[0m in \u001b[0;36m?\u001b[1;34m()\u001b[0m\n\u001b[0;32m      1\u001b[0m \u001b[1;31m# Creating a seaborn plot\u001b[0m\u001b[1;33m\u001b[0m\u001b[1;33m\u001b[0m\u001b[0m\n\u001b[1;32m----> 2\u001b[1;33m \u001b[0mdf_filtered\u001b[0m\u001b[1;33m.\u001b[0m\u001b[0mset_index\u001b[0m\u001b[1;33m(\u001b[0m\u001b[1;34m'datetime'\u001b[0m\u001b[1;33m)\u001b[0m\u001b[1;33m.\u001b[0m\u001b[0msort_index\u001b[0m\u001b[1;33m(\u001b[0m\u001b[1;33m)\u001b[0m\u001b[1;33m\u001b[0m\u001b[1;33m\u001b[0m\u001b[0m\n\u001b[0m\u001b[0;32m      3\u001b[0m \u001b[1;33m\u001b[0m\u001b[0m\n\u001b[0;32m      4\u001b[0m \u001b[0mplt\u001b[0m\u001b[1;33m.\u001b[0m\u001b[0mfigure\u001b[0m\u001b[1;33m(\u001b[0m\u001b[0mfigsize\u001b[0m\u001b[1;33m=\u001b[0m\u001b[1;33m(\u001b[0m\u001b[1;36m10\u001b[0m\u001b[1;33m,\u001b[0m \u001b[1;36m6\u001b[0m\u001b[1;33m)\u001b[0m\u001b[1;33m)\u001b[0m\u001b[1;33m\u001b[0m\u001b[1;33m\u001b[0m\u001b[0m\n\u001b[0;32m      5\u001b[0m \u001b[1;31m# Plotting data\u001b[0m\u001b[1;33m\u001b[0m\u001b[1;33m\u001b[0m\u001b[0m\n",
      "\u001b[1;32m~\\anaconda3\\envs\\basics\\Lib\\site-packages\\pandas\\core\\frame.py\u001b[0m in \u001b[0;36m?\u001b[1;34m(self, keys, drop, append, inplace, verify_integrity)\u001b[0m\n\u001b[0;32m   5869\u001b[0m                     \u001b[1;32mif\u001b[0m \u001b[1;32mnot\u001b[0m \u001b[0mfound\u001b[0m\u001b[1;33m:\u001b[0m\u001b[1;33m\u001b[0m\u001b[1;33m\u001b[0m\u001b[0m\n\u001b[0;32m   5870\u001b[0m                         \u001b[0mmissing\u001b[0m\u001b[1;33m.\u001b[0m\u001b[0mappend\u001b[0m\u001b[1;33m(\u001b[0m\u001b[0mcol\u001b[0m\u001b[1;33m)\u001b[0m\u001b[1;33m\u001b[0m\u001b[1;33m\u001b[0m\u001b[0m\n\u001b[0;32m   5871\u001b[0m \u001b[1;33m\u001b[0m\u001b[0m\n\u001b[0;32m   5872\u001b[0m         \u001b[1;32mif\u001b[0m \u001b[0mmissing\u001b[0m\u001b[1;33m:\u001b[0m\u001b[1;33m\u001b[0m\u001b[1;33m\u001b[0m\u001b[0m\n\u001b[1;32m-> 5873\u001b[1;33m             \u001b[1;32mraise\u001b[0m \u001b[0mKeyError\u001b[0m\u001b[1;33m(\u001b[0m\u001b[1;34mf\"None of {missing} are in the columns\"\u001b[0m\u001b[1;33m)\u001b[0m\u001b[1;33m\u001b[0m\u001b[1;33m\u001b[0m\u001b[0m\n\u001b[0m\u001b[0;32m   5874\u001b[0m \u001b[1;33m\u001b[0m\u001b[0m\n\u001b[0;32m   5875\u001b[0m         \u001b[1;32mif\u001b[0m \u001b[0minplace\u001b[0m\u001b[1;33m:\u001b[0m\u001b[1;33m\u001b[0m\u001b[1;33m\u001b[0m\u001b[0m\n\u001b[0;32m   5876\u001b[0m             \u001b[0mframe\u001b[0m \u001b[1;33m=\u001b[0m \u001b[0mself\u001b[0m\u001b[1;33m\u001b[0m\u001b[1;33m\u001b[0m\u001b[0m\n",
      "\u001b[1;31mKeyError\u001b[0m: \"None of ['datetime'] are in the columns\""
     ]
    }
   ],
   "source": [
    "# Creating a seaborn plot\n",
    "df_filtered = df_filtered.set_index('datetime').sort_index()\n",
    "\n",
    "plt.figure(figsize=(10, 6))\n",
    "# Plotting data\n",
    "plt.plot(df_filtered['datetime'], df_filtered['pm10'], marker='o', linestyle='-', color='b', label='PM10') # datetime is \n",
    "plt.plot(df_filtered['datetime'], df_filtered['wind_speed'], marker='o', linestyle='-', color='r', label='Wind Speed')\n",
    "plt.plot(df_filtered['datetime'], df_filtered['wind_direction'], marker='o', linestyle='-', color='y', label='Wind Direction')\n",
    "\n",
    "# Adding annotations\n",
    "for x, y1, y2, y3 in zip(df_filtered['datetime'], df_filtered['pm10'], df_filtered['wind_speed'], df_filtered['wind_direction']):\n",
    "    plt.text(x, y1, f'{y1:.0f}', ha='center', va='bottom', fontsize=9)  # PM10 annotations\n",
    "    plt.text(x, y2, f'{y2:.2f}', ha='center', va='bottom', fontsize=9)  # Wind Speed annotations\n",
    "    plt.text(x, y3, f'{y3:.0f}', ha='center', va='bottom', fontsize=9)  # Wind Direction annotations\n",
    "\n",
    "# Adding labels and title\n",
    "plt.xlabel('Datetime')\n",
    "plt.ylabel('Value')\n",
    "plt.title('PM10, Wind Speed, and Wind Direction')\n",
    "plt.legend()\n",
    "\n",
    "# Adding a second y-axis for total counts (example)\n",
    "#ax2 = plt.twinx()\n",
    "#ax2.set_ylabel('Total Counts')\n",
    "#ax2.plot(df_filtered['datetime'], df_filtered['wind_speed'], linestyle='--', color='g', label='Total Counts')\n",
    "#ax2.legend(loc='upper right')\n",
    "\n",
    "# Show plot\n",
    "plt.grid(True)\n",
    "plt.tight_layout()\n",
    "plt.show()"
   ]
  },
  {
   "cell_type": "code",
   "execution_count": null,
   "id": "58d4a994-197b-4b4f-b26c-e07a0c2c4c69",
   "metadata": {},
   "outputs": [],
   "source": []
  }
 ],
 "metadata": {
  "kernelspec": {
   "display_name": "Python 3 (ipykernel)",
   "language": "python",
   "name": "python3"
  },
  "language_info": {
   "codemirror_mode": {
    "name": "ipython",
    "version": 3
   },
   "file_extension": ".py",
   "mimetype": "text/x-python",
   "name": "python",
   "nbconvert_exporter": "python",
   "pygments_lexer": "ipython3",
   "version": "3.11.8"
  }
 },
 "nbformat": 4,
 "nbformat_minor": 5
}
