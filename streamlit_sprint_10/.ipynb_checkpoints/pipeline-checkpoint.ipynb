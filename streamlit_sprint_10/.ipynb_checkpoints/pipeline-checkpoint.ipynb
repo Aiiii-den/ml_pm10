{
 "cells": [
  {
   "cell_type": "code",
   "execution_count": 1,
   "id": "a12f05d4-2202-4081-a054-0167de8168cf",
   "metadata": {},
   "outputs": [],
   "source": [
    "import pandas as pd\n",
    "import requests\n",
    "from datetime import datetime, timedelta"
   ]
  },
  {
   "cell_type": "code",
   "execution_count": 2,
   "id": "18436a30-80e0-45f6-bd39-b654293fc40d",
   "metadata": {},
   "outputs": [],
   "source": [
    "def get_current_datetime_info():\n",
    "    # Get the current date and time\n",
    "    current_datetime = datetime.now()\n",
    "\n",
    "    # Extract components from the current date and time\n",
    "    hour = current_datetime.hour\n",
    "    day = current_datetime.day\n",
    "    month = current_datetime.month\n",
    "    year = current_datetime.year\n",
    "    day_of_week = current_datetime.weekday()  # Monday is 0, Sunday is 6\n",
    "    is_weekend = 1 if day_of_week >= 5 else 0  # 1 if Saturday (5) or Sunday (6), else 0\n",
    "\n",
    "    # Create a DataFrame with the extracted information\n",
    "    time_info = {'hour': [hour],\n",
    "            'day': [day],\n",
    "            'month': [month],\n",
    "            'year': [year],\n",
    "            'day_of_week': [day_of_week],\n",
    "            'is_weekend': [is_weekend]}\n",
    "\n",
    "    df = pd.DataFrame(time_info)\n",
    "    return df\n",
    "\n",
    "# Example usage\n",
    "datetime_info_df = get_current_datetime_info()"
   ]
  },
  {
   "cell_type": "code",
   "execution_count": 3,
   "id": "7f516f46-cbad-4eea-b716-2b540c901a3d",
   "metadata": {},
   "outputs": [
    {
     "name": "stdout",
     "output_type": "stream",
     "text": [
      "                    datetime  no_h-1  no2_h-1  nox_h-1  pm10_h-1  pm2_h-1\n",
      "0  2024-09-12T19:00:00+02:00    38.0     50.0    109.0      15.0      7.0\n"
     ]
    }
   ],
   "source": [
    "def call_weather_api():\n",
    "    # Get the current date and time\n",
    "    current_datetime = datetime.now()\n",
    "\n",
    "    # Subtract one hour to get the last completed hour\n",
    "    previous_hour_datetime = current_datetime - timedelta(hours=1)\n",
    "\n",
    "    # Format datetime to the required format \"dd.MM.yyyy HH:00\"\n",
    "    formatted_date = previous_hour_datetime.strftime(\"%d.%m.%Y %H:00\")\n",
    "\n",
    "    # Construct the API URL with the formatted date\n",
    "    api_url = f\"https://luftdaten.berlin.de/api/stations/mc124/data?timespan=custom&start={formatted_date}&end={formatted_date}\"\n",
    "\n",
    "    # Make the API call\n",
    "    response = requests.get(api_url)\n",
    "\n",
    "    # Check if the request was successful\n",
    "    if response.status_code == 200:\n",
    "        # Parse the JSON response\n",
    "        data = response.json()\n",
    "\n",
    "        # Convert the list of dictionaries to a DataFrame\n",
    "        df = pd.DataFrame(data)\n",
    "\n",
    "        # Pivot the DataFrame so each unique core becomes a separate column\n",
    "        if not df.empty:\n",
    "            if 'core' in df.columns:\n",
    "                df_pivot = df.pivot_table(index='datetime', columns='core', values='value')\n",
    "                df_pivot.columns = [f'{col}' for col in df_pivot.columns]  # Rename columns for clarity\n",
    "                df_pivot.reset_index(inplace=True)  # Optional: reset index to flatten the DataFrame\n",
    "                return df_pivot\n",
    "            else:\n",
    "                print(\"The key 'core' is not found in the DataFrame.\")\n",
    "                return None\n",
    "        else:\n",
    "            print(\"The DataFrame is empty.\")\n",
    "            return None\n",
    "    else:\n",
    "        print(f\"Failed to fetch data: {response.status_code}\")\n",
    "        return None\n",
    "\n",
    "data_df = call_weather_api()\n",
    "if data_df is not None:\n",
    "    print(data_df)\n"
   ]
  },
  {
   "cell_type": "markdown",
   "id": "deef4189-ae61-44cb-996b-e693158cfd43",
   "metadata": {},
   "source": [
    "TODO for the app\n",
    "get current datetime and splitit into year, month, date, hour, day, is_weekend and remove timezone marker\n",
    "\n",
    "create new df with current datetime and the values from the call_weather_api df and add _h-1 to each columnn except datetime"
   ]
  }
 ],
 "metadata": {
  "kernelspec": {
   "display_name": "Python 3 (ipykernel)",
   "language": "python",
   "name": "python3"
  },
  "language_info": {
   "codemirror_mode": {
    "name": "ipython",
    "version": 3
   },
   "file_extension": ".py",
   "mimetype": "text/x-python",
   "name": "python",
   "nbconvert_exporter": "python",
   "pygments_lexer": "ipython3",
   "version": "3.11.8"
  }
 },
 "nbformat": 4,
 "nbformat_minor": 5
}
