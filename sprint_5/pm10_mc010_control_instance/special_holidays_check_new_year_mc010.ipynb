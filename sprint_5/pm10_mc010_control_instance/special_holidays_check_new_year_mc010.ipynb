{
 "cells": [
  {
   "cell_type": "markdown",
   "id": "b1919828-8855-45a6-9162-6c6b4d26dcd3",
   "metadata": {},
   "source": [
    "#### __This notebook is used to check for abnormalities during special events which could cause irrgegularities in the data.__\n",
    "For example new years, eastern and covid isolation. \n",
    "\n",
    "_Common sources of PM10 particles include:_  \n",
    " dust from unsealed roads  \n",
    " smoke from fires  \n",
    " sea salt   \n",
    " car and truck exhausts  \n",
    " industry  "
   ]
  },
  {
   "cell_type": "markdown",
   "id": "f4db5fcf-d8f6-4d88-9df4-d1128516e988",
   "metadata": {},
   "source": [
    "#### _To-Do:_  \n",
    "- [ x ] Combine December and January of following years to gauge the spike of pm10 on new years  \n",
    "- [ ] Look at March of a specific year outside of covid years  \n",
    "- [ ] Get averages of each year and compare to average of covid years -- move this task to the seaborn notebook"
   ]
  },
  {
   "cell_type": "markdown",
   "id": "54e73c22-6e83-4f2b-b29a-8f507f4fa3cc",
   "metadata": {},
   "source": [
    "#### _Unterstützende Quellen_\n",
    " "
   ]
  },
  {
   "cell_type": "code",
   "execution_count": 1,
   "id": "84fdf406-5076-42bd-b345-93017ae2747e",
   "metadata": {},
   "outputs": [],
   "source": [
    "import pandas as pd\n",
    "import matplotlib.pyplot as plt\n",
    "import seaborn as sns\n",
    "import numpy as np\n",
    "import os\n",
    "import json"
   ]
  },
  {
   "cell_type": "markdown",
   "id": "58701aab-02d8-4985-bd04-a85c6d325207",
   "metadata": {},
   "source": [
    "# NEW YEARS 2024"
   ]
  },
  {
   "cell_type": "code",
   "execution_count": 2,
   "id": "389ae7c6-70e2-4836-aa96-7c35aa2200e5",
   "metadata": {},
   "outputs": [
    {
     "name": "stdout",
     "output_type": "stream",
     "text": [
      "<class 'pandas.core.frame.DataFrame'>\n",
      "Index: 1488 entries, 0 to 3715\n",
      "Data columns (total 6 columns):\n",
      " #   Column     Non-Null Count  Dtype                    \n",
      "---  ------     --------------  -----                    \n",
      " 0   datetime   1488 non-null   datetime64[ns, UTC+01:00]\n",
      " 1   station    1488 non-null   object                   \n",
      " 2   core       1488 non-null   object                   \n",
      " 3   component  1488 non-null   object                   \n",
      " 4   period     1488 non-null   object                   \n",
      " 5   value      1487 non-null   float64                  \n",
      "dtypes: datetime64[ns, UTC+01:00](1), float64(1), object(4)\n",
      "memory usage: 81.4+ KB\n"
     ]
    }
   ],
   "source": [
    "file_path_dec_2023 = os.path.join(\"..\", \"mc124_data\",\"mc124_data_2023_12.json\")# join because different os use either \\ or / as file path seperators\n",
    "file_path_jan_2024 = os.path.join(\"..\", \"mc124_data\",\"mc124_data_2024_01.json\")\n",
    "df_dec_2023 = pd.read_json(file_path_dec_2023)\n",
    "df_jan_2024 = pd.read_json(file_path_jan_2024)\n",
    "df_pm10_dec_2023 = df_dec_2023[(df_dec_2023['core'] == 'pm10')]\n",
    "df_pm10_jan_2024 = df_jan_2024[(df_jan_2024['core'] == 'pm10')]\n",
    "# ny_24 - new years 2024\n",
    "df_pm10_dec23_jan_24 = pd.concat([df_pm10_dec_2023, df_pm10_jan_2024])\n",
    "df_pm10_dec23_jan_24.info()"
   ]
  },
  {
   "cell_type": "code",
   "execution_count": 24,
   "id": "3dae4b27-19e5-4471-aa34-29130270fdfb",
   "metadata": {},
   "outputs": [
    {
     "data": {
      "text/html": [
       "<div>\n",
       "<style scoped>\n",
       "    .dataframe tbody tr th:only-of-type {\n",
       "        vertical-align: middle;\n",
       "    }\n",
       "\n",
       "    .dataframe tbody tr th {\n",
       "        vertical-align: top;\n",
       "    }\n",
       "\n",
       "    .dataframe thead th {\n",
       "        text-align: right;\n",
       "    }\n",
       "</style>\n",
       "<table border=\"1\" class=\"dataframe\">\n",
       "  <thead>\n",
       "    <tr style=\"text-align: right;\">\n",
       "      <th></th>\n",
       "      <th>datetime</th>\n",
       "      <th>station</th>\n",
       "      <th>core</th>\n",
       "      <th>component</th>\n",
       "      <th>period</th>\n",
       "      <th>value</th>\n",
       "    </tr>\n",
       "  </thead>\n",
       "  <tbody>\n",
       "    <tr>\n",
       "      <th>1340</th>\n",
       "      <td>2024-01-20 19:00:00+01:00</td>\n",
       "      <td>mc124</td>\n",
       "      <td>pm10</td>\n",
       "      <td>pm10_1h</td>\n",
       "      <td>1h</td>\n",
       "      <td>19.0</td>\n",
       "    </tr>\n",
       "  </tbody>\n",
       "</table>\n",
       "</div>"
      ],
      "text/plain": [
       "                      datetime station  core component period  value\n",
       "1340 2024-01-20 19:00:00+01:00   mc124  pm10   pm10_1h     1h   19.0"
      ]
     },
     "execution_count": 24,
     "metadata": {},
     "output_type": "execute_result"
    }
   ],
   "source": [
    "df_pm10_dec23_jan_24.sample()"
   ]
  },
  {
   "cell_type": "code",
   "execution_count": 3,
   "id": "a659ea9e-f70b-4dd7-a146-a126636b4c6c",
   "metadata": {},
   "outputs": [
    {
     "data": {
      "text/html": [
       "<div>\n",
       "<style scoped>\n",
       "    .dataframe tbody tr th:only-of-type {\n",
       "        vertical-align: middle;\n",
       "    }\n",
       "\n",
       "    .dataframe tbody tr th {\n",
       "        vertical-align: top;\n",
       "    }\n",
       "\n",
       "    .dataframe thead th {\n",
       "        text-align: right;\n",
       "    }\n",
       "</style>\n",
       "<table border=\"1\" class=\"dataframe\">\n",
       "  <thead>\n",
       "    <tr style=\"text-align: right;\">\n",
       "      <th></th>\n",
       "      <th>datetime</th>\n",
       "      <th>station</th>\n",
       "      <th>core</th>\n",
       "      <th>component</th>\n",
       "      <th>period</th>\n",
       "      <th>value</th>\n",
       "    </tr>\n",
       "  </thead>\n",
       "  <tbody>\n",
       "    <tr>\n",
       "      <th>3695</th>\n",
       "      <td>2024-01-01 04:00:00+01:00</td>\n",
       "      <td>mc124</td>\n",
       "      <td>pm10</td>\n",
       "      <td>pm10_1h</td>\n",
       "      <td>1h</td>\n",
       "      <td>50.0</td>\n",
       "    </tr>\n",
       "    <tr>\n",
       "      <th>3700</th>\n",
       "      <td>2024-01-01 03:00:00+01:00</td>\n",
       "      <td>mc124</td>\n",
       "      <td>pm10</td>\n",
       "      <td>pm10_1h</td>\n",
       "      <td>1h</td>\n",
       "      <td>63.0</td>\n",
       "    </tr>\n",
       "    <tr>\n",
       "      <th>3705</th>\n",
       "      <td>2024-01-01 02:00:00+01:00</td>\n",
       "      <td>mc124</td>\n",
       "      <td>pm10</td>\n",
       "      <td>pm10_1h</td>\n",
       "      <td>1h</td>\n",
       "      <td>134.0</td>\n",
       "    </tr>\n",
       "    <tr>\n",
       "      <th>3710</th>\n",
       "      <td>2024-01-01 01:00:00+01:00</td>\n",
       "      <td>mc124</td>\n",
       "      <td>pm10</td>\n",
       "      <td>pm10_1h</td>\n",
       "      <td>1h</td>\n",
       "      <td>712.0</td>\n",
       "    </tr>\n",
       "    <tr>\n",
       "      <th>3715</th>\n",
       "      <td>2024-01-01 00:00:00+01:00</td>\n",
       "      <td>mc124</td>\n",
       "      <td>pm10</td>\n",
       "      <td>pm10_1h</td>\n",
       "      <td>1h</td>\n",
       "      <td>88.0</td>\n",
       "    </tr>\n",
       "  </tbody>\n",
       "</table>\n",
       "</div>"
      ],
      "text/plain": [
       "                      datetime station  core component period  value\n",
       "3695 2024-01-01 04:00:00+01:00   mc124  pm10   pm10_1h     1h   50.0\n",
       "3700 2024-01-01 03:00:00+01:00   mc124  pm10   pm10_1h     1h   63.0\n",
       "3705 2024-01-01 02:00:00+01:00   mc124  pm10   pm10_1h     1h  134.0\n",
       "3710 2024-01-01 01:00:00+01:00   mc124  pm10   pm10_1h     1h  712.0\n",
       "3715 2024-01-01 00:00:00+01:00   mc124  pm10   pm10_1h     1h   88.0"
      ]
     },
     "execution_count": 3,
     "metadata": {},
     "output_type": "execute_result"
    }
   ],
   "source": [
    "df_pm10_dec23_jan_24.tail(5)"
   ]
  },
  {
   "cell_type": "code",
   "execution_count": 35,
   "id": "78a9383c-4b9a-4ffc-a1cd-231ebe81b553",
   "metadata": {},
   "outputs": [
    {
     "data": {
      "text/plain": [
       "DatetimeIndex(['2023-12-31 23:00:00+01:00', '2023-12-31 22:00:00+01:00',\n",
       "               '2023-12-31 21:00:00+01:00', '2023-12-31 20:00:00+01:00',\n",
       "               '2023-12-31 19:00:00+01:00', '2023-12-31 18:00:00+01:00',\n",
       "               '2023-12-31 17:00:00+01:00', '2023-12-31 16:00:00+01:00',\n",
       "               '2023-12-31 15:00:00+01:00', '2023-12-31 14:00:00+01:00',\n",
       "               ...\n",
       "               '2024-01-01 09:00:00+01:00', '2024-01-01 08:00:00+01:00',\n",
       "               '2024-01-01 07:00:00+01:00', '2024-01-01 06:00:00+01:00',\n",
       "               '2024-01-01 05:00:00+01:00', '2024-01-01 04:00:00+01:00',\n",
       "               '2024-01-01 03:00:00+01:00', '2024-01-01 02:00:00+01:00',\n",
       "               '2024-01-01 01:00:00+01:00', '2024-01-01 00:00:00+01:00'],\n",
       "              dtype='datetime64[ns, UTC+01:00]', name='datetime', length=1488, freq=None)"
      ]
     },
     "execution_count": 35,
     "metadata": {},
     "output_type": "execute_result"
    }
   ],
   "source": [
    "plot_df.index"
   ]
  },
  {
   "cell_type": "code",
   "execution_count": 37,
   "id": "b90ba7a4-668d-49bc-9358-dcebcddc6736",
   "metadata": {},
   "outputs": [
    {
     "data": {
      "text/plain": [
       "DatetimeIndex(['2023-12-01 00:00:00+01:00', '2023-12-01 01:00:00+01:00',\n",
       "               '2023-12-01 02:00:00+01:00', '2023-12-01 03:00:00+01:00',\n",
       "               '2023-12-01 04:00:00+01:00', '2023-12-01 05:00:00+01:00',\n",
       "               '2023-12-01 06:00:00+01:00', '2023-12-01 07:00:00+01:00',\n",
       "               '2023-12-01 08:00:00+01:00', '2023-12-01 09:00:00+01:00',\n",
       "               ...\n",
       "               '2024-01-31 14:00:00+01:00', '2024-01-31 15:00:00+01:00',\n",
       "               '2024-01-31 16:00:00+01:00', '2024-01-31 17:00:00+01:00',\n",
       "               '2024-01-31 18:00:00+01:00', '2024-01-31 19:00:00+01:00',\n",
       "               '2024-01-31 20:00:00+01:00', '2024-01-31 21:00:00+01:00',\n",
       "               '2024-01-31 22:00:00+01:00', '2024-01-31 23:00:00+01:00'],\n",
       "              dtype='datetime64[ns, UTC+01:00]', name='datetime', length=1488, freq=None)"
      ]
     },
     "execution_count": 37,
     "metadata": {},
     "output_type": "execute_result"
    }
   ],
   "source": [
    "plot_df.sort_index().index"
   ]
  },
  {
   "cell_type": "code",
   "execution_count": 54,
   "id": "bf50ee8e-5379-4ecb-bcdf-5b544f62d7c1",
   "metadata": {},
   "outputs": [
    {
     "data": {
      "text/plain": [
       "[<matplotlib.lines.Line2D at 0x1a940b920d0>]"
      ]
     },
     "execution_count": 54,
     "metadata": {},
     "output_type": "execute_result"
    },
    {
     "data": {
      "image/png": "[encoded data removed]",
      "text/plain": [
       "<Figure size 1000x600 with 1 Axes>"
      ]
     },
     "metadata": {},
     "output_type": "display_data"
    }
   ],
   "source": [
    "plot_df_dec23_jan24 = df_pm10_dec23_jan_24.set_index('datetime').sort_index()\n",
    "plt.figure(figsize=(10, 6))\n",
    "plt.xticks(rotation=90)\n",
    "plt.plot(plot_df_dec23_jan24[['value']], color=\"blue\", linewidth=1)"
   ]
  },
  {
   "cell_type": "code",
   "execution_count": 6,
   "id": "180a42d3-3065-40bf-aea3-a0c4150b029a",
   "metadata": {},
   "outputs": [
    {
     "data": {
      "text/html": [
       "<div>\n",
       "<style scoped>\n",
       "    .dataframe tbody tr th:only-of-type {\n",
       "        vertical-align: middle;\n",
       "    }\n",
       "\n",
       "    .dataframe tbody tr th {\n",
       "        vertical-align: top;\n",
       "    }\n",
       "\n",
       "    .dataframe thead th {\n",
       "        text-align: right;\n",
       "    }\n",
       "</style>\n",
       "<table border=\"1\" class=\"dataframe\">\n",
       "  <thead>\n",
       "    <tr style=\"text-align: right;\">\n",
       "      <th></th>\n",
       "      <th>value</th>\n",
       "    </tr>\n",
       "  </thead>\n",
       "  <tbody>\n",
       "    <tr>\n",
       "      <th>count</th>\n",
       "      <td>1487.000000</td>\n",
       "    </tr>\n",
       "    <tr>\n",
       "      <th>mean</th>\n",
       "      <td>20.807666</td>\n",
       "    </tr>\n",
       "    <tr>\n",
       "      <th>std</th>\n",
       "      <td>22.266993</td>\n",
       "    </tr>\n",
       "    <tr>\n",
       "      <th>min</th>\n",
       "      <td>4.000000</td>\n",
       "    </tr>\n",
       "    <tr>\n",
       "      <th>25%</th>\n",
       "      <td>11.000000</td>\n",
       "    </tr>\n",
       "    <tr>\n",
       "      <th>50%</th>\n",
       "      <td>18.000000</td>\n",
       "    </tr>\n",
       "    <tr>\n",
       "      <th>75%</th>\n",
       "      <td>26.000000</td>\n",
       "    </tr>\n",
       "    <tr>\n",
       "      <th>max</th>\n",
       "      <td>712.000000</td>\n",
       "    </tr>\n",
       "  </tbody>\n",
       "</table>\n",
       "</div>"
      ],
      "text/plain": [
       "             value\n",
       "count  1487.000000\n",
       "mean     20.807666\n",
       "std      22.266993\n",
       "min       4.000000\n",
       "25%      11.000000\n",
       "50%      18.000000\n",
       "75%      26.000000\n",
       "max     712.000000"
      ]
     },
     "execution_count": 6,
     "metadata": {},
     "output_type": "execute_result"
    }
   ],
   "source": [
    "df_pm10_dec23_jan_24.describe()"
   ]
  },
  {
   "cell_type": "markdown",
   "id": "370ef488-5a9f-4b85-9344-626fba63b44a",
   "metadata": {},
   "source": [
    "### 31.12.2023 & 01.01.2024"
   ]
  },
  {
   "cell_type": "code",
   "execution_count": 55,
   "id": "b56ed6ef-03d2-417b-9f5a-26887d42293e",
   "metadata": {},
   "outputs": [
    {
     "name": "stdout",
     "output_type": "stream",
     "text": [
      "<class 'pandas.core.frame.DataFrame'>\n",
      "Index: 48 entries, 0 to 3715\n",
      "Data columns (total 6 columns):\n",
      " #   Column     Non-Null Count  Dtype                    \n",
      "---  ------     --------------  -----                    \n",
      " 0   datetime   48 non-null     datetime64[ns, UTC+01:00]\n",
      " 1   station    48 non-null     object                   \n",
      " 2   core       48 non-null     object                   \n",
      " 3   component  48 non-null     object                   \n",
      " 4   period     48 non-null     object                   \n",
      " 5   value      48 non-null     float64                  \n",
      "dtypes: datetime64[ns, UTC+01:00](1), float64(1), object(4)\n",
      "memory usage: 2.6+ KB\n"
     ]
    }
   ],
   "source": [
    "# Multiple days\n",
    "# targeting Dec 31st 2023 + Jan 01st 2024\n",
    "start_date = '2023-12-31'\n",
    "end_date = '2024-01-01'\n",
    "\n",
    "# Convert the dates to datetime objects\n",
    "start_date = pd.to_datetime(start_date)\n",
    "end_date = pd.to_datetime(end_date)\n",
    "\n",
    "# Filter the dataframe for the specified date range\n",
    "df_filtered_ny_2024 = df_pm10_dec23_jan_24[(df_pm10_dec23_jan_24['datetime'].dt.date >= start_date.date()) & \n",
    "                           (df_pm10_dec23_jan_24['datetime'].dt.date <= end_date.date())]\n",
    "\n",
    "df_filtered_ny_2024.info()"
   ]
  },
  {
   "cell_type": "code",
   "execution_count": 58,
   "id": "de3eb7a6-9afa-449c-b1e3-c2305b994494",
   "metadata": {},
   "outputs": [
    {
     "data": {
      "text/html": [
       "<div>\n",
       "<style scoped>\n",
       "    .dataframe tbody tr th:only-of-type {\n",
       "        vertical-align: middle;\n",
       "    }\n",
       "\n",
       "    .dataframe tbody tr th {\n",
       "        vertical-align: top;\n",
       "    }\n",
       "\n",
       "    .dataframe thead th {\n",
       "        text-align: right;\n",
       "    }\n",
       "</style>\n",
       "<table border=\"1\" class=\"dataframe\">\n",
       "  <thead>\n",
       "    <tr style=\"text-align: right;\">\n",
       "      <th></th>\n",
       "      <th>datetime</th>\n",
       "      <th>station</th>\n",
       "      <th>core</th>\n",
       "      <th>component</th>\n",
       "      <th>period</th>\n",
       "      <th>value</th>\n",
       "    </tr>\n",
       "  </thead>\n",
       "  <tbody>\n",
       "    <tr>\n",
       "      <th>0</th>\n",
       "      <td>2023-12-31 23:00:00+01:00</td>\n",
       "      <td>mc124</td>\n",
       "      <td>pm10</td>\n",
       "      <td>pm10_1h</td>\n",
       "      <td>1h</td>\n",
       "      <td>27.0</td>\n",
       "    </tr>\n",
       "    <tr>\n",
       "      <th>5</th>\n",
       "      <td>2023-12-31 22:00:00+01:00</td>\n",
       "      <td>mc124</td>\n",
       "      <td>pm10</td>\n",
       "      <td>pm10_1h</td>\n",
       "      <td>1h</td>\n",
       "      <td>34.0</td>\n",
       "    </tr>\n",
       "  </tbody>\n",
       "</table>\n",
       "</div>"
      ],
      "text/plain": [
       "                   datetime station  core component period  value\n",
       "0 2023-12-31 23:00:00+01:00   mc124  pm10   pm10_1h     1h   27.0\n",
       "5 2023-12-31 22:00:00+01:00   mc124  pm10   pm10_1h     1h   34.0"
      ]
     },
     "execution_count": 58,
     "metadata": {},
     "output_type": "execute_result"
    }
   ],
   "source": [
    "df_filtered_ny_2024.head(2)"
   ]
  },
  {
   "cell_type": "code",
   "execution_count": 59,
   "id": "a9105712-818a-4080-b155-2379b813058f",
   "metadata": {},
   "outputs": [
    {
     "data": {
      "text/html": [
       "<div>\n",
       "<style scoped>\n",
       "    .dataframe tbody tr th:only-of-type {\n",
       "        vertical-align: middle;\n",
       "    }\n",
       "\n",
       "    .dataframe tbody tr th {\n",
       "        vertical-align: top;\n",
       "    }\n",
       "\n",
       "    .dataframe thead th {\n",
       "        text-align: right;\n",
       "    }\n",
       "</style>\n",
       "<table border=\"1\" class=\"dataframe\">\n",
       "  <thead>\n",
       "    <tr style=\"text-align: right;\">\n",
       "      <th></th>\n",
       "      <th>datetime</th>\n",
       "      <th>station</th>\n",
       "      <th>core</th>\n",
       "      <th>component</th>\n",
       "      <th>period</th>\n",
       "      <th>value</th>\n",
       "    </tr>\n",
       "  </thead>\n",
       "  <tbody>\n",
       "    <tr>\n",
       "      <th>3710</th>\n",
       "      <td>2024-01-01 01:00:00+01:00</td>\n",
       "      <td>mc124</td>\n",
       "      <td>pm10</td>\n",
       "      <td>pm10_1h</td>\n",
       "      <td>1h</td>\n",
       "      <td>712.0</td>\n",
       "    </tr>\n",
       "    <tr>\n",
       "      <th>3715</th>\n",
       "      <td>2024-01-01 00:00:00+01:00</td>\n",
       "      <td>mc124</td>\n",
       "      <td>pm10</td>\n",
       "      <td>pm10_1h</td>\n",
       "      <td>1h</td>\n",
       "      <td>88.0</td>\n",
       "    </tr>\n",
       "  </tbody>\n",
       "</table>\n",
       "</div>"
      ],
      "text/plain": [
       "                      datetime station  core component period  value\n",
       "3710 2024-01-01 01:00:00+01:00   mc124  pm10   pm10_1h     1h  712.0\n",
       "3715 2024-01-01 00:00:00+01:00   mc124  pm10   pm10_1h     1h   88.0"
      ]
     },
     "execution_count": 59,
     "metadata": {},
     "output_type": "execute_result"
    }
   ],
   "source": [
    "df_filtered_ny_2024.tail(2)"
   ]
  },
  {
   "cell_type": "code",
   "execution_count": 65,
   "id": "9a27e53c-7422-4b43-85fb-f7be852c7e5a",
   "metadata": {},
   "outputs": [
    {
     "ename": "KeyError",
     "evalue": "'datetime'",
     "output_type": "error",
     "traceback": [
      "\u001b[1;31m---------------------------------------------------------------------------\u001b[0m",
      "\u001b[1;31mKeyError\u001b[0m                                  Traceback (most recent call last)",
      "File \u001b[1;32m~\\anaconda3\\envs\\basics\\Lib\\site-packages\\pandas\\core\\indexes\\base.py:3790\u001b[0m, in \u001b[0;36mIndex.get_loc\u001b[1;34m(self, key)\u001b[0m\n\u001b[0;32m   3789\u001b[0m \u001b[38;5;28;01mtry\u001b[39;00m:\n\u001b[1;32m-> 3790\u001b[0m     \u001b[38;5;28;01mreturn\u001b[39;00m \u001b[38;5;28mself\u001b[39m\u001b[38;5;241m.\u001b[39m_engine\u001b[38;5;241m.\u001b[39mget_loc(casted_key)\n\u001b[0;32m   3791\u001b[0m \u001b[38;5;28;01mexcept\u001b[39;00m \u001b[38;5;167;01mKeyError\u001b[39;00m \u001b[38;5;28;01mas\u001b[39;00m err:\n",
      "File \u001b[1;32mindex.pyx:152\u001b[0m, in \u001b[0;36mpandas._libs.index.IndexEngine.get_loc\u001b[1;34m()\u001b[0m\n",
      "File \u001b[1;32mindex.pyx:181\u001b[0m, in \u001b[0;36mpandas._libs.index.IndexEngine.get_loc\u001b[1;34m()\u001b[0m\n",
      "File \u001b[1;32mpandas\\_libs\\hashtable_class_helper.pxi:7080\u001b[0m, in \u001b[0;36mpandas._libs.hashtable.PyObjectHashTable.get_item\u001b[1;34m()\u001b[0m\n",
      "File \u001b[1;32mpandas\\_libs\\hashtable_class_helper.pxi:7088\u001b[0m, in \u001b[0;36mpandas._libs.hashtable.PyObjectHashTable.get_item\u001b[1;34m()\u001b[0m\n",
      "\u001b[1;31mKeyError\u001b[0m: 'datetime'",
      "\nThe above exception was the direct cause of the following exception:\n",
      "\u001b[1;31mKeyError\u001b[0m                                  Traceback (most recent call last)",
      "Cell \u001b[1;32mIn[65], line 4\u001b[0m\n\u001b[0;32m      1\u001b[0m \u001b[38;5;28;01mdef\u001b[39;00m \u001b[38;5;21mcutDatetimeToHour\u001b[39m(datetime):\n\u001b[0;32m      2\u001b[0m     \u001b[38;5;28;01mreturn\u001b[39;00m datetime\u001b[38;5;241m.\u001b[39mhour\n\u001b[1;32m----> 4\u001b[0m plot_df_filtered_ny_2024[\u001b[38;5;124m\"\u001b[39m\u001b[38;5;124mhour\u001b[39m\u001b[38;5;124m\"\u001b[39m] \u001b[38;5;241m=\u001b[39m plot_df_filtered_ny_2024[\u001b[38;5;124m\"\u001b[39m\u001b[38;5;124mdatetime\u001b[39m\u001b[38;5;124m\"\u001b[39m]\u001b[38;5;241m.\u001b[39mmap(cutDatetimeToHour)\n",
      "File \u001b[1;32m~\\anaconda3\\envs\\basics\\Lib\\site-packages\\pandas\\core\\frame.py:3896\u001b[0m, in \u001b[0;36mDataFrame.__getitem__\u001b[1;34m(self, key)\u001b[0m\n\u001b[0;32m   3894\u001b[0m \u001b[38;5;28;01mif\u001b[39;00m \u001b[38;5;28mself\u001b[39m\u001b[38;5;241m.\u001b[39mcolumns\u001b[38;5;241m.\u001b[39mnlevels \u001b[38;5;241m>\u001b[39m \u001b[38;5;241m1\u001b[39m:\n\u001b[0;32m   3895\u001b[0m     \u001b[38;5;28;01mreturn\u001b[39;00m \u001b[38;5;28mself\u001b[39m\u001b[38;5;241m.\u001b[39m_getitem_multilevel(key)\n\u001b[1;32m-> 3896\u001b[0m indexer \u001b[38;5;241m=\u001b[39m \u001b[38;5;28mself\u001b[39m\u001b[38;5;241m.\u001b[39mcolumns\u001b[38;5;241m.\u001b[39mget_loc(key)\n\u001b[0;32m   3897\u001b[0m \u001b[38;5;28;01mif\u001b[39;00m is_integer(indexer):\n\u001b[0;32m   3898\u001b[0m     indexer \u001b[38;5;241m=\u001b[39m [indexer]\n",
      "File \u001b[1;32m~\\anaconda3\\envs\\basics\\Lib\\site-packages\\pandas\\core\\indexes\\base.py:3797\u001b[0m, in \u001b[0;36mIndex.get_loc\u001b[1;34m(self, key)\u001b[0m\n\u001b[0;32m   3792\u001b[0m     \u001b[38;5;28;01mif\u001b[39;00m \u001b[38;5;28misinstance\u001b[39m(casted_key, \u001b[38;5;28mslice\u001b[39m) \u001b[38;5;129;01mor\u001b[39;00m (\n\u001b[0;32m   3793\u001b[0m         \u001b[38;5;28misinstance\u001b[39m(casted_key, abc\u001b[38;5;241m.\u001b[39mIterable)\n\u001b[0;32m   3794\u001b[0m         \u001b[38;5;129;01mand\u001b[39;00m \u001b[38;5;28many\u001b[39m(\u001b[38;5;28misinstance\u001b[39m(x, \u001b[38;5;28mslice\u001b[39m) \u001b[38;5;28;01mfor\u001b[39;00m x \u001b[38;5;129;01min\u001b[39;00m casted_key)\n\u001b[0;32m   3795\u001b[0m     ):\n\u001b[0;32m   3796\u001b[0m         \u001b[38;5;28;01mraise\u001b[39;00m InvalidIndexError(key)\n\u001b[1;32m-> 3797\u001b[0m     \u001b[38;5;28;01mraise\u001b[39;00m \u001b[38;5;167;01mKeyError\u001b[39;00m(key) \u001b[38;5;28;01mfrom\u001b[39;00m \u001b[38;5;21;01merr\u001b[39;00m\n\u001b[0;32m   3798\u001b[0m \u001b[38;5;28;01mexcept\u001b[39;00m \u001b[38;5;167;01mTypeError\u001b[39;00m:\n\u001b[0;32m   3799\u001b[0m     \u001b[38;5;66;03m# If we have a listlike key, _check_indexing_error will raise\u001b[39;00m\n\u001b[0;32m   3800\u001b[0m     \u001b[38;5;66;03m#  InvalidIndexError. Otherwise we fall through and re-raise\u001b[39;00m\n\u001b[0;32m   3801\u001b[0m     \u001b[38;5;66;03m#  the TypeError.\u001b[39;00m\n\u001b[0;32m   3802\u001b[0m     \u001b[38;5;28mself\u001b[39m\u001b[38;5;241m.\u001b[39m_check_indexing_error(key)\n",
      "\u001b[1;31mKeyError\u001b[0m: 'datetime'"
     ]
    }
   ],
   "source": [
    "def cutDatetimeToHour(datetime):\n",
    "    return datetime.hour\n",
    "\n",
    "plot_df_filtered_ny_2024[\"hour\"] = plot_df_filtered_ny_2024[\"datetime\"].map(cutDatetimeToHour)"
   ]
  },
  {
   "cell_type": "code",
   "execution_count": 66,
   "id": "dcd489e1-2d0c-4f1f-80ce-1c41cc026ad9",
   "metadata": {},
   "outputs": [
    {
     "data": {
      "text/plain": [
       "<function matplotlib.pyplot.show(close=None, block=None)>"
      ]
     },
     "execution_count": 66,
     "metadata": {},
     "output_type": "execute_result"
    },
    {
     "data": {
      "image/png": "[encoded data removed]",
      "text/plain": [
       "<Figure size 1000x600 with 1 Axes>"
      ]
     },
     "metadata": {},
     "output_type": "display_data"
    }
   ],
   "source": [
    "plot_df_filtered_ny_2024 = df_filtered_ny_2024.set_index('datetime').sort_index()\n",
    "plt.figure(figsize=(10, 6))\n",
    "plt.plot(plot_df_filtered_ny_2024[['value']], color=\"blue\", linewidth=1)\n",
    "plt.xticks(rotation=90)\n",
    "plt.xlabel('Hour of Day')\n",
    "plt.ylabel('pm10 value')\n",
    "plt.title(f'Plot of Value on New Year 2024')\n",
    "#plt.xticks(plot_df_filtered_ny_2024['hour']) # TODO map to hour before\n",
    "plt.show"
   ]
  },
  {
   "cell_type": "markdown",
   "id": "ca02f9b4-69be-42c2-b009-20fbfd27eaea",
   "metadata": {},
   "source": [
    "### 31.12.2023 20:00 - 01.01.2024 04:00"
   ]
  },
  {
   "cell_type": "code",
   "execution_count": 28,
   "id": "0af277aa-5194-4551-a5ea-9d8780dde300",
   "metadata": {},
   "outputs": [
    {
     "name": "stdout",
     "output_type": "stream",
     "text": [
      "<class 'pandas.core.frame.DataFrame'>\n",
      "Index: 9 entries, 0 to 3715\n",
      "Data columns (total 6 columns):\n",
      " #   Column     Non-Null Count  Dtype                    \n",
      "---  ------     --------------  -----                    \n",
      " 0   datetime   9 non-null      datetime64[ns, UTC+01:00]\n",
      " 1   station    9 non-null      object                   \n",
      " 2   core       9 non-null      object                   \n",
      " 3   component  9 non-null      object                   \n",
      " 4   period     9 non-null      object                   \n",
      " 5   value      9 non-null      float64                  \n",
      "dtypes: datetime64[ns, UTC+01:00](1), float64(1), object(4)\n",
      "memory usage: 504.0+ bytes\n"
     ]
    }
   ],
   "source": [
    "# Multiple days\n",
    "#targeting specific days which show abnormal numbers:\n",
    "start_date_hour = '2023-12-31 20:00:00+01:00' #2024-01-20 19:00:00+01:00\n",
    "end_date_hour = '2024-01-01 04:00:00+01:00'\n",
    "\n",
    "# Convert the dates to datetime objects\n",
    "start_datetime_hour = pd.to_datetime(start_date_hour)\n",
    "end_datetime_hour = pd.to_datetime(end_date_hour)\n",
    "\n",
    "# Filter the dataframe for the specified date range\n",
    "df_filtered_ny_2024_focus = df_filtered_ny_2024[(df_filtered_ny_2024['datetime'] >= start_datetime_hour) & \n",
    "                                           (df_filtered_ny_2024['datetime'] <= end_datetime_hour)]\n",
    "\n",
    "df_filtered_ny_2024_focus.info()"
   ]
  },
  {
   "cell_type": "code",
   "execution_count": null,
   "id": "21db1863-4043-4064-bb6b-2d4f80b50069",
   "metadata": {},
   "outputs": [],
   "source": [
    "# mapping to the hour?? or day and hour"
   ]
  },
  {
   "cell_type": "code",
   "execution_count": 31,
   "id": "81e0e007-e634-42a5-98ba-1f4bfaa57a8a",
   "metadata": {},
   "outputs": [
    {
     "data": {
      "text/html": [
       "<div>\n",
       "<style scoped>\n",
       "    .dataframe tbody tr th:only-of-type {\n",
       "        vertical-align: middle;\n",
       "    }\n",
       "\n",
       "    .dataframe tbody tr th {\n",
       "        vertical-align: top;\n",
       "    }\n",
       "\n",
       "    .dataframe thead th {\n",
       "        text-align: right;\n",
       "    }\n",
       "</style>\n",
       "<table border=\"1\" class=\"dataframe\">\n",
       "  <thead>\n",
       "    <tr style=\"text-align: right;\">\n",
       "      <th></th>\n",
       "      <th>datetime</th>\n",
       "      <th>station</th>\n",
       "      <th>core</th>\n",
       "      <th>component</th>\n",
       "      <th>period</th>\n",
       "      <th>value</th>\n",
       "    </tr>\n",
       "  </thead>\n",
       "  <tbody>\n",
       "    <tr>\n",
       "      <th>0</th>\n",
       "      <td>2023-12-31 23:00:00+01:00</td>\n",
       "      <td>mc124</td>\n",
       "      <td>pm10</td>\n",
       "      <td>pm10_1h</td>\n",
       "      <td>1h</td>\n",
       "      <td>27.0</td>\n",
       "    </tr>\n",
       "    <tr>\n",
       "      <th>5</th>\n",
       "      <td>2023-12-31 22:00:00+01:00</td>\n",
       "      <td>mc124</td>\n",
       "      <td>pm10</td>\n",
       "      <td>pm10_1h</td>\n",
       "      <td>1h</td>\n",
       "      <td>34.0</td>\n",
       "    </tr>\n",
       "    <tr>\n",
       "      <th>10</th>\n",
       "      <td>2023-12-31 21:00:00+01:00</td>\n",
       "      <td>mc124</td>\n",
       "      <td>pm10</td>\n",
       "      <td>pm10_1h</td>\n",
       "      <td>1h</td>\n",
       "      <td>46.0</td>\n",
       "    </tr>\n",
       "    <tr>\n",
       "      <th>15</th>\n",
       "      <td>2023-12-31 20:00:00+01:00</td>\n",
       "      <td>mc124</td>\n",
       "      <td>pm10</td>\n",
       "      <td>pm10_1h</td>\n",
       "      <td>1h</td>\n",
       "      <td>31.0</td>\n",
       "    </tr>\n",
       "    <tr>\n",
       "      <th>3695</th>\n",
       "      <td>2024-01-01 04:00:00+01:00</td>\n",
       "      <td>mc124</td>\n",
       "      <td>pm10</td>\n",
       "      <td>pm10_1h</td>\n",
       "      <td>1h</td>\n",
       "      <td>50.0</td>\n",
       "    </tr>\n",
       "    <tr>\n",
       "      <th>3700</th>\n",
       "      <td>2024-01-01 03:00:00+01:00</td>\n",
       "      <td>mc124</td>\n",
       "      <td>pm10</td>\n",
       "      <td>pm10_1h</td>\n",
       "      <td>1h</td>\n",
       "      <td>63.0</td>\n",
       "    </tr>\n",
       "    <tr>\n",
       "      <th>3705</th>\n",
       "      <td>2024-01-01 02:00:00+01:00</td>\n",
       "      <td>mc124</td>\n",
       "      <td>pm10</td>\n",
       "      <td>pm10_1h</td>\n",
       "      <td>1h</td>\n",
       "      <td>134.0</td>\n",
       "    </tr>\n",
       "    <tr>\n",
       "      <th>3710</th>\n",
       "      <td>2024-01-01 01:00:00+01:00</td>\n",
       "      <td>mc124</td>\n",
       "      <td>pm10</td>\n",
       "      <td>pm10_1h</td>\n",
       "      <td>1h</td>\n",
       "      <td>712.0</td>\n",
       "    </tr>\n",
       "    <tr>\n",
       "      <th>3715</th>\n",
       "      <td>2024-01-01 00:00:00+01:00</td>\n",
       "      <td>mc124</td>\n",
       "      <td>pm10</td>\n",
       "      <td>pm10_1h</td>\n",
       "      <td>1h</td>\n",
       "      <td>88.0</td>\n",
       "    </tr>\n",
       "  </tbody>\n",
       "</table>\n",
       "</div>"
      ],
      "text/plain": [
       "                      datetime station  core component period  value\n",
       "0    2023-12-31 23:00:00+01:00   mc124  pm10   pm10_1h     1h   27.0\n",
       "5    2023-12-31 22:00:00+01:00   mc124  pm10   pm10_1h     1h   34.0\n",
       "10   2023-12-31 21:00:00+01:00   mc124  pm10   pm10_1h     1h   46.0\n",
       "15   2023-12-31 20:00:00+01:00   mc124  pm10   pm10_1h     1h   31.0\n",
       "3695 2024-01-01 04:00:00+01:00   mc124  pm10   pm10_1h     1h   50.0\n",
       "3700 2024-01-01 03:00:00+01:00   mc124  pm10   pm10_1h     1h   63.0\n",
       "3705 2024-01-01 02:00:00+01:00   mc124  pm10   pm10_1h     1h  134.0\n",
       "3710 2024-01-01 01:00:00+01:00   mc124  pm10   pm10_1h     1h  712.0\n",
       "3715 2024-01-01 00:00:00+01:00   mc124  pm10   pm10_1h     1h   88.0"
      ]
     },
     "execution_count": 31,
     "metadata": {},
     "output_type": "execute_result"
    }
   ],
   "source": [
    "df_filtered_ny_2024_focus"
   ]
  },
  {
   "cell_type": "code",
   "execution_count": 67,
   "id": "5ba5d16e-a711-47c5-bbc7-38fa1fb46ff1",
   "metadata": {},
   "outputs": [
    {
     "data": {
      "text/plain": [
       "<function matplotlib.pyplot.show(close=None, block=None)>"
      ]
     },
     "execution_count": 67,
     "metadata": {},
     "output_type": "execute_result"
    },
    {
     "data": {
      "image/png": "[encoded data removed]",
      "text/plain": [
       "<Figure size 1000x600 with 1 Axes>"
      ]
     },
     "metadata": {},
     "output_type": "display_data"
    }
   ],
   "source": [
    "plot_df_filtered_ny_2024_focus = df_filtered_ny_2024_focus.set_index('datetime').sort_index()\n",
    "plt.figure(figsize=(10, 6))\n",
    "plt.plot(plot_df_filtered_ny_2024_focus[['value']], color=\"blue\", linewidth=1)\n",
    "plt.xticks(rotation=90)\n",
    "plt.xlabel('Hour of Day')\n",
    "plt.ylabel('pm10 value')\n",
    "plt.title(f\"Plot of Value on New Year 2024 20:00-04:00 o'clock\")\n",
    "#plt.xticks(plot_df_filtered_ny_2024['hour']) # TODO map to hour before\n",
    "plt.show"
   ]
  },
  {
   "cell_type": "code",
   "execution_count": null,
   "id": "707e4a18-191d-4162-8fd2-f62adeb89ba0",
   "metadata": {},
   "outputs": [],
   "source": []
  }
 ],
 "metadata": {
  "kernelspec": {
   "display_name": "Python 3 (ipykernel)",
   "language": "python",
   "name": "python3"
  },
  "language_info": {
   "codemirror_mode": {
    "name": "ipython",
    "version": 3
   },
   "file_extension": ".py",
   "mimetype": "text/x-python",
   "name": "python",
   "nbconvert_exporter": "python",
   "pygments_lexer": "ipython3",
   "version": "3.11.8"
  }
 },
 "nbformat": 4,
 "nbformat_minor": 5
}
