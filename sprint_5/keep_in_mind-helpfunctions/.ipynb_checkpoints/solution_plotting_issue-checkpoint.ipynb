{
 "cells": [
  {
   "cell_type": "code",
   "execution_count": null,
   "id": "d09ab939-4448-4819-b00a-071ab4e4f0a3",
   "metadata": {},
   "outputs": [],
   "source": [
    "# solution for better plots\n",
    "plot_df = df_pm10_dec23_jan_24.set_index('datetime').sort_index()\n",
    "plt.figure(figsize=(10, 6))\n",
    "plt.plot(plot_df[['value']], color=\"blue\", linewidth=1)"
   ]
  }
 ],
 "metadata": {
  "kernelspec": {
   "display_name": "Python 3 (ipykernel)",
   "language": "python",
   "name": "python3"
  },
  "language_info": {
   "codemirror_mode": {
    "name": "ipython",
    "version": 3
   },
   "file_extension": ".py",
   "mimetype": "text/x-python",
   "name": "python",
   "nbconvert_exporter": "python",
   "pygments_lexer": "ipython3",
   "version": "3.11.8"
  }
 },
 "nbformat": 4,
 "nbformat_minor": 5
}
