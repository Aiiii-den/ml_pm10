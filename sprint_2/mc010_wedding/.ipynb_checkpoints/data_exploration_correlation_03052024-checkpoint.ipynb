{
 "cells": [
  {
   "cell_type": "code",
   "execution_count": null,
   "id": "36305a62-9e4e-43b1-b93d-3be411543cfc",
   "metadata": {},
   "outputs": [],
   "source": [
    "import numpy as np\n",
    "import pandas as pd\n",
    "#from ydata_profiling import ProfileReport\n",
    "import os\n",
    "import json\n",
    "\n",
    "file_path = os.path.join(\"..\", \"air_berlin\",\"2024-03_1h_mc010.json\") # join because different os use either \\ or / as file path seperators\n",
    "df = pd.read_json(file_path)\n",
    "df['datetime'] = pd.to_datetime(df['datetime'])"
   ]
  },
  {
   "cell_type": "code",
   "execution_count": null,
   "id": "328579d4-0ffe-4ee6-bbed-70ce4be0dad9",
   "metadata": {},
   "outputs": [],
   "source": [
    "# Select the relevant columns\n",
    "#subset_df = df[['datetime', 'component', 'value']]"
   ]
  },
  {
   "cell_type": "code",
   "execution_count": null,
   "id": "6e0010c6-0716-4d14-a23e-bb3bae841d78",
   "metadata": {},
   "outputs": [],
   "source": [
    "#profile = ProfileReport(subset_df, title=\"Air march 2024 - wedding report\")\n",
    "#profile.to_widgets()"
   ]
  },
  {
   "cell_type": "code",
   "execution_count": null,
   "id": "02087926-d97d-4154-a171-39a4ddf578ea",
   "metadata": {},
   "outputs": [],
   "source": [
    "#profile.to_file(\"air_march_2024_1h_mc010_report.html\")"
   ]
  },
  {
   "cell_type": "code",
   "execution_count": null,
   "id": "1d05b6a7-cf84-46a6-a15f-bf09ac02a80a",
   "metadata": {},
   "outputs": [],
   "source": [
    "# Pivot the data to get components as columns\n",
    "pivot_df = df.pivot(index='datetime', columns='component', values='value')\n",
    "pivot_df.sample(3)"
   ]
  },
  {
   "cell_type": "code",
   "execution_count": null,
   "id": "6ff5c377-500b-46d3-843b-e059d2f8798e",
   "metadata": {},
   "outputs": [],
   "source": [
    "correlation_matrix = pivot_df.corr()\n",
    "\n",
    "print(\"Correlation Matrix:\")\n",
    "print(correlation_matrix)"
   ]
  },
  {
   "cell_type": "code",
   "execution_count": null,
   "id": "989a37ad-0bf8-412f-9666-b4b39a1869a3",
   "metadata": {},
   "outputs": [],
   "source": [
    "import seaborn as sns\n",
    "import matplotlib.pyplot as plt\n",
    "\n",
    "# Create a heatmap for the correlation matrix\n",
    "sns.heatmap(correlation_matrix, annot=True, cmap='coolwarm', fmt=\".2f\")\n",
    "plt.title(\"Correlation Heatmap - Innerstädtischer Hintergrund\")\n",
    "plt.show()\n",
    "\n",
    "# Create scatter plots to visualize relationships\n",
    "sns.pairplot(pivot_df)\n",
    "plt.title(\"Scatter Plot Matrix\")\n",
    "plt.show()"
   ]
  },
  {
   "cell_type": "markdown",
   "id": "4b1463f5-733d-4d12-8ca7-6635c871f595",
   "metadata": {},
   "source": [
    "FAZIT:\n",
    "Vorhersage von pm10 anhand von Luftpartikeln (außer pm2) nicht feasable, da es kaum Korrelationen gibt"
   ]
  },
  {
   "cell_type": "code",
   "execution_count": null,
   "id": "f52080be-04ef-4c8d-b585-13bc061529ac",
   "metadata": {},
   "outputs": [],
   "source": []
  }
 ],
 "metadata": {
  "kernelspec": {
   "display_name": "Python 3 (ipykernel)",
   "language": "python",
   "name": "python3"
  },
  "language_info": {
   "codemirror_mode": {
    "name": "ipython",
    "version": 3
   },
   "file_extension": ".py",
   "mimetype": "text/x-python",
   "name": "python",
   "nbconvert_exporter": "python",
   "pygments_lexer": "ipython3",
   "version": "3.11.8"
  }
 },
 "nbformat": 4,
 "nbformat_minor": 5
}
