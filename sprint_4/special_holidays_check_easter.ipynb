{
 "cells": [
  {
   "cell_type": "markdown",
   "id": "b1919828-8855-45a6-9162-6c6b4d26dcd3",
   "metadata": {},
   "source": [
    "#### __This notebook is used to check for abnormalities during special events which could cause irrgegularities in the data.__\n",
    "For example new years, eastern and covid isolation. \n",
    "\n",
    "_Common sources of PM10 particles include:_  \n",
    " dust from unsealed roads  \n",
    " smoke from fires  \n",
    " sea salt   \n",
    " car and truck exhausts  \n",
    " industry  "
   ]
  },
  {
   "cell_type": "markdown",
   "id": "f4db5fcf-d8f6-4d88-9df4-d1128516e988",
   "metadata": {},
   "source": [
    "#### _To-Do:_  \n",
    "- [ x ] Combine December and January of following years to gauge the spike of pm10 on new years  \n",
    "- [ ] Look at March of a specific year outside of covid years  \n",
    "- [ ] Get averages of each year and compare to average of covid years -- move this task to the seaborn notebook"
   ]
  },
  {
   "cell_type": "markdown",
   "id": "54e73c22-6e83-4f2b-b29a-8f507f4fa3cc",
   "metadata": {},
   "source": [
    "#### _Unterstützende Quellen_\n",
    "https://www.hamburg.de/contentblob/18482644/f08783286efb17f169a36876e2a62eb9/data/pdf-osterfeuerbericht-2024.pdf  "
   ]
  },
  {
   "cell_type": "markdown",
   "id": "d9f3a158-ad4d-426e-9eef-312aa55846ce",
   "metadata": {},
   "source": [
    "#### _ANMERKUNGEN_\n",
    "- im März Datenset ist die datetime Spalte vom Typ Objekt und nicht vom Typ datetime -> typecasting\n",
    "- Umgang mit Sommer- & Winterzeit, ahhh -> Einheitliche Zeitzone UTC? Löschen von überschüssiger Stunde und Auffüllen fehlender Stunde mit Durchschnittswert\n",
    "- Ostersonntag - broken sensor??\n",
    "- Umgang fehlender Messwerte: bei 1ner Stunde Mittelwert h(n-1) & h(n+1) -> Abgesprochen und zugestimmt"
   ]
  },
  {
   "cell_type": "markdown",
   "id": "469843f0-7940-4cf6-b178-1cd4644ff23d",
   "metadata": {},
   "source": [
    "#### _IMPORTS_"
   ]
  },
  {
   "cell_type": "code",
   "execution_count": 1,
   "id": "84fdf406-5076-42bd-b345-93017ae2747e",
   "metadata": {},
   "outputs": [],
   "source": [
    "import pandas as pd\n",
    "import matplotlib.pyplot as plt\n",
    "import seaborn as sns\n",
    "import numpy as np\n",
    "import os\n",
    "import json"
   ]
  },
  {
   "cell_type": "markdown",
   "id": "58701aab-02d8-4985-bd04-a85c6d325207",
   "metadata": {},
   "source": [
    "# OSTERN"
   ]
  },
  {
   "cell_type": "markdown",
   "id": "a870d895-9eff-49cc-8a32-2605e2fd5cb4",
   "metadata": {},
   "source": [
    "### KARFREITAG, SAMSTAG & SONNTAG"
   ]
  },
  {
   "cell_type": "code",
   "execution_count": 2,
   "id": "389ae7c6-70e2-4836-aa96-7c35aa2200e5",
   "metadata": {},
   "outputs": [
    {
     "data": {
      "text/html": [
       "<div>\n",
       "<style scoped>\n",
       "    .dataframe tbody tr th:only-of-type {\n",
       "        vertical-align: middle;\n",
       "    }\n",
       "\n",
       "    .dataframe tbody tr th {\n",
       "        vertical-align: top;\n",
       "    }\n",
       "\n",
       "    .dataframe thead th {\n",
       "        text-align: right;\n",
       "    }\n",
       "</style>\n",
       "<table border=\"1\" class=\"dataframe\">\n",
       "  <thead>\n",
       "    <tr style=\"text-align: right;\">\n",
       "      <th></th>\n",
       "      <th>datetime</th>\n",
       "      <th>station</th>\n",
       "      <th>core</th>\n",
       "      <th>component</th>\n",
       "      <th>period</th>\n",
       "      <th>value</th>\n",
       "    </tr>\n",
       "  </thead>\n",
       "  <tbody>\n",
       "    <tr>\n",
       "      <th>0</th>\n",
       "      <td>2024-03-31T23:00:00+02:00</td>\n",
       "      <td>mc124</td>\n",
       "      <td>pm10</td>\n",
       "      <td>pm10_1h</td>\n",
       "      <td>1h</td>\n",
       "      <td>74.0</td>\n",
       "    </tr>\n",
       "    <tr>\n",
       "      <th>5</th>\n",
       "      <td>2024-03-31T22:00:00+02:00</td>\n",
       "      <td>mc124</td>\n",
       "      <td>pm10</td>\n",
       "      <td>pm10_1h</td>\n",
       "      <td>1h</td>\n",
       "      <td>75.0</td>\n",
       "    </tr>\n",
       "  </tbody>\n",
       "</table>\n",
       "</div>"
      ],
      "text/plain": [
       "                    datetime station  core component period  value\n",
       "0  2024-03-31T23:00:00+02:00   mc124  pm10   pm10_1h     1h   74.0\n",
       "5  2024-03-31T22:00:00+02:00   mc124  pm10   pm10_1h     1h   75.0"
      ]
     },
     "execution_count": 2,
     "metadata": {},
     "output_type": "execute_result"
    }
   ],
   "source": [
    "file_path_march = os.path.join(\"..\", \"mc124_data\",\"mc124_data_2024_03.json\") # join because different os use either \\ or / as file path seperators\n",
    "df = pd.read_json(file_path_march)\n",
    "df_pm10_march = df[(df['core'] == 'pm10')]\n",
    "df_pm10_march.head(2)"
   ]
  },
  {
   "cell_type": "code",
   "execution_count": 3,
   "id": "695e8e45-700e-442d-a2a2-a28c56dc3ab8",
   "metadata": {},
   "outputs": [
    {
     "name": "stdout",
     "output_type": "stream",
     "text": [
      "<class 'pandas.core.frame.DataFrame'>\n",
      "Index: 743 entries, 0 to 3710\n",
      "Data columns (total 6 columns):\n",
      " #   Column     Non-Null Count  Dtype  \n",
      "---  ------     --------------  -----  \n",
      " 0   datetime   743 non-null    object \n",
      " 1   station    743 non-null    object \n",
      " 2   core       743 non-null    object \n",
      " 3   component  743 non-null    object \n",
      " 4   period     743 non-null    object \n",
      " 5   value      743 non-null    float64\n",
      "dtypes: float64(1), object(5)\n",
      "memory usage: 40.6+ KB\n"
     ]
    }
   ],
   "source": [
    "#df_pm10_march.describe()\n",
    "df_pm10_march.info()"
   ]
  },
  {
   "cell_type": "code",
   "execution_count": 4,
   "id": "f8c915fb-b0c4-4b7f-874c-5c98ade143c5",
   "metadata": {},
   "outputs": [
    {
     "name": "stdout",
     "output_type": "stream",
     "text": [
      "<class 'pandas.core.frame.DataFrame'>\n",
      "Index: 743 entries, 0 to 3710\n",
      "Data columns (total 6 columns):\n",
      " #   Column     Non-Null Count  Dtype              \n",
      "---  ------     --------------  -----              \n",
      " 0   datetime   743 non-null    datetime64[ns, UTC]\n",
      " 1   station    743 non-null    object             \n",
      " 2   core       743 non-null    object             \n",
      " 3   component  743 non-null    object             \n",
      " 4   period     743 non-null    object             \n",
      " 5   value      743 non-null    float64            \n",
      "dtypes: datetime64[ns, UTC](1), float64(1), object(4)\n",
      "memory usage: 40.6+ KB\n"
     ]
    },
    {
     "name": "stderr",
     "output_type": "stream",
     "text": [
      "C:\\Users\\a_n_n\\AppData\\Local\\Temp\\ipykernel_2248\\3768671233.py:2: SettingWithCopyWarning: \n",
      "A value is trying to be set on a copy of a slice from a DataFrame.\n",
      "Try using .loc[row_indexer,col_indexer] = value instead\n",
      "\n",
      "See the caveats in the documentation: https://pandas.pydata.org/pandas-docs/stable/user_guide/indexing.html#returning-a-view-versus-a-copy\n",
      "  df_pm10_march['datetime'] = pd.to_datetime(df_pm10_march['datetime'], utc=True)\n"
     ]
    }
   ],
   "source": [
    "# turn datetime object into datetime\n",
    "df_pm10_march['datetime'] = pd.to_datetime(df_pm10_march['datetime'], utc=True)\n",
    "#df_pm10_march['datetime'].dt.tz_convert('UTC')  #quick fix but also didn't work the way it was supposed to\n",
    "#df_pm10_march.describe()\n",
    "df_pm10_march.info()"
   ]
  },
  {
   "cell_type": "code",
   "execution_count": 5,
   "id": "bf50ee8e-5379-4ecb-bcdf-5b544f62d7c1",
   "metadata": {},
   "outputs": [
    {
     "data": {
      "image/png": "[encoded data removed]",
      "text/plain": [
       "<Figure size 1000x600 with 1 Axes>"
      ]
     },
     "metadata": {},
     "output_type": "display_data"
    }
   ],
   "source": [
    "plt.figure(figsize=(10, 6))\n",
    "plt.plot(df_pm10_march['datetime'], df_pm10_march['value'], color=\"blue\", linewidth=1)\n",
    "plt.xticks(rotation=90)\n",
    "plt.show()"
   ]
  },
  {
   "cell_type": "markdown",
   "id": "370ef488-5a9f-4b85-9344-626fba63b44a",
   "metadata": {},
   "source": [
    "### Karfreitag bis Ostersonntag"
   ]
  },
  {
   "cell_type": "code",
   "execution_count": 6,
   "id": "b56ed6ef-03d2-417b-9f5a-26887d42293e",
   "metadata": {},
   "outputs": [
    {
     "ename": "KeyError",
     "evalue": "'datetimeConverted'",
     "output_type": "error",
     "traceback": [
      "\u001b[1;31m---------------------------------------------------------------------------\u001b[0m",
      "\u001b[1;31mKeyError\u001b[0m                                  Traceback (most recent call last)",
      "File \u001b[1;32m~\\anaconda3\\envs\\basics\\Lib\\site-packages\\pandas\\core\\indexes\\base.py:3790\u001b[0m, in \u001b[0;36mIndex.get_loc\u001b[1;34m(self, key)\u001b[0m\n\u001b[0;32m   3789\u001b[0m \u001b[38;5;28;01mtry\u001b[39;00m:\n\u001b[1;32m-> 3790\u001b[0m     \u001b[38;5;28;01mreturn\u001b[39;00m \u001b[38;5;28mself\u001b[39m\u001b[38;5;241m.\u001b[39m_engine\u001b[38;5;241m.\u001b[39mget_loc(casted_key)\n\u001b[0;32m   3791\u001b[0m \u001b[38;5;28;01mexcept\u001b[39;00m \u001b[38;5;167;01mKeyError\u001b[39;00m \u001b[38;5;28;01mas\u001b[39;00m err:\n",
      "File \u001b[1;32mindex.pyx:152\u001b[0m, in \u001b[0;36mpandas._libs.index.IndexEngine.get_loc\u001b[1;34m()\u001b[0m\n",
      "File \u001b[1;32mindex.pyx:181\u001b[0m, in \u001b[0;36mpandas._libs.index.IndexEngine.get_loc\u001b[1;34m()\u001b[0m\n",
      "File \u001b[1;32mpandas\\_libs\\hashtable_class_helper.pxi:7080\u001b[0m, in \u001b[0;36mpandas._libs.hashtable.PyObjectHashTable.get_item\u001b[1;34m()\u001b[0m\n",
      "File \u001b[1;32mpandas\\_libs\\hashtable_class_helper.pxi:7088\u001b[0m, in \u001b[0;36mpandas._libs.hashtable.PyObjectHashTable.get_item\u001b[1;34m()\u001b[0m\n",
      "\u001b[1;31mKeyError\u001b[0m: 'datetimeConverted'",
      "\nThe above exception was the direct cause of the following exception:\n",
      "\u001b[1;31mKeyError\u001b[0m                                  Traceback (most recent call last)",
      "Cell \u001b[1;32mIn[6], line 11\u001b[0m\n\u001b[0;32m      8\u001b[0m end_date \u001b[38;5;241m=\u001b[39m pd\u001b[38;5;241m.\u001b[39mto_datetime(end_date)\n\u001b[0;32m     10\u001b[0m \u001b[38;5;66;03m# Filter the dataframe for the specified date range\u001b[39;00m\n\u001b[1;32m---> 11\u001b[0m df_filtered_end_march \u001b[38;5;241m=\u001b[39m df_pm10_march[(df_pm10_march[\u001b[38;5;124m'\u001b[39m\u001b[38;5;124mdatetimeConverted\u001b[39m\u001b[38;5;124m'\u001b[39m]\u001b[38;5;241m.\u001b[39mdt\u001b[38;5;241m.\u001b[39mdate  \u001b[38;5;241m>\u001b[39m\u001b[38;5;241m=\u001b[39m start_date\u001b[38;5;241m.\u001b[39mdate()) \u001b[38;5;241m&\u001b[39m \n\u001b[0;32m     12\u001b[0m                            (df_pm10_march[\u001b[38;5;124m'\u001b[39m\u001b[38;5;124mdatetimeConverted\u001b[39m\u001b[38;5;124m'\u001b[39m]\u001b[38;5;241m.\u001b[39mdt\u001b[38;5;241m.\u001b[39mdate \u001b[38;5;241m<\u001b[39m\u001b[38;5;241m=\u001b[39m end_date\u001b[38;5;241m.\u001b[39mdate())]\n\u001b[0;32m     14\u001b[0m plt\u001b[38;5;241m.\u001b[39mplot(df_filtered_end_march[\u001b[38;5;124m'\u001b[39m\u001b[38;5;124mdatetimeConverted\u001b[39m\u001b[38;5;124m'\u001b[39m], df_filtered_end_march[\u001b[38;5;124m'\u001b[39m\u001b[38;5;124mvalue\u001b[39m\u001b[38;5;124m'\u001b[39m], color\u001b[38;5;241m=\u001b[39m\u001b[38;5;124m\"\u001b[39m\u001b[38;5;124mblue\u001b[39m\u001b[38;5;124m\"\u001b[39m, linewidth\u001b[38;5;241m=\u001b[39m\u001b[38;5;241m1\u001b[39m)\n\u001b[0;32m     15\u001b[0m plt\u001b[38;5;241m.\u001b[39mxlabel(\u001b[38;5;124m'\u001b[39m\u001b[38;5;124mHour of Day\u001b[39m\u001b[38;5;124m'\u001b[39m)\n",
      "File \u001b[1;32m~\\anaconda3\\envs\\basics\\Lib\\site-packages\\pandas\\core\\frame.py:3896\u001b[0m, in \u001b[0;36mDataFrame.__getitem__\u001b[1;34m(self, key)\u001b[0m\n\u001b[0;32m   3894\u001b[0m \u001b[38;5;28;01mif\u001b[39;00m \u001b[38;5;28mself\u001b[39m\u001b[38;5;241m.\u001b[39mcolumns\u001b[38;5;241m.\u001b[39mnlevels \u001b[38;5;241m>\u001b[39m \u001b[38;5;241m1\u001b[39m:\n\u001b[0;32m   3895\u001b[0m     \u001b[38;5;28;01mreturn\u001b[39;00m \u001b[38;5;28mself\u001b[39m\u001b[38;5;241m.\u001b[39m_getitem_multilevel(key)\n\u001b[1;32m-> 3896\u001b[0m indexer \u001b[38;5;241m=\u001b[39m \u001b[38;5;28mself\u001b[39m\u001b[38;5;241m.\u001b[39mcolumns\u001b[38;5;241m.\u001b[39mget_loc(key)\n\u001b[0;32m   3897\u001b[0m \u001b[38;5;28;01mif\u001b[39;00m is_integer(indexer):\n\u001b[0;32m   3898\u001b[0m     indexer \u001b[38;5;241m=\u001b[39m [indexer]\n",
      "File \u001b[1;32m~\\anaconda3\\envs\\basics\\Lib\\site-packages\\pandas\\core\\indexes\\base.py:3797\u001b[0m, in \u001b[0;36mIndex.get_loc\u001b[1;34m(self, key)\u001b[0m\n\u001b[0;32m   3792\u001b[0m     \u001b[38;5;28;01mif\u001b[39;00m \u001b[38;5;28misinstance\u001b[39m(casted_key, \u001b[38;5;28mslice\u001b[39m) \u001b[38;5;129;01mor\u001b[39;00m (\n\u001b[0;32m   3793\u001b[0m         \u001b[38;5;28misinstance\u001b[39m(casted_key, abc\u001b[38;5;241m.\u001b[39mIterable)\n\u001b[0;32m   3794\u001b[0m         \u001b[38;5;129;01mand\u001b[39;00m \u001b[38;5;28many\u001b[39m(\u001b[38;5;28misinstance\u001b[39m(x, \u001b[38;5;28mslice\u001b[39m) \u001b[38;5;28;01mfor\u001b[39;00m x \u001b[38;5;129;01min\u001b[39;00m casted_key)\n\u001b[0;32m   3795\u001b[0m     ):\n\u001b[0;32m   3796\u001b[0m         \u001b[38;5;28;01mraise\u001b[39;00m InvalidIndexError(key)\n\u001b[1;32m-> 3797\u001b[0m     \u001b[38;5;28;01mraise\u001b[39;00m \u001b[38;5;167;01mKeyError\u001b[39;00m(key) \u001b[38;5;28;01mfrom\u001b[39;00m \u001b[38;5;21;01merr\u001b[39;00m\n\u001b[0;32m   3798\u001b[0m \u001b[38;5;28;01mexcept\u001b[39;00m \u001b[38;5;167;01mTypeError\u001b[39;00m:\n\u001b[0;32m   3799\u001b[0m     \u001b[38;5;66;03m# If we have a listlike key, _check_indexing_error will raise\u001b[39;00m\n\u001b[0;32m   3800\u001b[0m     \u001b[38;5;66;03m#  InvalidIndexError. Otherwise we fall through and re-raise\u001b[39;00m\n\u001b[0;32m   3801\u001b[0m     \u001b[38;5;66;03m#  the TypeError.\u001b[39;00m\n\u001b[0;32m   3802\u001b[0m     \u001b[38;5;28mself\u001b[39m\u001b[38;5;241m.\u001b[39m_check_indexing_error(key)\n",
      "\u001b[1;31mKeyError\u001b[0m: 'datetimeConverted'"
     ]
    }
   ],
   "source": [
    "# Multiple days\n",
    "#targeting specific days which show abnormal numbers:\n",
    "start_date = '2024-03-29'\n",
    "end_date = '2024-03-31'\n",
    "\n",
    "# Convert the dates to datetime objects\n",
    "start_date = pd.to_datetime(start_date)\n",
    "end_date = pd.to_datetime(end_date)\n",
    "\n",
    "# Filter the dataframe for the specified date range\n",
    "df_filtered_end_march = df_pm10_march[(df_pm10_march['datetimeConverted'].dt.date  >= start_date.date()) & \n",
    "                           (df_pm10_march['datetimeConverted'].dt.date <= end_date.date())]\n",
    "\n",
    "plt.plot(df_filtered_end_march['datetimeConverted'], df_filtered_end_march['value'], color=\"blue\", linewidth=1)\n",
    "plt.xlabel('Hour of Day')\n",
    "plt.ylabel('pm10 value')\n",
    "#plt.title(f'Plot of Value on {target_day}')\n",
    "#plt.xticks(df_filtered_days['hour'])\n",
    "plt.show"
   ]
  },
  {
   "cell_type": "markdown",
   "id": "7a86ed8b-a104-4e83-83af-0b5f71598465",
   "metadata": {},
   "source": [
    "### Ostersamstag & Ostersonntag"
   ]
  },
  {
   "cell_type": "code",
   "execution_count": null,
   "id": "d6525551-a1e2-411d-aaa3-44b7813ae128",
   "metadata": {},
   "outputs": [],
   "source": [
    "# Multiple days\n",
    "#targeting specific days which show abnormal numbers:\n",
    "start_date = '2024-03-30'\n",
    "end_date = '2024-03-31'\n",
    "\n",
    "# Convert the dates to datetime objects\n",
    "start_date = pd.to_datetime(start_date)\n",
    "end_date = pd.to_datetime(end_date)\n",
    "\n",
    "# Filter the dataframe for the specified date range\n",
    "df_filtered_end_march = df_pm10_march[(df_pm10_march['datetime'].dt.date >= start_date.date()) & \n",
    "                           (df_pm10_march['datetime'].dt.date <= end_date.date())]\n",
    "\n",
    "plt.plot(df_filtered_end_march['datetime'], df_filtered_end_march['value'], color=\"blue\", linewidth=1)\n",
    "plt.xlabel('Hour of Day')\n",
    "plt.ylabel('pm10 value')\n",
    "plt.title(f'Plot of Value on Ostersamstag & Ostersonntag')\n",
    "#plt.xticks(df_filtered_days['hour'])\n",
    "plt.xticks(rotation=90)\n",
    "plt.show"
   ]
  },
  {
   "cell_type": "markdown",
   "id": "3b0a3e98-6993-4fa1-bcb9-700b1bff4281",
   "metadata": {},
   "source": [
    "### Ostersamstag"
   ]
  },
  {
   "cell_type": "code",
   "execution_count": null,
   "id": "0219752a-d81a-4565-b1cf-095558cd9532",
   "metadata": {},
   "outputs": [],
   "source": [
    "target_day = '2024-03-30'\n",
    "df_2024_03_30 = df_pm10_march[df_pm10_march['datetime'].dt.date == pd.to_datetime(target_day).date()]\n",
    "def cutDatetimeToHour(datetime):\n",
    "    return datetime.hour\n",
    "\n",
    "df_2024_03_30[\"hour\"] = df_2024_03_30[\"datetime\"].map(cutDatetimeToHour)\n",
    "#df_2024_03_30.sample()\n",
    "\n",
    "plt.plot(df_2024_03_30['hour'], df_2024_03_30['value'], color=\"blue\", linewidth=1)\n",
    "plt.xlabel('Hour of Day')\n",
    "plt.ylabel('pm10 value')\n",
    "plt.title(f'Plot of Value on {target_day}')\n",
    "plt.xticks(df_2024_03_30['hour'])\n",
    "plt.show"
   ]
  },
  {
   "cell_type": "code",
   "execution_count": null,
   "id": "94f0c34d-6884-4c5c-a524-52f5ee797045",
   "metadata": {},
   "outputs": [],
   "source": [
    "df_2024_03_30.describe()"
   ]
  },
  {
   "cell_type": "markdown",
   "id": "24c404f1-b1b5-434a-9ba5-f37bfa162f0b",
   "metadata": {},
   "source": [
    "### Ostersonntag"
   ]
  },
  {
   "cell_type": "code",
   "execution_count": null,
   "id": "6a268994-0baa-48b9-9e44-527ec0376b2d",
   "metadata": {},
   "outputs": [],
   "source": [
    "# Single day\n",
    "target_day = '2024-03-31'\n",
    "df_2024_03_31 = df_pm10_march[df_pm10_march['datetime'].dt.date == pd.to_datetime(target_day).date()]\n",
    "def cutDatetimeToHour(datetime):\n",
    "    return datetime.hour\n",
    "\n",
    "df_2024_03_31[\"hour\"] = df_2024_03_31[\"datetime\"].map(cutDatetimeToHour)\n",
    "#df_2024_03_31.sample()\n",
    "\n",
    "plt.plot(df_2024_03_31['hour'], df_2024_03_31['value'], color=\"blue\", linewidth=1)\n",
    "plt.xlabel('Hour of Day')\n",
    "plt.ylabel('pm10 value')\n",
    "plt.title(f'Plot of Value on {target_day}')\n",
    "plt.xticks(df_2024_03_31['hour'])\n",
    "plt.show"
   ]
  },
  {
   "cell_type": "code",
   "execution_count": null,
   "id": "884c58af-1847-47f0-bc90-9ff6d7aacbb9",
   "metadata": {},
   "outputs": [],
   "source": [
    "df_2024_03_31.head()\n",
    "df_2024_03_31.info()"
   ]
  },
  {
   "cell_type": "markdown",
   "id": "f45901c2-2e1f-4a04-a211-8cc67f0e772c",
   "metadata": {},
   "source": [
    "### Ostermontag"
   ]
  },
  {
   "cell_type": "code",
   "execution_count": null,
   "id": "3a2abd2e-c8ac-4e0b-8a41-7d30384ae812",
   "metadata": {},
   "outputs": [],
   "source": [
    "file_path_april = os.path.join(\"..\", \"mc124_data\",\"mc124_data_2024_04.json\") # join because different os use either \\ or / as file path seperators\n",
    "df = pd.read_json(file_path_april)\n",
    "df_pm10_april = df[(df['core'] == 'pm10')]\n",
    "df_pm10_april.tail(2)"
   ]
  },
  {
   "cell_type": "code",
   "execution_count": null,
   "id": "b6b4b754-a20a-4879-9222-318ea0c8da57",
   "metadata": {},
   "outputs": [],
   "source": [
    "#df_pm10_april.describe()\n",
    "df_pm10_april.info()"
   ]
  },
  {
   "cell_type": "code",
   "execution_count": null,
   "id": "b9b08e2b-541d-47ce-bc33-250dbe9e1505",
   "metadata": {},
   "outputs": [],
   "source": [
    "plt.figure(figsize=(10, 6))\n",
    "plt.plot(df_pm10_april['datetime'], df_pm10_april['value'], color=\"blue\", linewidth=1)\n",
    "#plt.xticks(df_pm10['datetime'])\n",
    "plt.xticks(rotation=90)\n",
    "plt.show"
   ]
  },
  {
   "cell_type": "code",
   "execution_count": null,
   "id": "4eeadb05-8909-41b6-a065-7021818238ff",
   "metadata": {},
   "outputs": [],
   "source": [
    "#targeting specific days which show abnormal numbers:\n",
    "start_date = '2024-04-01'\n",
    "end_date = '2024-04-03'\n",
    "\n",
    "# Convert the dates to datetime objects\n",
    "start_date = pd.to_datetime(start_date)\n",
    "end_date = pd.to_datetime(end_date)\n",
    "\n",
    "# Filter the dataframe for the specified date range\n",
    "df_filtered_days = df_pm10_april[(df_pm10_april['datetime'].dt.date >= start_date.date()) & \n",
    "                           (df_pm10_april['datetime'].dt.date <= end_date.date())]"
   ]
  },
  {
   "cell_type": "code",
   "execution_count": null,
   "id": "8c96fc6c-2217-4cbe-a961-53cc65fc8657",
   "metadata": {},
   "outputs": [],
   "source": [
    "plt.plot(df_filtered_days['datetime'], df_filtered_days['value'], color=\"blue\", linewidth=1)\n",
    "plt.xlabel('Hour of Day')\n",
    "plt.ylabel('pm10 value')\n",
    "#plt.title(f'Plot of Value on {target_day}')\n",
    "#plt.xticks(df_filtered_days['hour'])\n",
    "plt.show"
   ]
  },
  {
   "cell_type": "code",
   "execution_count": null,
   "id": "ec43b476-9ea1-4d3e-976b-6847464a3bba",
   "metadata": {},
   "outputs": [],
   "source": [
    "target_day = '2024-04-01'\n",
    "df_2024_04_01 = df_pm10_april[df_pm10_april['datetime'].dt.date == pd.to_datetime(target_day).date()]\n",
    "def cutDatetimeToHour(datetime):\n",
    "    return datetime.hour\n",
    "\n",
    "df_2024_04_01[\"hour\"] = df_2024_04_01[\"datetime\"].map(cutDatetimeToHour)\n",
    "df_2024_04_01.info()"
   ]
  },
  {
   "cell_type": "code",
   "execution_count": null,
   "id": "42fd2829-4cd5-4cfc-823e-106ad2c21a81",
   "metadata": {},
   "outputs": [],
   "source": [
    "plt.plot(df_2024_04_01['hour'], df_2024_04_01['value'], color=\"blue\", linewidth=1)\n",
    "plt.xlabel('Hour of Day')\n",
    "plt.ylabel('pm10 value')\n",
    "plt.title(f'Plot of Value on {target_day}')\n",
    "plt.xticks(df_2024_04_01['hour'])\n",
    "plt.show"
   ]
  },
  {
   "cell_type": "markdown",
   "id": "70ed329d-548e-4871-9dac-835036091849",
   "metadata": {},
   "source": [
    "### Analyse unerwarteter Auffälligkeit Mitte April"
   ]
  },
  {
   "cell_type": "code",
   "execution_count": null,
   "id": "8a03f988-8d12-4753-a1db-2b1f509a5647",
   "metadata": {},
   "outputs": [],
   "source": [
    "#targeting specific days which show abnormal numbers:\n",
    "start_date = '2024-04-07'\n",
    "end_date = '2024-04-12'\n",
    "\n",
    "# Convert the dates to datetime objects\n",
    "start_date = pd.to_datetime(start_date)\n",
    "end_date = pd.to_datetime(end_date)\n",
    "\n",
    "# Filter the dataframe for the specified date range\n",
    "df_filtered_mid_april = df_pm10_april[(df_pm10_april['datetime'].dt.date >= start_date.date()) & \n",
    "                           (df_pm10_april['datetime'].dt.date <= end_date.date())]"
   ]
  },
  {
   "cell_type": "code",
   "execution_count": null,
   "id": "986a153c-1f46-454c-9371-3ae04c647fbb",
   "metadata": {},
   "outputs": [],
   "source": [
    "plt.plot(df_filtered_mid_april['datetime'], df_filtered_mid_april['value'], color=\"blue\", linewidth=1)\n",
    "plt.xlabel('Hour of Day')\n",
    "plt.ylabel('pm10 value')\n",
    "#plt.title(f'Plot of Value on {target_day}')\n",
    "#plt.xticks(df_filtered_days['hour'])\n",
    "plt.xticks(rotation=90)\n",
    "plt.show"
   ]
  },
  {
   "cell_type": "code",
   "execution_count": null,
   "id": "bd933644-a302-4f17-a8cd-5da632b35dfc",
   "metadata": {},
   "outputs": [],
   "source": [
    "#targeting specific days which show abnormal numbers:\n",
    "start_date = '2024-04-08'\n",
    "end_date = '2024-04-10'\n",
    "\n",
    "# Convert the dates to datetime objects\n",
    "start_date = pd.to_datetime(start_date)\n",
    "end_date = pd.to_datetime(end_date)\n",
    "\n",
    "# Filter the dataframe for the specified date range\n",
    "df_filtered_mid_april = df_pm10_april[(df_pm10_april['datetime'].dt.date >= start_date.date()) & \n",
    "                           (df_pm10_april['datetime'].dt.date <= end_date.date())]\n",
    "\n",
    "plt.plot(df_filtered_mid_april['datetime'], df_filtered_mid_april['value'], color=\"blue\", linewidth=1)\n",
    "plt.xlabel('Hour of Day')\n",
    "plt.ylabel('pm10 value')\n",
    "plt.xticks(rotation=90)\n",
    "#plt.title(f'Plot of Value on {target_day}')\n",
    "#plt.xticks(df_filtered_days['hour'])\n",
    "plt.show"
   ]
  },
  {
   "cell_type": "markdown",
   "id": "61466208-b4df-4092-aaa6-2bbf83f3091f",
   "metadata": {},
   "source": [
    "08.04. (Di) sowie 09.04. (Mi) auffällig\n",
    "Anmerkung: besondere Events?"
   ]
  },
  {
   "cell_type": "markdown",
   "id": "fadddf5e-eef2-40ac-a7e4-f032740eaacf",
   "metadata": {},
   "source": [
    "### Karfreitag bis Ostermontag"
   ]
  },
  {
   "cell_type": "code",
   "execution_count": null,
   "id": "1dd0937f-6df9-43b2-aa56-605a54b04cd1",
   "metadata": {},
   "outputs": [],
   "source": [
    "df_march_april = pd.concat([df_pm10_march, df_pm10_april])\n",
    "df_march_april.describe()"
   ]
  },
  {
   "cell_type": "code",
   "execution_count": null,
   "id": "3140b617-4c63-40f7-affb-2cc58193d1cc",
   "metadata": {},
   "outputs": [],
   "source": [
    "df_march_april.info()"
   ]
  },
  {
   "cell_type": "code",
   "execution_count": null,
   "id": "e3431d06-1c64-48af-bf36-6b025d65a284",
   "metadata": {},
   "outputs": [],
   "source": [
    "df_march_april['datetime'] = df_march_april['datetime'] = pd.to_datetime(df_march_april['datetime'], utc=True).dt.tz_convert('UTC') \n",
    "df_march_april.info()"
   ]
  },
  {
   "cell_type": "code",
   "execution_count": null,
   "id": "740fd71e-162b-4592-8295-1e8f88d62786",
   "metadata": {},
   "outputs": [],
   "source": [
    "#targeting specific days which show abnormal numbers:\n",
    "start_date = '2024-03-29'\n",
    "end_date = '2024-04-1'\n",
    "\n",
    "# Convert the dates to datetime objects\n",
    "start_date = pd.to_datetime(start_date)\n",
    "end_date = pd.to_datetime(end_date)\n",
    "\n",
    "# Filter the dataframe for the specified date range\n",
    "df_filtered_easter = df_march_april[(df_march_april['datetime'].dt.date >= start_date.date()) & \n",
    "                           (df_march_april['datetime'].dt.date <= end_date.date())]\n",
    "\n",
    "#TODO FIX THE PLOT WITH THE SOLUTION FROM NEW YEAR NOTEBOOK\n",
    "plot_df_easter = df_filtered_easter.set_index('datetime').sort_index()\n",
    "plt.figure(figsize=(10, 6))\n",
    "plt.plot(plot_df_easter[['value']], color=\"blue\", linewidth=1)\n",
    "#plt.plot(df_filtered_easter['datetime'], df_filtered_easter['value'], color=\"blue\", linewidth=1)\n",
    "plt.xlabel('Day and hour in 12h steps')\n",
    "plt.ylabel('pm10 value')\n",
    "plt.xticks(rotation=90)\n",
    "#plt.title(f'Plot of Value on {target_day}')\n",
    "#plt.xticks(df_filtered_days['hour'])\n",
    "plt.show"
   ]
  },
  {
   "cell_type": "markdown",
   "id": "1ae4ac21-98dc-4bd3-8b00-ee13db6bd0aa",
   "metadata": {},
   "source": [
    "### CRITIQUE: HAD TO CONVERT TO UTC TO LOOK AT SINGLE DAYS -- I COULD'VE ALSO FILTERED DIFFERENTLY"
   ]
  },
  {
   "cell_type": "code",
   "execution_count": null,
   "id": "1351efe2-6aeb-498e-8545-01f3e891d080",
   "metadata": {},
   "outputs": [],
   "source": []
  }
 ],
 "metadata": {
  "kernelspec": {
   "display_name": "Python 3 (ipykernel)",
   "language": "python",
   "name": "python3"
  },
  "language_info": {
   "codemirror_mode": {
    "name": "ipython",
    "version": 3
   },
   "file_extension": ".py",
   "mimetype": "text/x-python",
   "name": "python",
   "nbconvert_exporter": "python",
   "pygments_lexer": "ipython3",
   "version": "3.11.8"
  }
 },
 "nbformat": 4,
 "nbformat_minor": 5
}
