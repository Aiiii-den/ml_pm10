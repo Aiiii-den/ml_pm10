{
 "cells": [
  {
   "cell_type": "code",
   "execution_count": 1,
   "id": "d1639571-ff2c-4d46-92f8-1cd42f5721ac",
   "metadata": {},
   "outputs": [],
   "source": [
    "import pandas as pd\n",
    "import matplotlib.pyplot as plt\n",
    "import seaborn as sns\n",
    "import numpy as np\n",
    "import os\n",
    "import json"
   ]
  },
  {
   "cell_type": "code",
   "execution_count": 2,
   "id": "66581529-ece4-42d7-b4f5-a0408a30c2a9",
   "metadata": {},
   "outputs": [
    {
     "name": "stdout",
     "output_type": "stream",
     "text": [
      "<class 'pandas.core.frame.DataFrame'>\n",
      "Index: 309715 entries, 172992 to 542554\n",
      "Data columns (total 12 columns):\n",
      " #   Column          Non-Null Count   Dtype         \n",
      "---  ------          --------------   -----         \n",
      " 0   datetime        309715 non-null  datetime64[ns]\n",
      " 1   station         309715 non-null  object        \n",
      " 2   core            309715 non-null  object        \n",
      " 3   value           309715 non-null  float64       \n",
      " 4   hour            309715 non-null  float64       \n",
      " 5   day             309715 non-null  float64       \n",
      " 6   month           309715 non-null  float64       \n",
      " 7   year            309715 non-null  float64       \n",
      " 8   day_of_week     309715 non-null  float64       \n",
      " 9   is_weekend      309715 non-null  float64       \n",
      " 10  wind_speed      309715 non-null  float64       \n",
      " 11  wind_direction  309715 non-null  float64       \n",
      "dtypes: datetime64[ns](1), float64(9), object(2)\n",
      "memory usage: 30.7+ MB\n"
     ]
    }
   ],
   "source": [
    "# Set the search path for files (assuming the directory is relative to the current script)\n",
    "file_path_mc124 = os.path.join(\"..\", \"..\",\"fine_dust_complete\", \".csv\")\n",
    "df = pd.read_csv('../data/df_fine_dust_wind_merged.csv', parse_dates=['datetime'])\n",
    "\n",
    "# rename the wrongly named column -- NEED TO CLEAN THAT UP LATER\n",
    "df = df.rename(columns={'pm10_value': 'value'})\n",
    "\n",
    "df.dropna(inplace=True)\n",
    "df.info()"
   ]
  },
  {
   "cell_type": "code",
   "execution_count": 3,
   "id": "eb4f2e8c-112e-49db-89a1-b54d348e716c",
   "metadata": {},
   "outputs": [
    {
     "name": "stdout",
     "output_type": "stream",
     "text": [
      "dict_keys(['no2', 'no', 'nox', 'pm10', 'pm2'])\n"
     ]
    }
   ],
   "source": [
    "dfs = {}\n",
    "\n",
    "for value in df['core'].unique():\n",
    "    filtered_df = df[df['core'] == value]\n",
    "    dfs[value] = filtered_df\n",
    "\n",
    "print(dfs.keys())"
   ]
  },
  {
   "cell_type": "code",
   "execution_count": 4,
   "id": "c2a3478c-795e-4ca7-a1a4-a6a07bf6cbdc",
   "metadata": {},
   "outputs": [],
   "source": [
    "df_no2 = dfs['no2']\n",
    "df_no = dfs['no']\n",
    "df_nox = dfs['nox']\n",
    "df_pm10 = dfs['pm10']\n",
    "df_pm2 = dfs['pm2']"
   ]
  },
  {
   "cell_type": "code",
   "execution_count": 5,
   "id": "0aa33a72-06b8-4a4e-92ce-28dd795bcd52",
   "metadata": {},
   "outputs": [],
   "source": [
    "# shift no2 for h-1 values\n",
    "df_no2 = df_no2.copy()\n",
    "\n",
    "df_no2.loc[:, 'wind_speed_h-1'] = df_no2.groupby(['station', 'core'])['wind_speed'].shift(-1)\n",
    "df_no2.loc[:, 'wind_direction_h-1'] = df_no2.groupby(['station', 'core'])['wind_direction'].shift(-1)\n",
    "df_no2.loc[:, 'no2_h-1'] = df_no2.groupby(['station', 'core'])['value'].shift(-1)\n",
    "\n",
    "\n",
    "# Verify the changes\n",
    "df_no2.tail()\n",
    "\n",
    "df_no2.to_csv(\"df_no2_h-1_mc124.csv\", index=False)"
   ]
  },
  {
   "cell_type": "code",
   "execution_count": 6,
   "id": "0c99f52a-59cd-4d7d-bcd4-d54cb7c980ee",
   "metadata": {},
   "outputs": [],
   "source": [
    "# shift no for h-1 values\n",
    "df_no = df_no.copy()\n",
    "\n",
    "df_no.loc[:, 'wind_speed_h-1'] = df_no.groupby(['station', 'core'])['wind_speed'].shift(-1)\n",
    "df_no.loc[:, 'wind_direction_h-1'] = df_no.groupby(['station', 'core'])['wind_direction'].shift(-1)\n",
    "df_no.loc[:, 'no_h-1'] = df_no.groupby(['station', 'core'])['value'].shift(-1)\n",
    "\n",
    "\n",
    "# Verify the changes\n",
    "df_no.tail()\n",
    "\n",
    "df_no.to_csv(\"df_no_h-1_mc124.csv\", index=False)"
   ]
  },
  {
   "cell_type": "code",
   "execution_count": 7,
   "id": "648d3acf-9a03-4445-9d50-140943d6e9ce",
   "metadata": {},
   "outputs": [],
   "source": [
    "# shift nox for h-1 values\n",
    "df_nox = df_nox.copy()\n",
    "\n",
    "df_nox.loc[:, 'wind_speed_h-1'] = df_nox.groupby(['station', 'core'])['wind_speed'].shift(-1)\n",
    "df_nox.loc[:, 'wind_direction_h-1'] = df_nox.groupby(['station', 'core'])['wind_direction'].shift(-1)\n",
    "df_nox.loc[:, 'nox_h-1'] = df_nox.groupby(['station', 'core'])['value'].shift(-1)\n",
    "\n",
    "\n",
    "# Verify the changes\n",
    "df_nox.tail()\n",
    "\n",
    "df_nox.to_csv(\"df_nox_h-1_mc124.csv\", index=False)"
   ]
  },
  {
   "cell_type": "code",
   "execution_count": 8,
   "id": "39c1a1c6-3088-42d2-8f8a-1135f5a5577a",
   "metadata": {},
   "outputs": [],
   "source": [
    "# shift pm10 for h-1 values\n",
    "df_pm10 = df_pm10.copy()\n",
    "\n",
    "df_pm10.loc[:, 'wind_speed_h-1'] = df_pm10.groupby(['station', 'core'])['wind_speed'].shift(-1)\n",
    "df_pm10.loc[:, 'wind_direction_h-1'] = df_pm10.groupby(['station', 'core'])['wind_direction'].shift(-1)\n",
    "df_pm10.loc[:, 'pm10_h-1'] = df_pm10.groupby(['station', 'core'])['value'].shift(-1)\n",
    "\n",
    "\n",
    "# Verify the changes\n",
    "df_pm10.tail()\n",
    "\n",
    "df_pm10.to_csv(\"df_pm10_h-1_mc124.csv\", index=False)"
   ]
  },
  {
   "cell_type": "code",
   "execution_count": 9,
   "id": "96d33c60-cfb0-4411-b9ee-d786fe02d4da",
   "metadata": {},
   "outputs": [],
   "source": [
    "# shift pm2.5 for h-1 values\n",
    "df_pm2 = df_pm2.copy()\n",
    "\n",
    "df_pm2.loc[:, 'wind_speed_h-1'] = df_pm2.groupby(['station', 'core'])['wind_speed'].shift(-1)\n",
    "df_pm2.loc[:, 'wind_direction_h-1'] = df_pm2.groupby(['station', 'core'])['wind_direction'].shift(-1)\n",
    "df_pm2.loc[:, 'pm2.5_h-1'] = df_pm2.groupby(['station', 'core'])['value'].shift(-1)\n",
    "\n",
    "\n",
    "# Verify the changes\n",
    "df_pm2.tail()\n",
    "\n",
    "df_pm2.to_csv(\"df_pm2_h-1_mc124.csv\", index=False)"
   ]
  }
 ],
 "metadata": {
  "kernelspec": {
   "display_name": "Python 3 (ipykernel)",
   "language": "python",
   "name": "python3"
  },
  "language_info": {
   "codemirror_mode": {
    "name": "ipython",
    "version": 3
   },
   "file_extension": ".py",
   "mimetype": "text/x-python",
   "name": "python",
   "nbconvert_exporter": "python",
   "pygments_lexer": "ipython3",
   "version": "3.11.8"
  }
 },
 "nbformat": 4,
 "nbformat_minor": 5
}
