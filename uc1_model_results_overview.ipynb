{
 "cells": [
  {
   "cell_type": "markdown",
   "id": "8fcda4f2-b5f9-4d1d-a0aa-8d0a4f55ae27",
   "metadata": {},
   "source": [
    "| Model + Version      | TEST_median_absolute_error | TRAIN_median_absolute_error | Difference |\n",
    "|----------------------|----------------------------|-----------------------------|------------|\n",
    "| DecisionTree V1.0    | 6.93 (+/- 0.34)            | 6.49 (+/- 0.15)             |  0.44      |\n",
    "| DecisionTree V1.1    | 7.41 (+/- 0.43)            | 6.73 (+/- 0.14)             |  0.68      |\n",
    "| DecisionTree V2.0    | 6.34 (+/- 0.17)            | 5.12 (+/- 0.09)             |  1.22      |\n",
    "| DecisionTree V3.0    | 6.40 (+/- 0.48)            | 5.34 (+/- 0.11)             |  1.06      |\n",
    "| DecisionTree V3.1    | 5.94 (+/- 0.49)            | 5.24 (+/- 0.13)             |  0.70      |\n",
    "| RandomForest V1.0    | 6.83 (+/- 0.42)            | 5.64 (+/- 0.09)             |  1.19      |\n",
    "| RandomForest V1.1    | 7.11 (+/- 0.44)            | 6.86 (+/- 0.14)             |  0.25      |\n",
    "| RandomForest V2.0    | 6.27 (+/- 0.35)            | 4.23 (+/- 0.03)             |  2.04      |\n",
    "| RandomForest V3.0    | 6.03 (+/- 0.50)            | 3.24 (+/- 0.03)             |  2.79      |\n",
    "| RandomForest V3.1    | 5.51 (+/- 0.38)            | 2.92 (+/- 0.05)             |  2.59      |\n",
    "| kNN V1.0             | 7.04 (+/- 0.37)            | 4.72 (+/- 0.14)             |  2.32      |\n",
    "| kNN V1.1             | 7.44 (+/- 0.39)            | 7.44 (+/- 0.32)             |  0.00      |\n"
   ]
  },
  {
   "cell_type": "code",
   "execution_count": null,
   "id": "53a8e393-bbe2-42d4-ab61-f55af834db38",
   "metadata": {},
   "outputs": [],
   "source": [
    "# overfitting: difference >=1.0"
   ]
  },
  {
   "cell_type": "markdown",
   "id": "1f529861-0be3-458a-9c74-ee9af7379727",
   "metadata": {},
   "source": [
    "versioning overview: \n",
    "[http://localhost:8888/edit/project/sprint_9/versioning_information_v2.md]"
   ]
  },
  {
   "cell_type": "markdown",
   "id": "07f7ffd0-abc4-4493-8560-7743c905a180",
   "metadata": {},
   "source": [
    "**Best perfoming**\n",
    "- DecisionTree V3.1\n",
    "- Model: DecisionTreeRegressor(max_depth=10, max_features='sqrt', min_samples_leaf=40, random_state=123)\n",
    "- Features: 'hour', 'day', 'month', 'year', 'day_of_week', 'is_weekend', 'no2_h-1', 'no_h-1', 'nox_h-1', 'wind_speed_h-1', 'wind_direction_h-1'\n",
    "- Error values:\n",
    "    - test_median_absolute_error: 5.94 (+/- 0.49)\n",
    "    - train_median_absolute_error: 5.24 (+/- 0.13)"
   ]
  },
  {
   "cell_type": "code",
   "execution_count": null,
   "id": "293a7ad3-826c-4cbf-9fc0-9cb69563f36a",
   "metadata": {},
   "outputs": [],
   "source": []
  }
 ],
 "metadata": {
  "kernelspec": {
   "display_name": "Python 3 (ipykernel)",
   "language": "python",
   "name": "python3"
  },
  "language_info": {
   "codemirror_mode": {
    "name": "ipython",
    "version": 3
   },
   "file_extension": ".py",
   "mimetype": "text/x-python",
   "name": "python",
   "nbconvert_exporter": "python",
   "pygments_lexer": "ipython3",
   "version": "3.11.8"
  }
 },
 "nbformat": 4,
 "nbformat_minor": 5
}
