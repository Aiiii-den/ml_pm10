{
 "cells": [
  {
   "cell_type": "markdown",
   "id": "5c79a073-ead7-4219-96bf-13109228064c",
   "metadata": {},
   "source": [
    "## Documentation about the weather api\n",
    "\n",
    "\n",
    "**BASE** https://luftdaten.berlin.de/api/  \n",
    "**DOC** https://luftdaten.berlin.de/api/doc  "
   ]
  },
  {
   "cell_type": "markdown",
   "id": "f8849791-c712-474c-9351-021da8eb260d",
   "metadata": {},
   "source": [
    "*Get information about stations and their data collections*  \n",
    "https://luftdaten.berlin.de/api/stations"
   ]
  },
  {
   "cell_type": "markdown",
   "id": "4720368a-1f80-43c8-baf2-2e19cc571ea4",
   "metadata": {},
   "source": [
    "*Get hourly data for one month at a specific station (f.e. January 2022, mc010 - Wedding):*  \n",
    "https://luftdaten.berlin.de/api/stations/mc010/data?timespan=custom&start=01.01.2022 00:00&end=31.01.2022 23:00"
   ]
  },
  {
   "cell_type": "markdown",
   "id": "2be8d373-238e-4060-8201-6e854ff5c3bb",
   "metadata": {},
   "source": [
    "*Get daily data for one year specific station (f.e. 2022, mc010 - Wedding):*  \n",
    "https://luftdaten.berlin.de/api/stations/mc010/data?timespan=custom&start=01.01.2022 00:00&end=31.12.2022 23:00&period=24h"
   ]
  },
  {
   "cell_type": "code",
   "execution_count": null,
   "id": "66929bb2-8949-492a-89b3-f05f51bb097d",
   "metadata": {},
   "outputs": [],
   "source": []
  }
 ],
 "metadata": {
  "kernelspec": {
   "display_name": "Python 3 (ipykernel)",
   "language": "python",
   "name": "python3"
  },
  "language_info": {
   "codemirror_mode": {
    "name": "ipython",
    "version": 3
   },
   "file_extension": ".py",
   "mimetype": "text/x-python",
   "name": "python",
   "nbconvert_exporter": "python",
   "pygments_lexer": "ipython3",
   "version": "3.11.8"
  }
 },
 "nbformat": 4,
 "nbformat_minor": 5
}
