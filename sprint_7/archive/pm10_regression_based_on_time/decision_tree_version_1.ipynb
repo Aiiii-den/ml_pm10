{
 "cells": [
  {
   "cell_type": "markdown",
   "id": "9227138e-64fb-4fa5-bc78-8985aec5af5c",
   "metadata": {},
   "source": [
    "## Decision Tree V1\n",
    "- all datetime feature\n",
    "- random cross validation\n",
    "\n",
    "**Hyperparameter for tweeking:**\n",
    "- maximale Baumtiefe\n",
    "- Mindestanzahl an Daten pro Blatt\n",
    "- Mindestanzahl an Daten pro Knoten\n",
    "- Features\n",
    "\n",
    "**Regularisierung:**\n",
    "- Pruning"
   ]
  },
  {
   "cell_type": "markdown",
   "id": "8c88f4eb-b56f-4033-9f08-43cfc488ae99",
   "metadata": {},
   "source": [
    "#### **_PREPARATION_**"
   ]
  },
  {
   "cell_type": "code",
   "execution_count": 1,
   "id": "dec8f4db-5c81-4b88-8c1c-f8dccff35c54",
   "metadata": {},
   "outputs": [],
   "source": [
    "# GET ALL THE JSONS INTO ONE DATAFRAME\n",
    "import pandas as pd\n",
    "import matplotlib.pyplot as plt\n",
    "import seaborn as sns\n",
    "import numpy as np\n",
    "import os\n",
    "import json\n",
    "import glob"
   ]
  },
  {
   "cell_type": "code",
   "execution_count": 2,
   "id": "032f2b23-46ac-4db7-850e-ff7739a4eaee",
   "metadata": {},
   "outputs": [
    {
     "name": "stdout",
     "output_type": "stream",
     "text": [
      "Combined dataframe shape: (542555, 6)\n"
     ]
    }
   ],
   "source": [
    "# Set the search path for files (assuming the directory is relative to the current script)\n",
    "file_path_mc124 = os.path.join(\"..\", \"mc124_data\", \"*.json\")\n",
    "files = glob.glob(file_path_mc124)\n",
    "\n",
    "# Create empty list to store dataframes\n",
    "li_all_files = []\n",
    "\n",
    "# Loop through list of files and read each one into a dataframe and append to list\n",
    "for f in files:\n",
    "    # Read in json\n",
    "    temp_df = pd.read_json(f)\n",
    "    # Append df to list\n",
    "    li_all_files.append(temp_df)\n",
    "\n",
    "# Optionally concatenate all dataframes into one if needed\n",
    "if li_all_files:\n",
    "    combined_df = pd.concat(li_all_files)\n",
    "    print(f'Combined dataframe shape: {combined_df.shape}')\n",
    "else:\n",
    "    print('No dataframes were created.')"
   ]
  },
  {
   "cell_type": "code",
   "execution_count": 3,
   "id": "899dced3-3997-4824-ae92-c3d496342a86",
   "metadata": {},
   "outputs": [
    {
     "data": {
      "text/html": [
       "<div>\n",
       "<style scoped>\n",
       "    .dataframe tbody tr th:only-of-type {\n",
       "        vertical-align: middle;\n",
       "    }\n",
       "\n",
       "    .dataframe tbody tr th {\n",
       "        vertical-align: top;\n",
       "    }\n",
       "\n",
       "    .dataframe thead th {\n",
       "        text-align: right;\n",
       "    }\n",
       "</style>\n",
       "<table border=\"1\" class=\"dataframe\">\n",
       "  <thead>\n",
       "    <tr style=\"text-align: right;\">\n",
       "      <th></th>\n",
       "      <th>datetime</th>\n",
       "      <th>station</th>\n",
       "      <th>core</th>\n",
       "      <th>component</th>\n",
       "      <th>period</th>\n",
       "      <th>value</th>\n",
       "    </tr>\n",
       "  </thead>\n",
       "  <tbody>\n",
       "    <tr>\n",
       "      <th>2659</th>\n",
       "      <td>2024-01-09 20:00:00+01:00</td>\n",
       "      <td>mc124</td>\n",
       "      <td>nox</td>\n",
       "      <td>nox_1h</td>\n",
       "      <td>1h</td>\n",
       "      <td>74.0</td>\n",
       "    </tr>\n",
       "  </tbody>\n",
       "</table>\n",
       "</div>"
      ],
      "text/plain": [
       "                       datetime station core component period  value\n",
       "2659  2024-01-09 20:00:00+01:00   mc124  nox    nox_1h     1h   74.0"
      ]
     },
     "execution_count": 3,
     "metadata": {},
     "output_type": "execute_result"
    }
   ],
   "source": [
    "combined_df.sample()"
   ]
  },
  {
   "cell_type": "code",
   "execution_count": 4,
   "id": "3907114f-34e2-4755-ac85-9d74020c16f7",
   "metadata": {},
   "outputs": [
    {
     "name": "stdout",
     "output_type": "stream",
     "text": [
      "<class 'pandas.core.frame.DataFrame'>\n",
      "Index: 542555 entries, 0 to 3654\n",
      "Data columns (total 4 columns):\n",
      " #   Column    Non-Null Count   Dtype         \n",
      "---  ------    --------------   -----         \n",
      " 0   datetime  542555 non-null  datetime64[ns]\n",
      " 1   station   542555 non-null  object        \n",
      " 2   core      542555 non-null  object        \n",
      " 3   value     539422 non-null  float64       \n",
      "dtypes: datetime64[ns](1), float64(1), object(2)\n",
      "memory usage: 20.7+ MB\n"
     ]
    },
    {
     "name": "stderr",
     "output_type": "stream",
     "text": [
      "C:\\Users\\a_n_n\\AppData\\Local\\Temp\\ipykernel_22484\\2472174257.py:8: SettingWithCopyWarning: \n",
      "A value is trying to be set on a copy of a slice from a DataFrame.\n",
      "Try using .loc[row_indexer,col_indexer] = value instead\n",
      "\n",
      "See the caveats in the documentation: https://pandas.pydata.org/pandas-docs/stable/user_guide/indexing.html#returning-a-view-versus-a-copy\n",
      "  df_reduced['datetime'] = pd.to_datetime(df_reduced['datetime'], format='mixed')\n"
     ]
    }
   ],
   "source": [
    "# FILTER BY PARTICLE AND ONLY KEEP THE DATETIME, STATION, PERIOD AND VALUE FEATURE SINCE THE REST ARE CONSTANT INFORMATION (station, core, component, period)\n",
    "df_reduced = combined_df[['datetime', 'station', 'core', 'value']]\n",
    "df_reduced.sample(3)\n",
    "\n",
    "# CUT OFF THE TIMEZONE INFORMATION FROM THE DATETIME TO AVOID CONVERSION ISSUES DUE TO TIME CHANGE IN MARCH AND OCTOBER\n",
    "df_reduced.loc[:, 'datetime'] = df_reduced['datetime'].astype(str).str.slice(0, 19)\n",
    "#df_pm10_reduced.loc[:, 'datetime'] = pd.to_datetime(df_pm10_reduced['datetime'], format='mixed')\n",
    "df_reduced['datetime'] = pd.to_datetime(df_reduced['datetime'], format='mixed')\n",
    "df_reduced.loc[:, 'datetime'] = df_reduced['datetime'].dt.tz_localize(None)\n",
    "df_reduced.info()"
   ]
  },
  {
   "cell_type": "code",
   "execution_count": 5,
   "id": "578822bd-0311-4067-a83f-11868d7436b3",
   "metadata": {},
   "outputs": [
    {
     "data": {
      "text/html": [
       "<div>\n",
       "<style scoped>\n",
       "    .dataframe tbody tr th:only-of-type {\n",
       "        vertical-align: middle;\n",
       "    }\n",
       "\n",
       "    .dataframe tbody tr th {\n",
       "        vertical-align: top;\n",
       "    }\n",
       "\n",
       "    .dataframe thead th {\n",
       "        text-align: right;\n",
       "    }\n",
       "</style>\n",
       "<table border=\"1\" class=\"dataframe\">\n",
       "  <thead>\n",
       "    <tr style=\"text-align: right;\">\n",
       "      <th></th>\n",
       "      <th>datetime</th>\n",
       "      <th>station</th>\n",
       "      <th>core</th>\n",
       "      <th>value</th>\n",
       "    </tr>\n",
       "  </thead>\n",
       "  <tbody>\n",
       "    <tr>\n",
       "      <th>1717</th>\n",
       "      <td>2022-11-16 16:00:00</td>\n",
       "      <td>mc124</td>\n",
       "      <td>no2</td>\n",
       "      <td>16.0</td>\n",
       "    </tr>\n",
       "    <tr>\n",
       "      <th>69</th>\n",
       "      <td>2012-06-30 00:00:00</td>\n",
       "      <td>mc124</td>\n",
       "      <td>no2</td>\n",
       "      <td>65.0</td>\n",
       "    </tr>\n",
       "    <tr>\n",
       "      <th>713</th>\n",
       "      <td>2011-08-22 02:00:00</td>\n",
       "      <td>mc124</td>\n",
       "      <td>nox</td>\n",
       "      <td>41.0</td>\n",
       "    </tr>\n",
       "  </tbody>\n",
       "</table>\n",
       "</div>"
      ],
      "text/plain": [
       "                datetime station core  value\n",
       "1717 2022-11-16 16:00:00   mc124  no2   16.0\n",
       "69   2012-06-30 00:00:00   mc124  no2   65.0\n",
       "713  2011-08-22 02:00:00   mc124  nox   41.0"
      ]
     },
     "execution_count": 5,
     "metadata": {},
     "output_type": "execute_result"
    }
   ],
   "source": [
    "df_reduced.sample(3)"
   ]
  },
  {
   "cell_type": "code",
   "execution_count": 6,
   "id": "2ecf72c9-0c5b-41a1-a706-70a5ef24ad98",
   "metadata": {},
   "outputs": [
    {
     "name": "stderr",
     "output_type": "stream",
     "text": [
      "C:\\Users\\a_n_n\\AppData\\Local\\Temp\\ipykernel_22484\\493841492.py:2: SettingWithCopyWarning: \n",
      "A value is trying to be set on a copy of a slice from a DataFrame.\n",
      "Try using .loc[row_indexer,col_indexer] = value instead\n",
      "\n",
      "See the caveats in the documentation: https://pandas.pydata.org/pandas-docs/stable/user_guide/indexing.html#returning-a-view-versus-a-copy\n",
      "  df_reduced['hour'] = df_reduced['datetime'].dt.strftime('%H')  # Hour (00-23)\n"
     ]
    },
    {
     "data": {
      "text/html": [
       "<div>\n",
       "<style scoped>\n",
       "    .dataframe tbody tr th:only-of-type {\n",
       "        vertical-align: middle;\n",
       "    }\n",
       "\n",
       "    .dataframe tbody tr th {\n",
       "        vertical-align: top;\n",
       "    }\n",
       "\n",
       "    .dataframe thead th {\n",
       "        text-align: right;\n",
       "    }\n",
       "</style>\n",
       "<table border=\"1\" class=\"dataframe\">\n",
       "  <thead>\n",
       "    <tr style=\"text-align: right;\">\n",
       "      <th></th>\n",
       "      <th>datetime</th>\n",
       "      <th>station</th>\n",
       "      <th>core</th>\n",
       "      <th>value</th>\n",
       "      <th>hour</th>\n",
       "      <th>day</th>\n",
       "      <th>month</th>\n",
       "      <th>year</th>\n",
       "    </tr>\n",
       "  </thead>\n",
       "  <tbody>\n",
       "    <tr>\n",
       "      <th>310</th>\n",
       "      <td>2012-10-27 16:00:00</td>\n",
       "      <td>mc124</td>\n",
       "      <td>no</td>\n",
       "      <td>36.0</td>\n",
       "      <td>16</td>\n",
       "      <td>27</td>\n",
       "      <td>10</td>\n",
       "      <td>2012</td>\n",
       "    </tr>\n",
       "    <tr>\n",
       "      <th>2163</th>\n",
       "      <td>2009-10-01 22:00:00</td>\n",
       "      <td>mc124</td>\n",
       "      <td>no2</td>\n",
       "      <td>47.0</td>\n",
       "      <td>22</td>\n",
       "      <td>01</td>\n",
       "      <td>10</td>\n",
       "      <td>2009</td>\n",
       "    </tr>\n",
       "    <tr>\n",
       "      <th>1247</th>\n",
       "      <td>2017-06-20 14:00:00</td>\n",
       "      <td>mc124</td>\n",
       "      <td>no2</td>\n",
       "      <td>84.0</td>\n",
       "      <td>14</td>\n",
       "      <td>20</td>\n",
       "      <td>06</td>\n",
       "      <td>2017</td>\n",
       "    </tr>\n",
       "  </tbody>\n",
       "</table>\n",
       "</div>"
      ],
      "text/plain": [
       "                datetime station core  value hour day month  year\n",
       "310  2012-10-27 16:00:00   mc124   no   36.0   16  27    10  2012\n",
       "2163 2009-10-01 22:00:00   mc124  no2   47.0   22  01    10  2009\n",
       "1247 2017-06-20 14:00:00   mc124  no2   84.0   14  20    06  2017"
      ]
     },
     "execution_count": 6,
     "metadata": {},
     "output_type": "execute_result"
    }
   ],
   "source": [
    "#use loc to add it to every for every row\n",
    "df_reduced['hour'] = df_reduced['datetime'].dt.strftime('%H')  # Hour (00-23)\n",
    "df_reduced['day'] = df_reduced['datetime'].dt.strftime('%d')  # Day of the month (01-31)\n",
    "df_reduced['month'] = df_reduced['datetime'].dt.strftime('%m')  # Month (01-12)\n",
    "df_reduced['year'] = df_reduced['datetime'].dt.strftime('%Y')  # Month (01-12)\n",
    "df_reduced.sample(3)"
   ]
  },
  {
   "cell_type": "code",
   "execution_count": 7,
   "id": "00cc1304-8b05-467c-b0e8-a0bedbaeb1d6",
   "metadata": {},
   "outputs": [
    {
     "name": "stdout",
     "output_type": "stream",
     "text": [
      "<class 'pandas.core.frame.DataFrame'>\n",
      "Index: 542555 entries, 0 to 3654\n",
      "Data columns (total 10 columns):\n",
      " #   Column       Non-Null Count   Dtype         \n",
      "---  ------       --------------   -----         \n",
      " 0   datetime     542555 non-null  datetime64[ns]\n",
      " 1   station      542555 non-null  object        \n",
      " 2   core         542555 non-null  object        \n",
      " 3   pm10_value   539422 non-null  float64       \n",
      " 4   hour         542555 non-null  object        \n",
      " 5   day          542555 non-null  int32         \n",
      " 6   month        542555 non-null  int32         \n",
      " 7   year         542555 non-null  int32         \n",
      " 8   day_of_week  542555 non-null  int64         \n",
      " 9   is_weekend   542555 non-null  int64         \n",
      "dtypes: datetime64[ns](1), float64(1), int32(3), int64(2), object(3)\n",
      "memory usage: 39.3+ MB\n"
     ]
    }
   ],
   "source": [
    "# add day of the week to dataframe\n",
    "import calendar\n",
    "\n",
    "days = {\n",
    "    0: \"Monday\",\n",
    "    1: \"Tuesday\",\n",
    "    2: \"Wednesday\",\n",
    "    3: \"Thursday\",\n",
    "    4: \"Friday\",\n",
    "    5: \"Saturday\",\n",
    "    6: \"Sunday\",\n",
    "}\n",
    "\n",
    "df_daytime = df_reduced\n",
    "# convert the 'day', 'month', and 'year' columns to integers\n",
    "df_daytime['day'] = df_reduced['day'].astype(int)\n",
    "df_daytime['month'] = df_reduced['month'].astype(int)\n",
    "df_daytime['year'] = df_reduced['year'].astype(int)\n",
    "\n",
    "# function to determine the day of the week\n",
    "def get_day_of_week(row):\n",
    "    return calendar.weekday(row['year'], row['month'], row['day'])\n",
    "\n",
    "# function to determine if day is weekday or weekend \n",
    "def is_weekend(day_number):\n",
    "    return 1 if day_number >= 5 else 0\n",
    "    #day_number >= 5 ? 1 : 0\n",
    "    \n",
    "# apply the functions to create the new columns\n",
    "df_daytime['day_of_week'] = df_daytime.apply(get_day_of_week, axis=1)\n",
    "df_daytime['is_weekend'] = df_daytime['day_of_week'].apply(is_weekend)\n",
    "\n",
    "df_daytime.rename(columns={'value': 'pm10_value'}, inplace=True)\n",
    "\n",
    "df_daytime.info()"
   ]
  },
  {
   "cell_type": "code",
   "execution_count": 12,
   "id": "29d29701-a0d1-445f-8da9-e0a8324d7075",
   "metadata": {},
   "outputs": [
    {
     "name": "stdout",
     "output_type": "stream",
     "text": [
      "<class 'pandas.core.frame.DataFrame'>\n",
      "Index: 539422 entries, 0 to 3654\n",
      "Data columns (total 10 columns):\n",
      " #   Column       Non-Null Count   Dtype         \n",
      "---  ------       --------------   -----         \n",
      " 0   datetime     539422 non-null  datetime64[ns]\n",
      " 1   station      539422 non-null  object        \n",
      " 2   core         539422 non-null  object        \n",
      " 3   pm10_value   539422 non-null  float64       \n",
      " 4   hour         539422 non-null  object        \n",
      " 5   day          539422 non-null  int32         \n",
      " 6   month        539422 non-null  int32         \n",
      " 7   year         539422 non-null  int32         \n",
      " 8   day_of_week  539422 non-null  int64         \n",
      " 9   is_weekend   539422 non-null  int64         \n",
      "dtypes: datetime64[ns](1), float64(1), int32(3), int64(2), object(3)\n",
      "memory usage: 39.1+ MB\n"
     ]
    }
   ],
   "source": [
    "df_daytime.dropna(inplace=True)\n",
    "df_daytime.info()"
   ]
  },
  {
   "cell_type": "markdown",
   "id": "5cf48370-f694-414b-98fe-41e2c0d01169",
   "metadata": {},
   "source": [
    "#### **_ACTUAL MODEL TRAINING_**\n"
   ]
  },
  {
   "cell_type": "markdown",
   "id": "d4d582f3-651d-423a-b174-2126abc9e9a1",
   "metadata": {},
   "source": [
    "#### Part 1: create decision tree on everything"
   ]
  },
  {
   "cell_type": "code",
   "execution_count": 13,
   "id": "c3ada179-3fc4-4383-bcc9-aee1c9abaae2",
   "metadata": {},
   "outputs": [],
   "source": [
    "# create features and to be predicted value\n",
    "y = df_daytime['pm10_value']\n",
    "X = df_daytime[['hour', 'day', 'month', 'year', 'day_of_week', 'is_weekend']]"
   ]
  },
  {
   "cell_type": "code",
   "execution_count": 14,
   "id": "39a4cb64-ec4b-435e-aea5-b47a0431e783",
   "metadata": {},
   "outputs": [],
   "source": [
    "from sklearn.tree import DecisionTreeRegressor\n",
    "from sklearn.model_selection import train_test_split\n",
    "from sklearn import tree"
   ]
  },
  {
   "cell_type": "code",
   "execution_count": 18,
   "id": "af6cf8df-7197-4513-8966-8e2968269bb6",
   "metadata": {},
   "outputs": [
    {
     "data": {
      "text/plain": [
       "0.1457118119110632"
      ]
     },
     "execution_count": 18,
     "metadata": {},
     "output_type": "execute_result"
    }
   ],
   "source": [
    "dt = DecisionTreeRegressor(max_depth=2)\n",
    "X_train, X_test, y_train, y_test = train_test_split(X, y, test_size=0.2, \n",
    "                                                    random_state=1)\n",
    "dt.fit(X_train, y_train)\n",
    "dt.score(X_train, y_train)"
   ]
  },
  {
   "cell_type": "code",
   "execution_count": 19,
   "id": "d7d760ce-5a96-49b1-8351-d9792ba05c45",
   "metadata": {},
   "outputs": [
    {
     "data": {
      "text/plain": [
       "0.14182334982175882"
      ]
     },
     "execution_count": 19,
     "metadata": {},
     "output_type": "execute_result"
    }
   ],
   "source": [
    "dt.score(X_test, y_test)"
   ]
  },
  {
   "cell_type": "code",
   "execution_count": 29,
   "id": "451ed659-631f-4162-8112-8d786ab74f5b",
   "metadata": {},
   "outputs": [
    {
     "data": {
      "text/plain": [
       "0.5826258838646006"
      ]
     },
     "execution_count": 29,
     "metadata": {},
     "output_type": "execute_result"
    }
   ],
   "source": [
    "dt = DecisionTreeRegressor(max_depth=2000000)\n",
    "X_train, X_test, y_train, y_test = train_test_split(X, y, test_size=0.2, \n",
    "                                                    random_state=1)\n",
    "dt.fit(X_train, y_train)\n",
    "dt.score(X_train, y_train)"
   ]
  },
  {
   "cell_type": "code",
   "execution_count": 30,
   "id": "0b2019f8-05d0-41ca-899f-40bd7d9a01d4",
   "metadata": {},
   "outputs": [
    {
     "data": {
      "text/plain": [
       "0.02975804503755619"
      ]
     },
     "execution_count": 30,
     "metadata": {},
     "output_type": "execute_result"
    }
   ],
   "source": [
    "dt.score(X_test, y_test)"
   ]
  },
  {
   "cell_type": "code",
   "execution_count": 31,
   "id": "5c8da479-f205-4f3f-8cfe-4b9372c3fc35",
   "metadata": {},
   "outputs": [
    {
     "name": "stdout",
     "output_type": "stream",
     "text": [
      "Cross-validation scores:\n",
      "fit_time: 1.44 (+/- 0.03)\n",
      "score_time: 0.28 (+/- 0.05)\n",
      "test_mean_absolute_error: -40.37 (+/- 6.09)\n",
      "train_mean_absolute_error: -26.20 (+/- 7.13)\n",
      "test_mean_squared_error: -4106.24 (+/- 1722.78)\n",
      "train_mean_squared_error: -1718.14 (+/- 723.49)\n",
      "test_median_absolute_error: -24.80 (+/- 0.80)\n",
      "train_median_absolute_error: -15.93 (+/- 5.73)\n"
     ]
    }
   ],
   "source": [
    "# cross validate\n",
    "from sklearn.model_selection import train_test_split, cross_val_score, cross_validate\n",
    "from sklearn.metrics import make_scorer\n",
    "from sklearn.metrics import mean_absolute_error, mean_squared_error, median_absolute_error\n",
    "\n",
    "# scores = cross_validate(knn, data_scaled, iris.target, return_train_score=True, cv=5)\n",
    "# scores\n",
    "# train_scores = scores[\"train_score\"]\n",
    "# test_scores = scores[\"test_score\"]\n",
    "# train_scores.mean()\n",
    "# test_scores.mean()\n",
    "# test_scores.std()\n",
    "\n",
    "#-------------------------------------------------------------------\n",
    "\n",
    "# Create a DecisionTreeRegressor\n",
    "decision_tree = DecisionTreeRegressor()\n",
    "\n",
    "# Define your scoring functions\n",
    "scorers = {\n",
    "    'mean_absolute_error': make_scorer(mean_absolute_error, greater_is_better=False),\n",
    "    'mean_squared_error': make_scorer(mean_squared_error, greater_is_better=False),\n",
    "    'median_absolute_error': make_scorer(median_absolute_error, greater_is_better=False)\n",
    "}\n",
    "\n",
    "# Perform cross-validation\n",
    "scores = cross_validate(decision_tree, X, y, cv=2, scoring=scorers, return_train_score=True)\n",
    "\n",
    "# Print the results\n",
    "print(\"Cross-validation scores:\")\n",
    "for scorer, score in scores.items():\n",
    "    print(f\"{scorer}: {np.mean(score):.2f} (+/- {np.std(score):.2f})\")"
   ]
  },
  {
   "cell_type": "code",
   "execution_count": null,
   "id": "cf23b4ab-29d7-49ec-92b9-b9a0c4dce5f9",
   "metadata": {},
   "outputs": [],
   "source": []
  }
 ],
 "metadata": {
  "kernelspec": {
   "display_name": "Python 3 (ipykernel)",
   "language": "python",
   "name": "python3"
  },
  "language_info": {
   "codemirror_mode": {
    "name": "ipython",
    "version": 3
   },
   "file_extension": ".py",
   "mimetype": "text/x-python",
   "name": "python",
   "nbconvert_exporter": "python",
   "pygments_lexer": "ipython3",
   "version": "3.11.8"
  }
 },
 "nbformat": 4,
 "nbformat_minor": 5
}
