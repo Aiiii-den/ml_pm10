{
 "cells": [
  {
   "cell_type": "markdown",
   "id": "9227138e-64fb-4fa5-bc78-8985aec5af5c",
   "metadata": {},
   "source": [
    "## Correlation between datetime features and "
   ]
  },
  {
   "cell_type": "markdown",
   "id": "8c88f4eb-b56f-4033-9f08-43cfc488ae99",
   "metadata": {},
   "source": [
    "#### **_PREPARATION_**"
   ]
  },
  {
   "cell_type": "code",
   "execution_count": 1,
   "id": "dec8f4db-5c81-4b88-8c1c-f8dccff35c54",
   "metadata": {},
   "outputs": [],
   "source": [
    "# GET ALL THE JSONS INTO ONE DATAFRAME\n",
    "import pandas as pd\n",
    "import matplotlib.pyplot as plt\n",
    "import seaborn as sns\n",
    "import numpy as np\n",
    "import os\n",
    "import json\n",
    "import glob"
   ]
  },
  {
   "cell_type": "code",
   "execution_count": 2,
   "id": "032f2b23-46ac-4db7-850e-ff7739a4eaee",
   "metadata": {},
   "outputs": [
    {
     "name": "stdout",
     "output_type": "stream",
     "text": [
      "Combined dataframe shape: (542555, 6)\n"
     ]
    }
   ],
   "source": [
    "# Set the search path for files (assuming the directory is relative to the current script)\n",
    "file_path_mc124 = os.path.join(\"..\", \"mc124_data\", \"*.json\")\n",
    "files = glob.glob(file_path_mc124)\n",
    "\n",
    "# Create empty list to store dataframes\n",
    "li_all_files = []\n",
    "\n",
    "# Loop through list of files and read each one into a dataframe and append to list\n",
    "for f in files:\n",
    "    # Read in json\n",
    "    temp_df = pd.read_json(f)\n",
    "    # Append df to list\n",
    "    li_all_files.append(temp_df)\n",
    "\n",
    "# Optionally concatenate all dataframes into one if needed\n",
    "if li_all_files:\n",
    "    combined_df = pd.concat(li_all_files)\n",
    "    print(f'Combined dataframe shape: {combined_df.shape}')\n",
    "else:\n",
    "    print('No dataframes were created.')"
   ]
  },
  {
   "cell_type": "code",
   "execution_count": 3,
   "id": "899dced3-3997-4824-ae92-c3d496342a86",
   "metadata": {},
   "outputs": [
    {
     "data": {
      "text/html": [
       "<div>\n",
       "<style scoped>\n",
       "    .dataframe tbody tr th:only-of-type {\n",
       "        vertical-align: middle;\n",
       "    }\n",
       "\n",
       "    .dataframe tbody tr th {\n",
       "        vertical-align: top;\n",
       "    }\n",
       "\n",
       "    .dataframe thead th {\n",
       "        text-align: right;\n",
       "    }\n",
       "</style>\n",
       "<table border=\"1\" class=\"dataframe\">\n",
       "  <thead>\n",
       "    <tr style=\"text-align: right;\">\n",
       "      <th></th>\n",
       "      <th>datetime</th>\n",
       "      <th>station</th>\n",
       "      <th>core</th>\n",
       "      <th>component</th>\n",
       "      <th>period</th>\n",
       "      <th>value</th>\n",
       "    </tr>\n",
       "  </thead>\n",
       "  <tbody>\n",
       "    <tr>\n",
       "      <th>2982</th>\n",
       "      <td>2021-02-04 03:00:00+01:00</td>\n",
       "      <td>mc124</td>\n",
       "      <td>no2</td>\n",
       "      <td>no2_1h</td>\n",
       "      <td>1h</td>\n",
       "      <td>22.0</td>\n",
       "    </tr>\n",
       "  </tbody>\n",
       "</table>\n",
       "</div>"
      ],
      "text/plain": [
       "                       datetime station core component period  value\n",
       "2982  2021-02-04 03:00:00+01:00   mc124  no2    no2_1h     1h   22.0"
      ]
     },
     "execution_count": 3,
     "metadata": {},
     "output_type": "execute_result"
    }
   ],
   "source": [
    "combined_df.sample()"
   ]
  },
  {
   "cell_type": "code",
   "execution_count": 4,
   "id": "3907114f-34e2-4755-ac85-9d74020c16f7",
   "metadata": {},
   "outputs": [
    {
     "name": "stderr",
     "output_type": "stream",
     "text": [
      "C:\\Users\\a_n_n\\AppData\\Local\\Temp\\ipykernel_17836\\2472174257.py:8: SettingWithCopyWarning: \n",
      "A value is trying to be set on a copy of a slice from a DataFrame.\n",
      "Try using .loc[row_indexer,col_indexer] = value instead\n",
      "\n",
      "See the caveats in the documentation: https://pandas.pydata.org/pandas-docs/stable/user_guide/indexing.html#returning-a-view-versus-a-copy\n",
      "  df_reduced['datetime'] = pd.to_datetime(df_reduced['datetime'], format='mixed')\n"
     ]
    },
    {
     "name": "stdout",
     "output_type": "stream",
     "text": [
      "<class 'pandas.core.frame.DataFrame'>\n",
      "Index: 542555 entries, 0 to 3654\n",
      "Data columns (total 4 columns):\n",
      " #   Column    Non-Null Count   Dtype         \n",
      "---  ------    --------------   -----         \n",
      " 0   datetime  542555 non-null  datetime64[ns]\n",
      " 1   station   542555 non-null  object        \n",
      " 2   core      542555 non-null  object        \n",
      " 3   value     539422 non-null  float64       \n",
      "dtypes: datetime64[ns](1), float64(1), object(2)\n",
      "memory usage: 20.7+ MB\n"
     ]
    }
   ],
   "source": [
    "# FILTER BY PARTICLE AND ONLY KEEP THE DATETIME, STATION, PERIOD AND VALUE FEATURE SINCE THE REST ARE CONSTANT INFORMATION (station, core, component, period)\n",
    "df_reduced = combined_df[['datetime', 'station', 'core', 'value']]\n",
    "df_reduced.sample(3)\n",
    "\n",
    "# CUT OFF THE TIMEZONE INFORMATION FROM THE DATETIME TO AVOID CONVERSION ISSUES DUE TO TIME CHANGE IN MARCH AND OCTOBER\n",
    "df_reduced.loc[:, 'datetime'] = df_reduced['datetime'].astype(str).str.slice(0, 19)\n",
    "#df_pm10_reduced.loc[:, 'datetime'] = pd.to_datetime(df_pm10_reduced['datetime'], format='mixed')\n",
    "df_reduced['datetime'] = pd.to_datetime(df_reduced['datetime'], format='mixed')\n",
    "df_reduced.loc[:, 'datetime'] = df_reduced['datetime'].dt.tz_localize(None)\n",
    "df_reduced.info()"
   ]
  },
  {
   "cell_type": "code",
   "execution_count": 5,
   "id": "578822bd-0311-4067-a83f-11868d7436b3",
   "metadata": {},
   "outputs": [
    {
     "data": {
      "text/html": [
       "<div>\n",
       "<style scoped>\n",
       "    .dataframe tbody tr th:only-of-type {\n",
       "        vertical-align: middle;\n",
       "    }\n",
       "\n",
       "    .dataframe tbody tr th {\n",
       "        vertical-align: top;\n",
       "    }\n",
       "\n",
       "    .dataframe thead th {\n",
       "        text-align: right;\n",
       "    }\n",
       "</style>\n",
       "<table border=\"1\" class=\"dataframe\">\n",
       "  <thead>\n",
       "    <tr style=\"text-align: right;\">\n",
       "      <th></th>\n",
       "      <th>datetime</th>\n",
       "      <th>station</th>\n",
       "      <th>core</th>\n",
       "      <th>value</th>\n",
       "    </tr>\n",
       "  </thead>\n",
       "  <tbody>\n",
       "    <tr>\n",
       "      <th>1781</th>\n",
       "      <td>2014-11-06 06:00:00</td>\n",
       "      <td>mc124</td>\n",
       "      <td>nox</td>\n",
       "      <td>153.0</td>\n",
       "    </tr>\n",
       "    <tr>\n",
       "      <th>548</th>\n",
       "      <td>2022-12-27 10:00:00</td>\n",
       "      <td>mc124</td>\n",
       "      <td>no</td>\n",
       "      <td>31.0</td>\n",
       "    </tr>\n",
       "    <tr>\n",
       "      <th>2507</th>\n",
       "      <td>2023-06-10 02:00:00</td>\n",
       "      <td>mc124</td>\n",
       "      <td>no2</td>\n",
       "      <td>6.0</td>\n",
       "    </tr>\n",
       "  </tbody>\n",
       "</table>\n",
       "</div>"
      ],
      "text/plain": [
       "                datetime station core  value\n",
       "1781 2014-11-06 06:00:00   mc124  nox  153.0\n",
       "548  2022-12-27 10:00:00   mc124   no   31.0\n",
       "2507 2023-06-10 02:00:00   mc124  no2    6.0"
      ]
     },
     "execution_count": 5,
     "metadata": {},
     "output_type": "execute_result"
    }
   ],
   "source": [
    "df_reduced.sample(3)"
   ]
  },
  {
   "cell_type": "code",
   "execution_count": 6,
   "id": "2ecf72c9-0c5b-41a1-a706-70a5ef24ad98",
   "metadata": {},
   "outputs": [
    {
     "name": "stderr",
     "output_type": "stream",
     "text": [
      "C:\\Users\\a_n_n\\AppData\\Local\\Temp\\ipykernel_17836\\493841492.py:2: SettingWithCopyWarning: \n",
      "A value is trying to be set on a copy of a slice from a DataFrame.\n",
      "Try using .loc[row_indexer,col_indexer] = value instead\n",
      "\n",
      "See the caveats in the documentation: https://pandas.pydata.org/pandas-docs/stable/user_guide/indexing.html#returning-a-view-versus-a-copy\n",
      "  df_reduced['hour'] = df_reduced['datetime'].dt.strftime('%H')  # Hour (00-23)\n"
     ]
    },
    {
     "data": {
      "text/html": [
       "<div>\n",
       "<style scoped>\n",
       "    .dataframe tbody tr th:only-of-type {\n",
       "        vertical-align: middle;\n",
       "    }\n",
       "\n",
       "    .dataframe tbody tr th {\n",
       "        vertical-align: top;\n",
       "    }\n",
       "\n",
       "    .dataframe thead th {\n",
       "        text-align: right;\n",
       "    }\n",
       "</style>\n",
       "<table border=\"1\" class=\"dataframe\">\n",
       "  <thead>\n",
       "    <tr style=\"text-align: right;\">\n",
       "      <th></th>\n",
       "      <th>datetime</th>\n",
       "      <th>station</th>\n",
       "      <th>core</th>\n",
       "      <th>value</th>\n",
       "      <th>hour</th>\n",
       "      <th>day</th>\n",
       "      <th>month</th>\n",
       "      <th>year</th>\n",
       "    </tr>\n",
       "  </thead>\n",
       "  <tbody>\n",
       "    <tr>\n",
       "      <th>1185</th>\n",
       "      <td>2009-05-15 12:00:00</td>\n",
       "      <td>mc124</td>\n",
       "      <td>no2</td>\n",
       "      <td>45.0</td>\n",
       "      <td>12</td>\n",
       "      <td>15</td>\n",
       "      <td>05</td>\n",
       "      <td>2009</td>\n",
       "    </tr>\n",
       "    <tr>\n",
       "      <th>2491</th>\n",
       "      <td>2023-07-11 05:00:00</td>\n",
       "      <td>mc124</td>\n",
       "      <td>pm2</td>\n",
       "      <td>NaN</td>\n",
       "      <td>05</td>\n",
       "      <td>11</td>\n",
       "      <td>07</td>\n",
       "      <td>2023</td>\n",
       "    </tr>\n",
       "    <tr>\n",
       "      <th>931</th>\n",
       "      <td>2017-09-23 05:00:00</td>\n",
       "      <td>mc124</td>\n",
       "      <td>pm2</td>\n",
       "      <td>36.0</td>\n",
       "      <td>05</td>\n",
       "      <td>23</td>\n",
       "      <td>09</td>\n",
       "      <td>2017</td>\n",
       "    </tr>\n",
       "  </tbody>\n",
       "</table>\n",
       "</div>"
      ],
      "text/plain": [
       "                datetime station core  value hour day month  year\n",
       "1185 2009-05-15 12:00:00   mc124  no2   45.0   12  15    05  2009\n",
       "2491 2023-07-11 05:00:00   mc124  pm2    NaN   05  11    07  2023\n",
       "931  2017-09-23 05:00:00   mc124  pm2   36.0   05  23    09  2017"
      ]
     },
     "execution_count": 6,
     "metadata": {},
     "output_type": "execute_result"
    }
   ],
   "source": [
    "#use loc to add it to every for every row\n",
    "df_reduced['hour'] = df_reduced['datetime'].dt.strftime('%H')  # Hour (00-23)\n",
    "df_reduced['day'] = df_reduced['datetime'].dt.strftime('%d')  # Day of the month (01-31)\n",
    "df_reduced['month'] = df_reduced['datetime'].dt.strftime('%m')  # Month (01-12)\n",
    "df_reduced['year'] = df_reduced['datetime'].dt.strftime('%Y')  # Month (01-12)\n",
    "df_reduced.sample(3)"
   ]
  },
  {
   "cell_type": "code",
   "execution_count": 7,
   "id": "00cc1304-8b05-467c-b0e8-a0bedbaeb1d6",
   "metadata": {},
   "outputs": [
    {
     "name": "stdout",
     "output_type": "stream",
     "text": [
      "<class 'pandas.core.frame.DataFrame'>\n",
      "Index: 542555 entries, 0 to 3654\n",
      "Data columns (total 10 columns):\n",
      " #   Column       Non-Null Count   Dtype         \n",
      "---  ------       --------------   -----         \n",
      " 0   datetime     542555 non-null  datetime64[ns]\n",
      " 1   station      542555 non-null  object        \n",
      " 2   core         542555 non-null  object        \n",
      " 3   value        539422 non-null  float64       \n",
      " 4   hour         542555 non-null  object        \n",
      " 5   day          542555 non-null  int32         \n",
      " 6   month        542555 non-null  int32         \n",
      " 7   year         542555 non-null  int32         \n",
      " 8   day_of_week  542555 non-null  int64         \n",
      " 9   is_weekend   542555 non-null  int64         \n",
      "dtypes: datetime64[ns](1), float64(1), int32(3), int64(2), object(3)\n",
      "memory usage: 39.3+ MB\n"
     ]
    }
   ],
   "source": [
    "# add day of the week to dataframe\n",
    "import calendar\n",
    "\n",
    "days = {\n",
    "    0: \"Monday\",\n",
    "    1: \"Tuesday\",\n",
    "    2: \"Wednesday\",\n",
    "    3: \"Thursday\",\n",
    "    4: \"Friday\",\n",
    "    5: \"Saturday\",\n",
    "    6: \"Sunday\",\n",
    "}\n",
    "\n",
    "df_daytime = df_reduced\n",
    "# convert the 'day', 'month', and 'year' columns to integers\n",
    "df_daytime['day'] = df_reduced['day'].astype(int)\n",
    "df_daytime['month'] = df_reduced['month'].astype(int)\n",
    "df_daytime['year'] = df_reduced['year'].astype(int)\n",
    "\n",
    "# function to determine the day of the week\n",
    "def get_day_of_week(row):\n",
    "    return calendar.weekday(row['year'], row['month'], row['day'])\n",
    "\n",
    "# function to determine if day is weekday or weekend \n",
    "def is_weekend(day_number):\n",
    "    return 1 if day_number >= 5 else 0\n",
    "    #day_number >= 5 ? 1 : 0\n",
    "    \n",
    "# apply the functions to create the new columns\n",
    "df_daytime['day_of_week'] = df_daytime.apply(get_day_of_week, axis=1)\n",
    "df_daytime['is_weekend'] = df_daytime['day_of_week'].apply(is_weekend)\n",
    "\n",
    "df_daytime.info()"
   ]
  },
  {
   "cell_type": "code",
   "execution_count": 8,
   "id": "d8dc7d32-61e9-45eb-9c2a-deed247e7120",
   "metadata": {},
   "outputs": [
    {
     "data": {
      "text/html": [
       "<div>\n",
       "<style scoped>\n",
       "    .dataframe tbody tr th:only-of-type {\n",
       "        vertical-align: middle;\n",
       "    }\n",
       "\n",
       "    .dataframe tbody tr th {\n",
       "        vertical-align: top;\n",
       "    }\n",
       "\n",
       "    .dataframe thead th {\n",
       "        text-align: right;\n",
       "    }\n",
       "</style>\n",
       "<table border=\"1\" class=\"dataframe\">\n",
       "  <thead>\n",
       "    <tr style=\"text-align: right;\">\n",
       "      <th></th>\n",
       "      <th>datetime</th>\n",
       "      <th>station</th>\n",
       "      <th>core</th>\n",
       "      <th>value</th>\n",
       "      <th>hour</th>\n",
       "      <th>day</th>\n",
       "      <th>month</th>\n",
       "      <th>year</th>\n",
       "      <th>day_of_week</th>\n",
       "      <th>is_weekend</th>\n",
       "    </tr>\n",
       "  </thead>\n",
       "  <tbody>\n",
       "    <tr>\n",
       "      <th>3608</th>\n",
       "      <td>2022-05-01 22:00:00</td>\n",
       "      <td>mc124</td>\n",
       "      <td>no</td>\n",
       "      <td>20.0</td>\n",
       "      <td>22</td>\n",
       "      <td>1</td>\n",
       "      <td>5</td>\n",
       "      <td>2022</td>\n",
       "      <td>6</td>\n",
       "      <td>1</td>\n",
       "    </tr>\n",
       "  </tbody>\n",
       "</table>\n",
       "</div>"
      ],
      "text/plain": [
       "                datetime station core  value hour  day  month  year  \\\n",
       "3608 2022-05-01 22:00:00   mc124   no   20.0   22    1      5  2022   \n",
       "\n",
       "      day_of_week  is_weekend  \n",
       "3608            6           1  "
      ]
     },
     "execution_count": 8,
     "metadata": {},
     "output_type": "execute_result"
    }
   ],
   "source": [
    "df_daytime.sample()"
   ]
  },
  {
   "cell_type": "markdown",
   "id": "d6bd056e-61e3-4c43-bcac-369b48326008",
   "metadata": {},
   "source": [
    "#### **_ACTUAL PLOTTING_**"
   ]
  },
  {
   "cell_type": "markdown",
   "id": "ec138d43-2028-4b52-978a-43f793132561",
   "metadata": {},
   "source": [
    "To-Do:\n",
    "- [ x ] filter for pm10\n",
    "- [ ] create heatmap with the following inputs: pm10, every unique hour, every unique month, every unique year"
   ]
  },
  {
   "cell_type": "code",
   "execution_count": 9,
   "id": "9bfb7fb9-5eca-429a-afd2-e0c15ea163f2",
   "metadata": {},
   "outputs": [
    {
     "data": {
      "text/html": [
       "<div>\n",
       "<style scoped>\n",
       "    .dataframe tbody tr th:only-of-type {\n",
       "        vertical-align: middle;\n",
       "    }\n",
       "\n",
       "    .dataframe tbody tr th {\n",
       "        vertical-align: top;\n",
       "    }\n",
       "\n",
       "    .dataframe thead th {\n",
       "        text-align: right;\n",
       "    }\n",
       "</style>\n",
       "<table border=\"1\" class=\"dataframe\">\n",
       "  <thead>\n",
       "    <tr style=\"text-align: right;\">\n",
       "      <th></th>\n",
       "      <th>datetime</th>\n",
       "      <th>station</th>\n",
       "      <th>core</th>\n",
       "      <th>value</th>\n",
       "      <th>hour</th>\n",
       "      <th>day</th>\n",
       "      <th>month</th>\n",
       "      <th>year</th>\n",
       "      <th>day_of_week</th>\n",
       "      <th>is_weekend</th>\n",
       "    </tr>\n",
       "  </thead>\n",
       "  <tbody>\n",
       "    <tr>\n",
       "      <th>1870</th>\n",
       "      <td>2023-03-16 08:00:00</td>\n",
       "      <td>mc124</td>\n",
       "      <td>pm10</td>\n",
       "      <td>20.0</td>\n",
       "      <td>08</td>\n",
       "      <td>16</td>\n",
       "      <td>3</td>\n",
       "      <td>2023</td>\n",
       "      <td>3</td>\n",
       "      <td>0</td>\n",
       "    </tr>\n",
       "    <tr>\n",
       "      <th>1752</th>\n",
       "      <td>2016-03-13 16:00:00</td>\n",
       "      <td>mc124</td>\n",
       "      <td>pm10</td>\n",
       "      <td>NaN</td>\n",
       "      <td>16</td>\n",
       "      <td>13</td>\n",
       "      <td>3</td>\n",
       "      <td>2016</td>\n",
       "      <td>6</td>\n",
       "      <td>1</td>\n",
       "    </tr>\n",
       "    <tr>\n",
       "      <th>2650</th>\n",
       "      <td>2022-10-09 21:00:00</td>\n",
       "      <td>mc124</td>\n",
       "      <td>pm10</td>\n",
       "      <td>18.0</td>\n",
       "      <td>21</td>\n",
       "      <td>9</td>\n",
       "      <td>10</td>\n",
       "      <td>2022</td>\n",
       "      <td>6</td>\n",
       "      <td>1</td>\n",
       "    </tr>\n",
       "    <tr>\n",
       "      <th>850</th>\n",
       "      <td>2019-03-24 20:00:00</td>\n",
       "      <td>mc124</td>\n",
       "      <td>pm10</td>\n",
       "      <td>17.0</td>\n",
       "      <td>20</td>\n",
       "      <td>24</td>\n",
       "      <td>3</td>\n",
       "      <td>2019</td>\n",
       "      <td>6</td>\n",
       "      <td>1</td>\n",
       "    </tr>\n",
       "  </tbody>\n",
       "</table>\n",
       "</div>"
      ],
      "text/plain": [
       "                datetime station  core  value hour  day  month  year  \\\n",
       "1870 2023-03-16 08:00:00   mc124  pm10   20.0   08   16      3  2023   \n",
       "1752 2016-03-13 16:00:00   mc124  pm10    NaN   16   13      3  2016   \n",
       "2650 2022-10-09 21:00:00   mc124  pm10   18.0   21    9     10  2022   \n",
       "850  2019-03-24 20:00:00   mc124  pm10   17.0   20   24      3  2019   \n",
       "\n",
       "      day_of_week  is_weekend  \n",
       "1870            3           0  \n",
       "1752            6           1  \n",
       "2650            6           1  \n",
       "850             6           1  "
      ]
     },
     "execution_count": 9,
     "metadata": {},
     "output_type": "execute_result"
    }
   ],
   "source": [
    "# reduce to pm10\n",
    "df_pm10 = df_daytime[(df_reduced['core'] == 'pm10')]\n",
    "df_pm10.sample(4)"
   ]
  },
  {
   "cell_type": "code",
   "execution_count": 10,
   "id": "33c5a96e-48d5-4b11-9b4e-213fad0db7ac",
   "metadata": {},
   "outputs": [
    {
     "name": "stdout",
     "output_type": "stream",
     "text": [
      "<class 'pandas.core.frame.DataFrame'>\n",
      "Index: 542555 entries, 0 to 3654\n",
      "Data columns (total 7 columns):\n",
      " #   Column       Non-Null Count   Dtype  \n",
      "---  ------       --------------   -----  \n",
      " 0   value        539422 non-null  float64\n",
      " 1   hour         542555 non-null  object \n",
      " 2   day          542555 non-null  int32  \n",
      " 3   month        542555 non-null  int32  \n",
      " 4   year         542555 non-null  int32  \n",
      " 5   day_of_week  542555 non-null  int64  \n",
      " 6   is_weekend   542555 non-null  int64  \n",
      "dtypes: float64(1), int32(3), int64(2), object(1)\n",
      "memory usage: 26.9+ MB\n"
     ]
    }
   ],
   "source": [
    "# drop unused columns for the heatmap\n",
    "df_filtered = df_reduced.drop(columns=['datetime','station', 'core'])\n",
    "df_filtered.info()"
   ]
  },
  {
   "cell_type": "code",
   "execution_count": 11,
   "id": "b70d88cd-a423-4f00-97b4-e0f360ca1030",
   "metadata": {},
   "outputs": [
    {
     "name": "stdout",
     "output_type": "stream",
     "text": [
      "Correlation Matrix:\n",
      "                value      hour       day         month      year  \\\n",
      "value        1.000000  0.117307  0.008403  1.680085e-02 -0.296598   \n",
      "hour         0.117307  1.000000  0.000167 -9.212083e-05 -0.000633   \n",
      "day          0.008403  0.000167  1.000000  1.056592e-02 -0.000235   \n",
      "month        0.016801 -0.000092  0.010566  1.000000e+00 -0.054923   \n",
      "year        -0.296598 -0.000633 -0.000235 -5.492330e-02  1.000000   \n",
      "day_of_week -0.129132  0.000280 -0.001857  1.362669e-03  0.000467   \n",
      "is_weekend  -0.157694  0.000302 -0.000058 -6.692703e-07  0.000427   \n",
      "\n",
      "             day_of_week    is_weekend  \n",
      "value          -0.129132 -1.576937e-01  \n",
      "hour            0.000280  3.016320e-04  \n",
      "day            -0.001857 -5.760527e-05  \n",
      "month           0.001363 -6.692703e-07  \n",
      "year            0.000467  4.265743e-04  \n",
      "day_of_week     1.000000  7.903836e-01  \n",
      "is_weekend      0.790384  1.000000e+00  \n"
     ]
    }
   ],
   "source": [
    "# getting rid of NaN values in the value column\n",
    "df_filtered = df_filtered.dropna(subset=['value'])\n",
    "\n",
    "# Convert object columns to numeric\n",
    "df_filtered['hour'] = pd.to_numeric(df_filtered['hour'])\n",
    "\n",
    "# Calculate the correlation matrix for the relevant columns\n",
    "correlation_matrix = df_filtered[['value', 'hour', 'day', 'month', 'year', 'day_of_week', 'is_weekend']].corr()\n",
    "\n",
    "print(\"Correlation Matrix:\")\n",
    "print(correlation_matrix)"
   ]
  },
  {
   "cell_type": "code",
   "execution_count": 14,
   "id": "b3b7d037-a4d0-4ca3-8a7f-2458335cf18e",
   "metadata": {},
   "outputs": [
    {
     "data": {
      "image/png": "[encoded data removed]",
      "text/plain": [
       "<Figure size 640x480 with 2 Axes>"
      ]
     },
     "metadata": {},
     "output_type": "display_data"
    }
   ],
   "source": [
    "# show heatmap with seaborn\n",
    "sns.heatmap(correlation_matrix, annot=True, cmap='coolwarm', fmt=\".2f\")\n",
    "plt.title(\"pm 10 - datetime | mc124\")\n",
    "plt.show()"
   ]
  },
  {
   "cell_type": "code",
   "execution_count": 13,
   "id": "09dbb321-d42d-4ea2-843d-103672a4dcb2",
   "metadata": {},
   "outputs": [],
   "source": [
    "# Box-plot average Wert pro Wochentag"
   ]
  }
 ],
 "metadata": {
  "kernelspec": {
   "display_name": "Python 3 (ipykernel)",
   "language": "python",
   "name": "python3"
  },
  "language_info": {
   "codemirror_mode": {
    "name": "ipython",
    "version": 3
   },
   "file_extension": ".py",
   "mimetype": "text/x-python",
   "name": "python",
   "nbconvert_exporter": "python",
   "pygments_lexer": "ipython3",
   "version": "3.11.8"
  }
 },
 "nbformat": 4,
 "nbformat_minor": 5
}
