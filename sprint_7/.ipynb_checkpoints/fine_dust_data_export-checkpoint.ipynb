{
 "cells": [
  {
   "cell_type": "code",
   "execution_count": 1,
   "id": "1e959a89-56d4-4729-bb7c-6fe551871d07",
   "metadata": {},
   "outputs": [],
   "source": [
    "# GET ALL THE JSONS INTO ONE DATAFRAME\n",
    "import pandas as pd\n",
    "import matplotlib.pyplot as plt\n",
    "import seaborn as sns\n",
    "import numpy as np\n",
    "import os\n",
    "import json\n",
    "import glob"
   ]
  },
  {
   "cell_type": "code",
   "execution_count": 2,
   "id": "bdb56b9b-de73-43f9-b695-de9e5c613484",
   "metadata": {},
   "outputs": [
    {
     "name": "stdout",
     "output_type": "stream",
     "text": [
      "Combined dataframe shape: (542555, 6)\n"
     ]
    }
   ],
   "source": [
    "# Set the search path for files (assuming the directory is relative to the current script)\n",
    "file_path_mc124 = os.path.join(\"mc124_data\", \"*.json\")\n",
    "files = glob.glob(file_path_mc124)\n",
    "\n",
    "# Create empty list to store dataframes\n",
    "li_all_files = []\n",
    "\n",
    "# Loop through list of files and read each one into a dataframe and append to list\n",
    "for f in files:\n",
    "    # Read in json\n",
    "    temp_df = pd.read_json(f)\n",
    "    # Append df to list\n",
    "    li_all_files.append(temp_df)\n",
    "\n",
    "# Optionally concatenate all dataframes into one if needed\n",
    "if li_all_files:\n",
    "    combined_df = pd.concat(li_all_files)\n",
    "    print(f'Combined dataframe shape: {combined_df.shape}')\n",
    "else:\n",
    "    print('No dataframes were created.')"
   ]
  },
  {
   "cell_type": "code",
   "execution_count": 3,
   "id": "9c0d714e-0824-473b-859f-6abf0093dc33",
   "metadata": {},
   "outputs": [
    {
     "name": "stdout",
     "output_type": "stream",
     "text": [
      "<class 'pandas.core.frame.DataFrame'>\n",
      "Index: 542555 entries, 0 to 3654\n",
      "Data columns (total 4 columns):\n",
      " #   Column    Non-Null Count   Dtype         \n",
      "---  ------    --------------   -----         \n",
      " 0   datetime  542555 non-null  datetime64[ns]\n",
      " 1   station   542555 non-null  object        \n",
      " 2   core      542555 non-null  object        \n",
      " 3   value     539422 non-null  float64       \n",
      "dtypes: datetime64[ns](1), float64(1), object(2)\n",
      "memory usage: 20.7+ MB\n"
     ]
    },
    {
     "name": "stderr",
     "output_type": "stream",
     "text": [
      "C:\\Users\\a_n_n\\AppData\\Local\\Temp\\ipykernel_4788\\2472174257.py:8: SettingWithCopyWarning: \n",
      "A value is trying to be set on a copy of a slice from a DataFrame.\n",
      "Try using .loc[row_indexer,col_indexer] = value instead\n",
      "\n",
      "See the caveats in the documentation: https://pandas.pydata.org/pandas-docs/stable/user_guide/indexing.html#returning-a-view-versus-a-copy\n",
      "  df_reduced['datetime'] = pd.to_datetime(df_reduced['datetime'], format='mixed')\n"
     ]
    }
   ],
   "source": [
    "# FILTER BY PARTICLE AND ONLY KEEP THE DATETIME, STATION, PERIOD AND VALUE FEATURE SINCE THE REST ARE CONSTANT INFORMATION (station, core, component, period)\n",
    "df_reduced = combined_df[['datetime', 'station', 'core', 'value']]\n",
    "df_reduced.sample(3)\n",
    "\n",
    "# CUT OFF THE TIMEZONE INFORMATION FROM THE DATETIME TO AVOID CONVERSION ISSUES DUE TO TIME CHANGE IN MARCH AND OCTOBER\n",
    "df_reduced.loc[:, 'datetime'] = df_reduced['datetime'].astype(str).str.slice(0, 19)\n",
    "#df_pm10_reduced.loc[:, 'datetime'] = pd.to_datetime(df_pm10_reduced['datetime'], format='mixed')\n",
    "df_reduced['datetime'] = pd.to_datetime(df_reduced['datetime'], format='mixed')\n",
    "df_reduced.loc[:, 'datetime'] = df_reduced['datetime'].dt.tz_localize(None)\n",
    "df_reduced.info()"
   ]
  },
  {
   "cell_type": "code",
   "execution_count": 4,
   "id": "21fd1227-e26c-45db-9da1-b9ee4cf3d686",
   "metadata": {},
   "outputs": [
    {
     "name": "stderr",
     "output_type": "stream",
     "text": [
      "C:\\Users\\a_n_n\\AppData\\Local\\Temp\\ipykernel_4788\\493841492.py:2: SettingWithCopyWarning: \n",
      "A value is trying to be set on a copy of a slice from a DataFrame.\n",
      "Try using .loc[row_indexer,col_indexer] = value instead\n",
      "\n",
      "See the caveats in the documentation: https://pandas.pydata.org/pandas-docs/stable/user_guide/indexing.html#returning-a-view-versus-a-copy\n",
      "  df_reduced['hour'] = df_reduced['datetime'].dt.strftime('%H')  # Hour (00-23)\n"
     ]
    },
    {
     "data": {
      "text/html": [
       "<div>\n",
       "<style scoped>\n",
       "    .dataframe tbody tr th:only-of-type {\n",
       "        vertical-align: middle;\n",
       "    }\n",
       "\n",
       "    .dataframe tbody tr th {\n",
       "        vertical-align: top;\n",
       "    }\n",
       "\n",
       "    .dataframe thead th {\n",
       "        text-align: right;\n",
       "    }\n",
       "</style>\n",
       "<table border=\"1\" class=\"dataframe\">\n",
       "  <thead>\n",
       "    <tr style=\"text-align: right;\">\n",
       "      <th></th>\n",
       "      <th>datetime</th>\n",
       "      <th>station</th>\n",
       "      <th>core</th>\n",
       "      <th>value</th>\n",
       "      <th>hour</th>\n",
       "      <th>day</th>\n",
       "      <th>month</th>\n",
       "      <th>year</th>\n",
       "    </tr>\n",
       "  </thead>\n",
       "  <tbody>\n",
       "    <tr>\n",
       "      <th>1845</th>\n",
       "      <td>2024-05-16 01:00:00</td>\n",
       "      <td>mc124</td>\n",
       "      <td>pm10</td>\n",
       "      <td>24.0</td>\n",
       "      <td>01</td>\n",
       "      <td>16</td>\n",
       "      <td>05</td>\n",
       "      <td>2024</td>\n",
       "    </tr>\n",
       "    <tr>\n",
       "      <th>1055</th>\n",
       "      <td>2013-09-16 08:00:00</td>\n",
       "      <td>mc124</td>\n",
       "      <td>nox</td>\n",
       "      <td>265.0</td>\n",
       "      <td>08</td>\n",
       "      <td>16</td>\n",
       "      <td>09</td>\n",
       "      <td>2013</td>\n",
       "    </tr>\n",
       "    <tr>\n",
       "      <th>1943</th>\n",
       "      <td>2019-09-14 19:00:00</td>\n",
       "      <td>mc124</td>\n",
       "      <td>no</td>\n",
       "      <td>43.0</td>\n",
       "      <td>19</td>\n",
       "      <td>14</td>\n",
       "      <td>09</td>\n",
       "      <td>2019</td>\n",
       "    </tr>\n",
       "  </tbody>\n",
       "</table>\n",
       "</div>"
      ],
      "text/plain": [
       "                datetime station  core  value hour day month  year\n",
       "1845 2024-05-16 01:00:00   mc124  pm10   24.0   01  16    05  2024\n",
       "1055 2013-09-16 08:00:00   mc124   nox  265.0   08  16    09  2013\n",
       "1943 2019-09-14 19:00:00   mc124    no   43.0   19  14    09  2019"
      ]
     },
     "execution_count": 4,
     "metadata": {},
     "output_type": "execute_result"
    }
   ],
   "source": [
    "#use loc to add it to every for every row\n",
    "df_reduced['hour'] = df_reduced['datetime'].dt.strftime('%H')  # Hour (00-23)\n",
    "df_reduced['day'] = df_reduced['datetime'].dt.strftime('%d')  # Day of the month (01-31)\n",
    "df_reduced['month'] = df_reduced['datetime'].dt.strftime('%m')  # Month (01-12)\n",
    "df_reduced['year'] = df_reduced['datetime'].dt.strftime('%Y')  # Month (01-12)\n",
    "df_reduced.sample(3)"
   ]
  },
  {
   "cell_type": "code",
   "execution_count": 5,
   "id": "e696beea-e582-435f-ae23-a036d58b435f",
   "metadata": {},
   "outputs": [
    {
     "name": "stdout",
     "output_type": "stream",
     "text": [
      "<class 'pandas.core.frame.DataFrame'>\n",
      "Index: 542555 entries, 0 to 3654\n",
      "Data columns (total 10 columns):\n",
      " #   Column       Non-Null Count   Dtype         \n",
      "---  ------       --------------   -----         \n",
      " 0   datetime     542555 non-null  datetime64[ns]\n",
      " 1   station      542555 non-null  object        \n",
      " 2   core         542555 non-null  object        \n",
      " 3   value        539422 non-null  float64       \n",
      " 4   hour         542555 non-null  int64         \n",
      " 5   day          542555 non-null  int32         \n",
      " 6   month        542555 non-null  int32         \n",
      " 7   year         542555 non-null  int32         \n",
      " 8   day_of_week  542555 non-null  int64         \n",
      " 9   is_weekend   542555 non-null  int64         \n",
      "dtypes: datetime64[ns](1), float64(1), int32(3), int64(3), object(2)\n",
      "memory usage: 39.3+ MB\n"
     ]
    }
   ],
   "source": [
    "# add day of the week to dataframe\n",
    "import calendar\n",
    "\n",
    "days = {\n",
    "    0: \"Monday\",\n",
    "    1: \"Tuesday\",\n",
    "    2: \"Wednesday\",\n",
    "    3: \"Thursday\",\n",
    "    4: \"Friday\",\n",
    "    5: \"Saturday\",\n",
    "    6: \"Sunday\",\n",
    "}\n",
    "\n",
    "df_daytime = df_reduced\n",
    "# convert the 'day', 'month', and 'year' columns to integers\n",
    "df_daytime['day'] = df_reduced['day'].astype(int)\n",
    "df_daytime['month'] = df_reduced['month'].astype(int)\n",
    "df_daytime['year'] = df_reduced['year'].astype(int)\n",
    "\n",
    "# function to determine the day of the week\n",
    "def get_day_of_week(row):\n",
    "    return calendar.weekday(row['year'], row['month'], row['day'])\n",
    "\n",
    "# function to determine if day is weekday or weekend \n",
    "def is_weekend(day_number):\n",
    "    return 1 if day_number >= 5 else 0\n",
    "    #day_number >= 5 ? 1 : 0\n",
    "    \n",
    "# apply the functions to create the new columns\n",
    "df_daytime['day_of_week'] = df_daytime.apply(get_day_of_week, axis=1)\n",
    "df_daytime['is_weekend'] = df_daytime['day_of_week'].apply(is_weekend)\n",
    "\n",
    "# Convert object columns to numeric\n",
    "df_daytime['hour'] = pd.to_numeric(df_daytime['hour'])\n",
    "df_daytime.info()"
   ]
  },
  {
   "cell_type": "code",
   "execution_count": 6,
   "id": "2c5db46b-3674-4a53-8957-0a30f493a9ae",
   "metadata": {},
   "outputs": [],
   "source": [
    "df_daytime.to_csv(\"fine_dust_complete.csv\", index=False)"
   ]
  },
  {
   "cell_type": "code",
   "execution_count": null,
   "id": "7193327b-3dfd-4b8c-a2e0-dc4d9369470e",
   "metadata": {},
   "outputs": [],
   "source": []
  }
 ],
 "metadata": {
  "kernelspec": {
   "display_name": "Python 3 (ipykernel)",
   "language": "python",
   "name": "python3"
  },
  "language_info": {
   "codemirror_mode": {
    "name": "ipython",
    "version": 3
   },
   "file_extension": ".py",
   "mimetype": "text/x-python",
   "name": "python",
   "nbconvert_exporter": "python",
   "pygments_lexer": "ipython3",
   "version": "3.11.8"
  }
 },
 "nbformat": 4,
 "nbformat_minor": 5
}
