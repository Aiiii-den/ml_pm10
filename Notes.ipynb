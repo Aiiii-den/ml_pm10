{
 "cells": [
  {
   "cell_type": "code",
   "execution_count": null,
   "id": "a1630485-e172-4b4c-a73f-9706302b8fae",
   "metadata": {},
   "outputs": [],
   "source": [
    "IMPORTED LIBS:\n",
    "pandas\n",
    "matplotlib\n",
    "seaborn\n",
    "sklearn\n",
    "numpy\n"
   ]
  },
  {
   "cell_type": "raw",
   "id": "a3656668-ab41-4c92-b7f7-ec1865e17d2f",
   "metadata": {},
   "source": [
    "Time Series Prediction \n",
    "--> train-test split anders, da man nicht Daten der Vergangenheit vorhersagt\n",
    "\n",
    "streamlit app am Ende programmieren\n"
   ]
  },
  {
   "cell_type": "markdown",
   "id": "11c05089-0f6c-44ca-8ec0-6748371eddbe",
   "metadata": {},
   "source": [
    "value_counts(): Zählt wie oft die Werte vorkommen für den Wert idmax(): Gibt den Index mit dem höchsten Wert max(): Gibt den Wert mit dem maximalen Wert zurück\n",
    "\n",
    "Pandas Series: Liste von Index"
   ]
  },
  {
   "cell_type": "raw",
   "id": "694e4baf-a77f-484e-8707-1b934d21065d",
   "metadata": {},
   "source": [
    "df[condition] -> Beschränkung auf Zeile   \n",
    "df[Zeile][Spalte] -> 1. Kondition mit & / || 2. Kondition mit [['S1', 'S2']]   \n",
    "condition : kann alles sein   \n",
    "df_filtered = df[condition] -> geht jede Zeile durch und weißt die true Bedingungen dem neuen Dataframe df_filtered zu"
   ]
  },
  {
   "cell_type": "raw",
   "id": "218054e4-073c-4a5b-8645-0f9b3522f169",
   "metadata": {},
   "source": [
    "Python funktionales Programmieren\n",
    "\n",
    "    map: wie Iteration durch Rows (siehe unten) --> nebenläufig abgearbeitet; bekommt als Parameter eine Funktion und wendet diese auf jeden Eintrag von df ein\n",
    "    apply: mehrere Spalten anstatt eine Spalte (Funktion mit mehreren Input-Parameter)\n",
    "    for i, row in df.iterrows(): v = function_xyz(row['Adresse']) rpw['plz'] = v --> nacheinander abgearbeitet\n"
   ]
  },
  {
   "cell_type": "raw",
   "id": "7ed3932f-2a15-4a5e-b968-f27c6b3cd1bb",
   "metadata": {},
   "source": [
    "Skalierung der Daten mit minMax Scaler\n",
    "--> jedes Feature ist gleich wichtig"
   ]
  },
  {
   "cell_type": "raw",
   "id": "1e957e0b-b3c7-4314-9d6e-81d754ab49e8",
   "metadata": {},
   "source": [
    "TODO:\n",
    "Tage in einem Diagramm anzeigen und den besten Partikel raussuchen\n",
    "(seaborn + matplotlib)"
   ]
  },
  {
   "cell_type": "code",
   "execution_count": null,
   "id": "22177fbb-88fa-4639-a9bc-b8a32ac9b884",
   "metadata": {},
   "outputs": [],
   "source": [
    "Pandas Explorationsreport - siehe Moodle"
   ]
  },
  {
   "cell_type": "markdown",
   "id": "07207a43-03e1-4759-a6af-bfb7ce89186e",
   "metadata": {},
   "source": [
    "Mean Squared Error: mittlerer (Durchschnitt) Error über der Testdatenmenge ((f0 - y0)^2 + (f1-y1)^2 + ....) * 1/n\n",
    "\n",
    "Squared Error: für genau eine Vorhersage in der Testdatenmenge\n",
    "\n",
    "\n",
    "Alternative: Mean Absolute Error --> ohne quadrieren"
   ]
  },
  {
   "cell_type": "markdown",
   "id": "0295e7bc-74ff-4004-9bf0-8d83c94ab7a7",
   "metadata": {},
   "source": [
    "Modell kann nur auf \"Datentyp\" angewendet werden mit dem es trainiert wird -> numpy or dataframe"
   ]
  }
 ],
 "metadata": {
  "kernelspec": {
   "display_name": "Python 3 (ipykernel)",
   "language": "python",
   "name": "python3"
  },
  "language_info": {
   "codemirror_mode": {
    "name": "ipython",
    "version": 3
   },
   "file_extension": ".py",
   "mimetype": "text/x-python",
   "name": "python",
   "nbconvert_exporter": "python",
   "pygments_lexer": "ipython3",
   "version": "3.11.8"
  }
 },
 "nbformat": 4,
 "nbformat_minor": 5
}
