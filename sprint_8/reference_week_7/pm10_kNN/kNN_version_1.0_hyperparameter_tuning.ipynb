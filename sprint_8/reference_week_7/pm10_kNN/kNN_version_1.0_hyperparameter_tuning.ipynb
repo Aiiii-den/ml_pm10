{
 "cells": [
  {
   "cell_type": "markdown",
   "id": "9227138e-64fb-4fa5-bc78-8985aec5af5c",
   "metadata": {},
   "source": [
    "## k-Nearest-Neighbors V1.0\n",
    "- all datetime feature\n",
    "- random cross validation\n",
    "- hyperparameter tuning\n",
    "\n",
    "**Hyperparameter:**\n",
    "- neighbors\n",
    "- weights\n",
    "- leaf-size"
   ]
  },
  {
   "cell_type": "markdown",
   "id": "ae97fb97-348b-46e9-af27-00485e038324",
   "metadata": {},
   "source": [
    "##### Vorteile\n",
    "* einfach zu verstehen und zu implementieren\n",
    "* quasi keine Trainingszeit, eignet sich somit gut als Einstiegsalgorithmus für neue Daten\n",
    "* Funktioniert genauso für Probleme mit mehr als 2 Klassen\n",
    "* Macht keine Annhame über die statistischen Eigenschaften der Daten und performt deshalb teilweise besser in Situation mit \"sehr ungewöhnlichen\" Daten\n",
    "\n",
    "##### Nachteile\n",
    "* Rechenintensive Testphase, deshalb nicht gut für produktiven Einsatz geeignet\n",
    "* Es kann zu Problemen führen, falls eine Klasse deutlich stärker vertreten ist (diese Klasse dominiert dann das *majority voting*)\n",
    "* Daten mit vielen Input-Variablen sind nicht gut für $k$-NN geeignet, da, grob-gesagt, in einem Vektorraum von hoher Dimension der Abstand zwischen dem nächsten und dem entferntesten Nachbarn nicht allzu groß ist."
   ]
  },
  {
   "cell_type": "markdown",
   "id": "8c88f4eb-b56f-4033-9f08-43cfc488ae99",
   "metadata": {},
   "source": [
    "#### **_PREPARATION_**"
   ]
  },
  {
   "cell_type": "code",
   "execution_count": 1,
   "id": "dec8f4db-5c81-4b88-8c1c-f8dccff35c54",
   "metadata": {},
   "outputs": [],
   "source": [
    "# GET ALL THE JSONS INTO ONE DATAFRAME\n",
    "import pandas as pd\n",
    "import matplotlib.pyplot as plt\n",
    "import seaborn as sns\n",
    "import numpy as np\n",
    "import os\n",
    "import json\n",
    "import glob"
   ]
  },
  {
   "cell_type": "code",
   "execution_count": 2,
   "id": "00977ebe-e1e9-4f4a-86fa-836d63e211a0",
   "metadata": {},
   "outputs": [
    {
     "name": "stdout",
     "output_type": "stream",
     "text": [
      "<class 'pandas.core.frame.DataFrame'>\n",
      "Index: 539422 entries, 0 to 542554\n",
      "Data columns (total 10 columns):\n",
      " #   Column       Non-Null Count   Dtype  \n",
      "---  ------       --------------   -----  \n",
      " 0   datetime     539422 non-null  object \n",
      " 1   station      539422 non-null  object \n",
      " 2   core         539422 non-null  object \n",
      " 3   value        539422 non-null  float64\n",
      " 4   hour         539422 non-null  int64  \n",
      " 5   day          539422 non-null  int64  \n",
      " 6   month        539422 non-null  int64  \n",
      " 7   year         539422 non-null  int64  \n",
      " 8   day_of_week  539422 non-null  int64  \n",
      " 9   is_weekend   539422 non-null  int64  \n",
      "dtypes: float64(1), int64(6), object(3)\n",
      "memory usage: 45.3+ MB\n"
     ]
    }
   ],
   "source": [
    "# Set the search path for files (assuming the directory is relative to the current script)\n",
    "file_path_mc124 = os.path.join(\"..\", \"fine_dust_complete\", \".csv\")\n",
    "df = pd.read_csv('./../fine_dust_complete.csv')\n",
    "\n",
    "df.dropna(inplace=True)\n",
    "df.info()"
   ]
  },
  {
   "cell_type": "code",
   "execution_count": 3,
   "id": "057f71f7-a71e-42c9-805d-939faed8cebf",
   "metadata": {},
   "outputs": [
    {
     "data": {
      "text/html": [
       "<div>\n",
       "<style scoped>\n",
       "    .dataframe tbody tr th:only-of-type {\n",
       "        vertical-align: middle;\n",
       "    }\n",
       "\n",
       "    .dataframe tbody tr th {\n",
       "        vertical-align: top;\n",
       "    }\n",
       "\n",
       "    .dataframe thead th {\n",
       "        text-align: right;\n",
       "    }\n",
       "</style>\n",
       "<table border=\"1\" class=\"dataframe\">\n",
       "  <thead>\n",
       "    <tr style=\"text-align: right;\">\n",
       "      <th></th>\n",
       "      <th>datetime</th>\n",
       "      <th>station</th>\n",
       "      <th>core</th>\n",
       "      <th>value</th>\n",
       "      <th>hour</th>\n",
       "      <th>day</th>\n",
       "      <th>month</th>\n",
       "      <th>year</th>\n",
       "      <th>day_of_week</th>\n",
       "      <th>is_weekend</th>\n",
       "    </tr>\n",
       "  </thead>\n",
       "  <tbody>\n",
       "    <tr>\n",
       "      <th>188328</th>\n",
       "      <td>2016-03-31 23:00:00</td>\n",
       "      <td>mc124</td>\n",
       "      <td>pm10</td>\n",
       "      <td>16.0</td>\n",
       "      <td>23</td>\n",
       "      <td>31</td>\n",
       "      <td>3</td>\n",
       "      <td>2016</td>\n",
       "      <td>3</td>\n",
       "      <td>0</td>\n",
       "    </tr>\n",
       "    <tr>\n",
       "      <th>188332</th>\n",
       "      <td>2016-03-31 22:00:00</td>\n",
       "      <td>mc124</td>\n",
       "      <td>pm10</td>\n",
       "      <td>22.0</td>\n",
       "      <td>22</td>\n",
       "      <td>31</td>\n",
       "      <td>3</td>\n",
       "      <td>2016</td>\n",
       "      <td>3</td>\n",
       "      <td>0</td>\n",
       "    </tr>\n",
       "    <tr>\n",
       "      <th>188336</th>\n",
       "      <td>2016-03-31 21:00:00</td>\n",
       "      <td>mc124</td>\n",
       "      <td>pm10</td>\n",
       "      <td>22.0</td>\n",
       "      <td>21</td>\n",
       "      <td>31</td>\n",
       "      <td>3</td>\n",
       "      <td>2016</td>\n",
       "      <td>3</td>\n",
       "      <td>0</td>\n",
       "    </tr>\n",
       "    <tr>\n",
       "      <th>188340</th>\n",
       "      <td>2016-03-31 20:00:00</td>\n",
       "      <td>mc124</td>\n",
       "      <td>pm10</td>\n",
       "      <td>24.0</td>\n",
       "      <td>20</td>\n",
       "      <td>31</td>\n",
       "      <td>3</td>\n",
       "      <td>2016</td>\n",
       "      <td>3</td>\n",
       "      <td>0</td>\n",
       "    </tr>\n",
       "    <tr>\n",
       "      <th>188344</th>\n",
       "      <td>2016-03-31 19:00:00</td>\n",
       "      <td>mc124</td>\n",
       "      <td>pm10</td>\n",
       "      <td>21.0</td>\n",
       "      <td>19</td>\n",
       "      <td>31</td>\n",
       "      <td>3</td>\n",
       "      <td>2016</td>\n",
       "      <td>3</td>\n",
       "      <td>0</td>\n",
       "    </tr>\n",
       "  </tbody>\n",
       "</table>\n",
       "</div>"
      ],
      "text/plain": [
       "                   datetime station  core  value  hour  day  month  year  \\\n",
       "188328  2016-03-31 23:00:00   mc124  pm10   16.0    23   31      3  2016   \n",
       "188332  2016-03-31 22:00:00   mc124  pm10   22.0    22   31      3  2016   \n",
       "188336  2016-03-31 21:00:00   mc124  pm10   22.0    21   31      3  2016   \n",
       "188340  2016-03-31 20:00:00   mc124  pm10   24.0    20   31      3  2016   \n",
       "188344  2016-03-31 19:00:00   mc124  pm10   21.0    19   31      3  2016   \n",
       "\n",
       "        day_of_week  is_weekend  \n",
       "188328            3           0  \n",
       "188332            3           0  \n",
       "188336            3           0  \n",
       "188340            3           0  \n",
       "188344            3           0  "
      ]
     },
     "execution_count": 3,
     "metadata": {},
     "output_type": "execute_result"
    }
   ],
   "source": [
    "df_pm10 = df[(df['core'] == 'pm10')]\n",
    "df_pm10.head()"
   ]
  },
  {
   "cell_type": "markdown",
   "id": "5cf48370-f694-414b-98fe-41e2c0d01169",
   "metadata": {},
   "source": [
    "#### **_ACTUAL MODEL TRAINING_**\n"
   ]
  },
  {
   "cell_type": "markdown",
   "id": "d4d582f3-651d-423a-b174-2126abc9e9a1",
   "metadata": {},
   "source": [
    "#### Part 1: create random forest ensemble on everything"
   ]
  },
  {
   "cell_type": "code",
   "execution_count": 4,
   "id": "c3ada179-3fc4-4383-bcc9-aee1c9abaae2",
   "metadata": {},
   "outputs": [],
   "source": [
    "# create features and to be predicted value\n",
    "y = df_pm10['value']\n",
    "X = df_pm10[['hour', 'day', 'month', 'year', 'day_of_week', 'is_weekend']]"
   ]
  },
  {
   "cell_type": "code",
   "execution_count": 5,
   "id": "39a4cb64-ec4b-435e-aea5-b47a0431e783",
   "metadata": {},
   "outputs": [],
   "source": [
    "from sklearn.neighbors import KNeighborsRegressor\n",
    "from sklearn.model_selection import train_test_split\n",
    "from sklearn import tree"
   ]
  },
  {
   "cell_type": "code",
   "execution_count": 6,
   "id": "af6cf8df-7197-4513-8966-8e2968269bb6",
   "metadata": {},
   "outputs": [
    {
     "data": {
      "text/plain": [
       "1.0"
      ]
     },
     "execution_count": 6,
     "metadata": {},
     "output_type": "execute_result"
    }
   ],
   "source": [
    "knn = KNeighborsRegressor(n_neighbors=1)\n",
    "X_train, X_test, y_train, y_test = train_test_split(X, y, test_size=0.2, \n",
    "                                                    random_state=1)\n",
    "knn.fit(X_train, y_train)\n",
    "knn.score(X_train, y_train)"
   ]
  },
  {
   "cell_type": "code",
   "execution_count": 7,
   "id": "d7d760ce-5a96-49b1-8351-d9792ba05c45",
   "metadata": {},
   "outputs": [
    {
     "data": {
      "text/plain": [
       "0.4915652696313443"
      ]
     },
     "execution_count": 7,
     "metadata": {},
     "output_type": "execute_result"
    }
   ],
   "source": [
    "knn.score(X_test, y_test)"
   ]
  },
  {
   "cell_type": "code",
   "execution_count": 8,
   "id": "451ed659-631f-4162-8112-8d786ab74f5b",
   "metadata": {},
   "outputs": [
    {
     "data": {
      "text/plain": [
       "0.19581650439342857"
      ]
     },
     "execution_count": 8,
     "metadata": {},
     "output_type": "execute_result"
    }
   ],
   "source": [
    "knn =  KNeighborsRegressor(n_neighbors=100)\n",
    "X_train, X_test, y_train, y_test = train_test_split(X, y, test_size=0.2, \n",
    "                                                    random_state=1)\n",
    "knn.fit(X_train, y_train)\n",
    "knn.score(X_train, y_train)"
   ]
  },
  {
   "cell_type": "code",
   "execution_count": 9,
   "id": "0b2019f8-05d0-41ca-899f-40bd7d9a01d4",
   "metadata": {},
   "outputs": [
    {
     "data": {
      "text/plain": [
       "0.12917593705840746"
      ]
     },
     "execution_count": 9,
     "metadata": {},
     "output_type": "execute_result"
    }
   ],
   "source": [
    "knn.score(X_test, y_test)\n",
    "# R2 score: vergleichen Modellvorhersagen mit der Abweichung vom Mittelwert, im Vergleich mit absoluten banalsten Mittelwert vorhersage\n",
    "# d.h. Vergleicht die Vorhersage des Modells vs einfach den absoluten Mittelwert für die X vorherzusagen\n",
    "# je höher desto besser"
   ]
  },
  {
   "cell_type": "code",
   "execution_count": 10,
   "id": "4252c584-293b-4b75-80ff-cd6cb4cc392e",
   "metadata": {},
   "outputs": [],
   "source": [
    "#rf.estimator.tree_.max_depth"
   ]
  },
  {
   "cell_type": "code",
   "execution_count": 11,
   "id": "6486daa1-73e2-4ecb-9f89-6447ee05d764",
   "metadata": {},
   "outputs": [
    {
     "data": {
      "image/png": "[encoded data removed]",
      "text/plain": [
       "<Figure size 1200x600 with 1 Axes>"
      ]
     },
     "metadata": {},
     "output_type": "display_data"
    }
   ],
   "source": [
    "# k result visualisation\n",
    "fig, ax = plt.subplots(1, 1, figsize=(12,6))\n",
    "training_accuracy = []\n",
    "test_accuracy = []\n",
    "neighbors_settings = range(1, 60, 2)\n",
    "for n_neighbors in neighbors_settings:\n",
    "# build the model\n",
    "    clf = KNeighborsRegressor(n_neighbors=n_neighbors)\n",
    "    clf.fit(X_train, y_train)# record training set accuracy\n",
    "    training_accuracy.append(clf.score(X_train, y_train)) # record generalization accuracy\n",
    "    test_accuracy.append(clf.score(X_test, y_test))\n",
    "plt.plot(neighbors_settings, training_accuracy, label=\"r2 training accuracy\", \n",
    "         linestyle=':', marker='o')\n",
    "plt.plot(neighbors_settings, test_accuracy, label=\"r2 test accuracy\", \n",
    "         linestyle=':', marker='o')\n",
    "plt.ylabel(\"accuracy\", fontsize=16)\n",
    "plt.xlabel(\"$k$\", fontsize=16)\n",
    "plt.legend(fontsize=16)\n",
    "plt.savefig('train_test_accuracy_kNN.png', bbox_inches='tight', facecolor=\"w\", dpi=300);"
   ]
  },
  {
   "cell_type": "markdown",
   "id": "6ee419cd-534f-4d2d-8fee-7c0493593a25",
   "metadata": {},
   "source": [
    "#### CROSS-VALIDATION & HYPERPARAMETER TUNING"
   ]
  },
  {
   "cell_type": "code",
   "execution_count": 12,
   "id": "5c8da479-f205-4f3f-8cfe-4b9372c3fc35",
   "metadata": {},
   "outputs": [
    {
     "name": "stdout",
     "output_type": "stream",
     "text": [
      "Cross-validation scores:\n",
      "fit_time: -0.12 (+/- 0.02)\n",
      "score_time: -0.34 (+/- 0.10)\n",
      "test_mean_absolute_error: 9.70 (+/- 0.54)\n",
      "train_mean_absolute_error: 5.91 (+/- 0.15)\n",
      "test_median_absolute_error: 7.23 (+/- 0.47)\n",
      "train_median_absolute_error: 4.28 (+/- 0.12)\n",
      "test_root_mean_squared_error: 14.23 (+/- 1.10)\n",
      "train_root_mean_squared_error: 9.32 (+/- 0.20)\n",
      "test_mean_squared_error: 203.62 (+/- 31.28)\n",
      "train_mean_squared_error: 86.84 (+/- 3.79)\n"
     ]
    }
   ],
   "source": [
    "# cross validate\n",
    "from sklearn.model_selection import train_test_split, cross_val_score, cross_validate\n",
    "from sklearn.metrics import make_scorer\n",
    "from sklearn.metrics import mean_absolute_error, mean_squared_error, median_absolute_error, root_mean_squared_error\n",
    "\n",
    "# Create a kNN regressor\n",
    "knn = KNeighborsRegressor(n_neighbors=10)\n",
    "\n",
    "# Define your scoring functions\n",
    "scorers = {\n",
    "    'mean_absolute_error': make_scorer(mean_absolute_error, greater_is_better=False),\n",
    "    'median_absolute_error': make_scorer(median_absolute_error, greater_is_better=False),\n",
    "    'root_mean_squared_error': make_scorer(root_mean_squared_error, greater_is_better=False),\n",
    "    'mean_squared_error': make_scorer(mean_squared_error, greater_is_better=False)\n",
    "}\n",
    "# Perform cross-validation\n",
    "# scores = cross_validate(decision_tree, X, y, cv=2, scoring=scorers, return_train_score=True)\n",
    "scores = cross_validate(knn, X, y, cv=5, scoring=scorers, return_train_score=True)\n",
    "\n",
    "# Print the results\n",
    "print(\"Cross-validation scores:\")\n",
    "for scorer, score in scores.items():\n",
    "    print(f\"{scorer}: {-1*np.mean(score):.2f} (+/- {np.std(score):.2f})\")"
   ]
  },
  {
   "cell_type": "markdown",
   "id": "0ed72dad-edd2-41f1-b874-f0a5c630fdee",
   "metadata": {},
   "source": [
    "- overfitting: perfoms decently on train data but nearly twice as worse on test data"
   ]
  },
  {
   "cell_type": "code",
   "execution_count": 13,
   "id": "fca5292d-86c3-45bd-9c16-31710718b361",
   "metadata": {},
   "outputs": [
    {
     "name": "stdout",
     "output_type": "stream",
     "text": [
      "Average PM10 value: 22.70\n"
     ]
    }
   ],
   "source": [
    "# average pm10 value for comparison to the error rates\n",
    "average_pm10 = df_pm10['value'].mean()\n",
    "print(f\"Average PM10 value: {average_pm10:.2f}\")"
   ]
  },
  {
   "cell_type": "code",
   "execution_count": 14,
   "id": "d9940fd0-babe-4bf3-bb31-2abdc8270b60",
   "metadata": {},
   "outputs": [
    {
     "name": "stdout",
     "output_type": "stream",
     "text": [
      "Median PM10 value: 20.00\n"
     ]
    }
   ],
   "source": [
    "median_pm10= df_pm10['value'].median()\n",
    "print(f\"Median PM10 value: {median_pm10:.2f}\")"
   ]
  },
  {
   "cell_type": "code",
   "execution_count": 15,
   "id": "685e7786-4b45-4c79-9969-5af87668474d",
   "metadata": {},
   "outputs": [
    {
     "name": "stdout",
     "output_type": "stream",
     "text": [
      "Cross-validation scores:\n",
      "fit_time: -0.08 (+/- 0.01)\n",
      "score_time: -0.28 (+/- 0.05)\n",
      "test_mean_absolute_error: 9.35 (+/- 0.52)\n",
      "train_mean_absolute_error: 6.44 (+/- 0.15)\n",
      "test_median_absolute_error: 7.04 (+/- 0.37)\n",
      "train_median_absolute_error: 4.72 (+/- 0.14)\n",
      "test_root_mean_squared_error: 13.77 (+/- 1.13)\n",
      "train_root_mean_squared_error: 10.06 (+/- 0.23)\n",
      "test_mean_squared_error: 190.77 (+/- 31.30)\n",
      "train_mean_squared_error: 101.16 (+/- 4.52)\n"
     ]
    }
   ],
   "source": [
    "#----------------------------------------------------\n",
    "from sklearn.neighbors import KNeighborsRegressor\n",
    "from sklearn.model_selection import GridSearchCV, cross_validate\n",
    "from sklearn.metrics import make_scorer, mean_absolute_error, median_absolute_error, mean_squared_error\n",
    "from sklearn.datasets import make_regression\n",
    "import numpy as np\n",
    "\n",
    "# TODO: change these\n",
    "# Valid parameters are: ['algorithm', 'leaf_size', 'metric', 'metric_params', 'n_jobs', 'n_neighbors', 'p', 'weights'].\n",
    "param_grid = {\n",
    "    'n_neighbors': range(5, 20, 5),\n",
    "    'weights': [\"uniform\", \"distance\"],\n",
    "   # 'algorithm': [\"ball_tree\", \"kd_tree\", \"brute\", \"auto\"],\n",
    "    'leaf_size': [5, 10, 15, 20, 25, 30, 40, 50]\n",
    "}\n",
    "\n",
    "# Define your scoring functions\n",
    "scorers = {\n",
    "    'mean_absolute_error': make_scorer(mean_absolute_error, greater_is_better=False),\n",
    "    'median_absolute_error': make_scorer(median_absolute_error, greater_is_better=False),\n",
    "    'root_mean_squared_error': make_scorer(root_mean_squared_error, greater_is_better=False),\n",
    "    'mean_squared_error': make_scorer(mean_squared_error, greater_is_better=False)\n",
    "}\n",
    "\n",
    "# Initialize the RandomForestRegressor\n",
    "regressor = KNeighborsRegressor()\n",
    "\n",
    "# Initialize GridSearchCV with the regressor and the parameter grid\n",
    "grid_search = GridSearchCV(estimator=regressor, param_grid=param_grid, cv=5, scoring='neg_median_absolute_error')\n",
    "\n",
    "# Fit GridSearchCV to the data\n",
    "grid_search.fit(X, y)\n",
    "\n",
    "# Get the best estimator from the grid search\n",
    "best_regressor = grid_search.best_estimator_\n",
    "\n",
    "# Perform cross-validation with the best estimator and the scoring functions\n",
    "scores = cross_validate(best_regressor, X, y, cv=5, scoring=scorers, return_train_score=True)\n",
    "\n",
    "print(\"Cross-validation scores:\")\n",
    "for scorer, score in scores.items():\n",
    "    print(f\"{scorer}: {-1*np.mean(score):.2f} (+/- {np.std(score):.2f})\")"
   ]
  },
  {
   "cell_type": "markdown",
   "id": "c5a17ec1-c786-4148-a1be-f396ddea53e0",
   "metadata": {},
   "source": []
  },
  {
   "cell_type": "code",
   "execution_count": 16,
   "id": "1cdc6351-bbd4-4857-93a5-b8356073b6d0",
   "metadata": {},
   "outputs": [
    {
     "data": {
      "text/html": [
       "<style>#sk-container-id-1 {\n",
       "  /* Definition of color scheme common for light and dark mode */\n",
       "  --sklearn-color-text: black;\n",
       "  --sklearn-color-line: gray;\n",
       "  /* Definition of color scheme for unfitted estimators */\n",
       "  --sklearn-color-unfitted-level-0: #fff5e6;\n",
       "  --sklearn-color-unfitted-level-1: #f6e4d2;\n",
       "  --sklearn-color-unfitted-level-2: #ffe0b3;\n",
       "  --sklearn-color-unfitted-level-3: chocolate;\n",
       "  /* Definition of color scheme for fitted estimators */\n",
       "  --sklearn-color-fitted-level-0: #f0f8ff;\n",
       "  --sklearn-color-fitted-level-1: #d4ebff;\n",
       "  --sklearn-color-fitted-level-2: #b3dbfd;\n",
       "  --sklearn-color-fitted-level-3: cornflowerblue;\n",
       "\n",
       "  /* Specific color for light theme */\n",
       "  --sklearn-color-text-on-default-background: var(--sg-text-color, var(--theme-code-foreground, var(--jp-content-font-color1, black)));\n",
       "  --sklearn-color-background: var(--sg-background-color, var(--theme-background, var(--jp-layout-color0, white)));\n",
       "  --sklearn-color-border-box: var(--sg-text-color, var(--theme-code-foreground, var(--jp-content-font-color1, black)));\n",
       "  --sklearn-color-icon: #696969;\n",
       "\n",
       "  @media (prefers-color-scheme: dark) {\n",
       "    /* Redefinition of color scheme for dark theme */\n",
       "    --sklearn-color-text-on-default-background: var(--sg-text-color, var(--theme-code-foreground, var(--jp-content-font-color1, white)));\n",
       "    --sklearn-color-background: var(--sg-background-color, var(--theme-background, var(--jp-layout-color0, #111)));\n",
       "    --sklearn-color-border-box: var(--sg-text-color, var(--theme-code-foreground, var(--jp-content-font-color1, white)));\n",
       "    --sklearn-color-icon: #878787;\n",
       "  }\n",
       "}\n",
       "\n",
       "#sk-container-id-1 {\n",
       "  color: var(--sklearn-color-text);\n",
       "}\n",
       "\n",
       "#sk-container-id-1 pre {\n",
       "  padding: 0;\n",
       "}\n",
       "\n",
       "#sk-container-id-1 input.sk-hidden--visually {\n",
       "  border: 0;\n",
       "  clip: rect(1px 1px 1px 1px);\n",
       "  clip: rect(1px, 1px, 1px, 1px);\n",
       "  height: 1px;\n",
       "  margin: -1px;\n",
       "  overflow: hidden;\n",
       "  padding: 0;\n",
       "  position: absolute;\n",
       "  width: 1px;\n",
       "}\n",
       "\n",
       "#sk-container-id-1 div.sk-dashed-wrapped {\n",
       "  border: 1px dashed var(--sklearn-color-line);\n",
       "  margin: 0 0.4em 0.5em 0.4em;\n",
       "  box-sizing: border-box;\n",
       "  padding-bottom: 0.4em;\n",
       "  background-color: var(--sklearn-color-background);\n",
       "}\n",
       "\n",
       "#sk-container-id-1 div.sk-container {\n",
       "  /* jupyter's `normalize.less` sets `[hidden] { display: none; }`\n",
       "     but bootstrap.min.css set `[hidden] { display: none !important; }`\n",
       "     so we also need the `!important` here to be able to override the\n",
       "     default hidden behavior on the sphinx rendered scikit-learn.org.\n",
       "     See: https://github.com/scikit-learn/scikit-learn/issues/21755 */\n",
       "  display: inline-block !important;\n",
       "  position: relative;\n",
       "}\n",
       "\n",
       "#sk-container-id-1 div.sk-text-repr-fallback {\n",
       "  display: none;\n",
       "}\n",
       "\n",
       "div.sk-parallel-item,\n",
       "div.sk-serial,\n",
       "div.sk-item {\n",
       "  /* draw centered vertical line to link estimators */\n",
       "  background-image: linear-gradient(var(--sklearn-color-text-on-default-background), var(--sklearn-color-text-on-default-background));\n",
       "  background-size: 2px 100%;\n",
       "  background-repeat: no-repeat;\n",
       "  background-position: center center;\n",
       "}\n",
       "\n",
       "/* Parallel-specific style estimator block */\n",
       "\n",
       "#sk-container-id-1 div.sk-parallel-item::after {\n",
       "  content: \"\";\n",
       "  width: 100%;\n",
       "  border-bottom: 2px solid var(--sklearn-color-text-on-default-background);\n",
       "  flex-grow: 1;\n",
       "}\n",
       "\n",
       "#sk-container-id-1 div.sk-parallel {\n",
       "  display: flex;\n",
       "  align-items: stretch;\n",
       "  justify-content: center;\n",
       "  background-color: var(--sklearn-color-background);\n",
       "  position: relative;\n",
       "}\n",
       "\n",
       "#sk-container-id-1 div.sk-parallel-item {\n",
       "  display: flex;\n",
       "  flex-direction: column;\n",
       "}\n",
       "\n",
       "#sk-container-id-1 div.sk-parallel-item:first-child::after {\n",
       "  align-self: flex-end;\n",
       "  width: 50%;\n",
       "}\n",
       "\n",
       "#sk-container-id-1 div.sk-parallel-item:last-child::after {\n",
       "  align-self: flex-start;\n",
       "  width: 50%;\n",
       "}\n",
       "\n",
       "#sk-container-id-1 div.sk-parallel-item:only-child::after {\n",
       "  width: 0;\n",
       "}\n",
       "\n",
       "/* Serial-specific style estimator block */\n",
       "\n",
       "#sk-container-id-1 div.sk-serial {\n",
       "  display: flex;\n",
       "  flex-direction: column;\n",
       "  align-items: center;\n",
       "  background-color: var(--sklearn-color-background);\n",
       "  padding-right: 1em;\n",
       "  padding-left: 1em;\n",
       "}\n",
       "\n",
       "\n",
       "/* Toggleable style: style used for estimator/Pipeline/ColumnTransformer box that is\n",
       "clickable and can be expanded/collapsed.\n",
       "- Pipeline and ColumnTransformer use this feature and define the default style\n",
       "- Estimators will overwrite some part of the style using the `sk-estimator` class\n",
       "*/\n",
       "\n",
       "/* Pipeline and ColumnTransformer style (default) */\n",
       "\n",
       "#sk-container-id-1 div.sk-toggleable {\n",
       "  /* Default theme specific background. It is overwritten whether we have a\n",
       "  specific estimator or a Pipeline/ColumnTransformer */\n",
       "  background-color: var(--sklearn-color-background);\n",
       "}\n",
       "\n",
       "/* Toggleable label */\n",
       "#sk-container-id-1 label.sk-toggleable__label {\n",
       "  cursor: pointer;\n",
       "  display: block;\n",
       "  width: 100%;\n",
       "  margin-bottom: 0;\n",
       "  padding: 0.5em;\n",
       "  box-sizing: border-box;\n",
       "  text-align: center;\n",
       "}\n",
       "\n",
       "#sk-container-id-1 label.sk-toggleable__label-arrow:before {\n",
       "  /* Arrow on the left of the label */\n",
       "  content: \"▸\";\n",
       "  float: left;\n",
       "  margin-right: 0.25em;\n",
       "  color: var(--sklearn-color-icon);\n",
       "}\n",
       "\n",
       "#sk-container-id-1 label.sk-toggleable__label-arrow:hover:before {\n",
       "  color: var(--sklearn-color-text);\n",
       "}\n",
       "\n",
       "/* Toggleable content - dropdown */\n",
       "\n",
       "#sk-container-id-1 div.sk-toggleable__content {\n",
       "  max-height: 0;\n",
       "  max-width: 0;\n",
       "  overflow: hidden;\n",
       "  text-align: left;\n",
       "  /* unfitted */\n",
       "  background-color: var(--sklearn-color-unfitted-level-0);\n",
       "}\n",
       "\n",
       "#sk-container-id-1 div.sk-toggleable__content.fitted {\n",
       "  /* fitted */\n",
       "  background-color: var(--sklearn-color-fitted-level-0);\n",
       "}\n",
       "\n",
       "#sk-container-id-1 div.sk-toggleable__content pre {\n",
       "  margin: 0.2em;\n",
       "  border-radius: 0.25em;\n",
       "  color: var(--sklearn-color-text);\n",
       "  /* unfitted */\n",
       "  background-color: var(--sklearn-color-unfitted-level-0);\n",
       "}\n",
       "\n",
       "#sk-container-id-1 div.sk-toggleable__content.fitted pre {\n",
       "  /* unfitted */\n",
       "  background-color: var(--sklearn-color-fitted-level-0);\n",
       "}\n",
       "\n",
       "#sk-container-id-1 input.sk-toggleable__control:checked~div.sk-toggleable__content {\n",
       "  /* Expand drop-down */\n",
       "  max-height: 200px;\n",
       "  max-width: 100%;\n",
       "  overflow: auto;\n",
       "}\n",
       "\n",
       "#sk-container-id-1 input.sk-toggleable__control:checked~label.sk-toggleable__label-arrow:before {\n",
       "  content: \"▾\";\n",
       "}\n",
       "\n",
       "/* Pipeline/ColumnTransformer-specific style */\n",
       "\n",
       "#sk-container-id-1 div.sk-label input.sk-toggleable__control:checked~label.sk-toggleable__label {\n",
       "  color: var(--sklearn-color-text);\n",
       "  background-color: var(--sklearn-color-unfitted-level-2);\n",
       "}\n",
       "\n",
       "#sk-container-id-1 div.sk-label.fitted input.sk-toggleable__control:checked~label.sk-toggleable__label {\n",
       "  background-color: var(--sklearn-color-fitted-level-2);\n",
       "}\n",
       "\n",
       "/* Estimator-specific style */\n",
       "\n",
       "/* Colorize estimator box */\n",
       "#sk-container-id-1 div.sk-estimator input.sk-toggleable__control:checked~label.sk-toggleable__label {\n",
       "  /* unfitted */\n",
       "  background-color: var(--sklearn-color-unfitted-level-2);\n",
       "}\n",
       "\n",
       "#sk-container-id-1 div.sk-estimator.fitted input.sk-toggleable__control:checked~label.sk-toggleable__label {\n",
       "  /* fitted */\n",
       "  background-color: var(--sklearn-color-fitted-level-2);\n",
       "}\n",
       "\n",
       "#sk-container-id-1 div.sk-label label.sk-toggleable__label,\n",
       "#sk-container-id-1 div.sk-label label {\n",
       "  /* The background is the default theme color */\n",
       "  color: var(--sklearn-color-text-on-default-background);\n",
       "}\n",
       "\n",
       "/* On hover, darken the color of the background */\n",
       "#sk-container-id-1 div.sk-label:hover label.sk-toggleable__label {\n",
       "  color: var(--sklearn-color-text);\n",
       "  background-color: var(--sklearn-color-unfitted-level-2);\n",
       "}\n",
       "\n",
       "/* Label box, darken color on hover, fitted */\n",
       "#sk-container-id-1 div.sk-label.fitted:hover label.sk-toggleable__label.fitted {\n",
       "  color: var(--sklearn-color-text);\n",
       "  background-color: var(--sklearn-color-fitted-level-2);\n",
       "}\n",
       "\n",
       "/* Estimator label */\n",
       "\n",
       "#sk-container-id-1 div.sk-label label {\n",
       "  font-family: monospace;\n",
       "  font-weight: bold;\n",
       "  display: inline-block;\n",
       "  line-height: 1.2em;\n",
       "}\n",
       "\n",
       "#sk-container-id-1 div.sk-label-container {\n",
       "  text-align: center;\n",
       "}\n",
       "\n",
       "/* Estimator-specific */\n",
       "#sk-container-id-1 div.sk-estimator {\n",
       "  font-family: monospace;\n",
       "  border: 1px dotted var(--sklearn-color-border-box);\n",
       "  border-radius: 0.25em;\n",
       "  box-sizing: border-box;\n",
       "  margin-bottom: 0.5em;\n",
       "  /* unfitted */\n",
       "  background-color: var(--sklearn-color-unfitted-level-0);\n",
       "}\n",
       "\n",
       "#sk-container-id-1 div.sk-estimator.fitted {\n",
       "  /* fitted */\n",
       "  background-color: var(--sklearn-color-fitted-level-0);\n",
       "}\n",
       "\n",
       "/* on hover */\n",
       "#sk-container-id-1 div.sk-estimator:hover {\n",
       "  /* unfitted */\n",
       "  background-color: var(--sklearn-color-unfitted-level-2);\n",
       "}\n",
       "\n",
       "#sk-container-id-1 div.sk-estimator.fitted:hover {\n",
       "  /* fitted */\n",
       "  background-color: var(--sklearn-color-fitted-level-2);\n",
       "}\n",
       "\n",
       "/* Specification for estimator info (e.g. \"i\" and \"?\") */\n",
       "\n",
       "/* Common style for \"i\" and \"?\" */\n",
       "\n",
       ".sk-estimator-doc-link,\n",
       "a:link.sk-estimator-doc-link,\n",
       "a:visited.sk-estimator-doc-link {\n",
       "  float: right;\n",
       "  font-size: smaller;\n",
       "  line-height: 1em;\n",
       "  font-family: monospace;\n",
       "  background-color: var(--sklearn-color-background);\n",
       "  border-radius: 1em;\n",
       "  height: 1em;\n",
       "  width: 1em;\n",
       "  text-decoration: none !important;\n",
       "  margin-left: 1ex;\n",
       "  /* unfitted */\n",
       "  border: var(--sklearn-color-unfitted-level-1) 1pt solid;\n",
       "  color: var(--sklearn-color-unfitted-level-1);\n",
       "}\n",
       "\n",
       ".sk-estimator-doc-link.fitted,\n",
       "a:link.sk-estimator-doc-link.fitted,\n",
       "a:visited.sk-estimator-doc-link.fitted {\n",
       "  /* fitted */\n",
       "  border: var(--sklearn-color-fitted-level-1) 1pt solid;\n",
       "  color: var(--sklearn-color-fitted-level-1);\n",
       "}\n",
       "\n",
       "/* On hover */\n",
       "div.sk-estimator:hover .sk-estimator-doc-link:hover,\n",
       ".sk-estimator-doc-link:hover,\n",
       "div.sk-label-container:hover .sk-estimator-doc-link:hover,\n",
       ".sk-estimator-doc-link:hover {\n",
       "  /* unfitted */\n",
       "  background-color: var(--sklearn-color-unfitted-level-3);\n",
       "  color: var(--sklearn-color-background);\n",
       "  text-decoration: none;\n",
       "}\n",
       "\n",
       "div.sk-estimator.fitted:hover .sk-estimator-doc-link.fitted:hover,\n",
       ".sk-estimator-doc-link.fitted:hover,\n",
       "div.sk-label-container:hover .sk-estimator-doc-link.fitted:hover,\n",
       ".sk-estimator-doc-link.fitted:hover {\n",
       "  /* fitted */\n",
       "  background-color: var(--sklearn-color-fitted-level-3);\n",
       "  color: var(--sklearn-color-background);\n",
       "  text-decoration: none;\n",
       "}\n",
       "\n",
       "/* Span, style for the box shown on hovering the info icon */\n",
       ".sk-estimator-doc-link span {\n",
       "  display: none;\n",
       "  z-index: 9999;\n",
       "  position: relative;\n",
       "  font-weight: normal;\n",
       "  right: .2ex;\n",
       "  padding: .5ex;\n",
       "  margin: .5ex;\n",
       "  width: min-content;\n",
       "  min-width: 20ex;\n",
       "  max-width: 50ex;\n",
       "  color: var(--sklearn-color-text);\n",
       "  box-shadow: 2pt 2pt 4pt #999;\n",
       "  /* unfitted */\n",
       "  background: var(--sklearn-color-unfitted-level-0);\n",
       "  border: .5pt solid var(--sklearn-color-unfitted-level-3);\n",
       "}\n",
       "\n",
       ".sk-estimator-doc-link.fitted span {\n",
       "  /* fitted */\n",
       "  background: var(--sklearn-color-fitted-level-0);\n",
       "  border: var(--sklearn-color-fitted-level-3);\n",
       "}\n",
       "\n",
       ".sk-estimator-doc-link:hover span {\n",
       "  display: block;\n",
       "}\n",
       "\n",
       "/* \"?\"-specific style due to the `<a>` HTML tag */\n",
       "\n",
       "#sk-container-id-1 a.estimator_doc_link {\n",
       "  float: right;\n",
       "  font-size: 1rem;\n",
       "  line-height: 1em;\n",
       "  font-family: monospace;\n",
       "  background-color: var(--sklearn-color-background);\n",
       "  border-radius: 1rem;\n",
       "  height: 1rem;\n",
       "  width: 1rem;\n",
       "  text-decoration: none;\n",
       "  /* unfitted */\n",
       "  color: var(--sklearn-color-unfitted-level-1);\n",
       "  border: var(--sklearn-color-unfitted-level-1) 1pt solid;\n",
       "}\n",
       "\n",
       "#sk-container-id-1 a.estimator_doc_link.fitted {\n",
       "  /* fitted */\n",
       "  border: var(--sklearn-color-fitted-level-1) 1pt solid;\n",
       "  color: var(--sklearn-color-fitted-level-1);\n",
       "}\n",
       "\n",
       "/* On hover */\n",
       "#sk-container-id-1 a.estimator_doc_link:hover {\n",
       "  /* unfitted */\n",
       "  background-color: var(--sklearn-color-unfitted-level-3);\n",
       "  color: var(--sklearn-color-background);\n",
       "  text-decoration: none;\n",
       "}\n",
       "\n",
       "#sk-container-id-1 a.estimator_doc_link.fitted:hover {\n",
       "  /* fitted */\n",
       "  background-color: var(--sklearn-color-fitted-level-3);\n",
       "}\n",
       "</style><div id=\"sk-container-id-1\" class=\"sk-top-container\"><div class=\"sk-text-repr-fallback\"><pre>KNeighborsRegressor(leaf_size=15, n_neighbors=15)</pre><b>In a Jupyter environment, please rerun this cell to show the HTML representation or trust the notebook. <br />On GitHub, the HTML representation is unable to render, please try loading this page with nbviewer.org.</b></div><div class=\"sk-container\" hidden><div class=\"sk-item\"><div class=\"sk-estimator fitted sk-toggleable\"><input class=\"sk-toggleable__control sk-hidden--visually\" id=\"sk-estimator-id-1\" type=\"checkbox\" checked><label for=\"sk-estimator-id-1\" class=\"sk-toggleable__label fitted sk-toggleable__label-arrow fitted\">&nbsp;&nbsp;KNeighborsRegressor<a class=\"sk-estimator-doc-link fitted\" rel=\"noreferrer\" target=\"_blank\" href=\"https://scikit-learn.org/1.4/modules/generated/sklearn.neighbors.KNeighborsRegressor.html\">?<span>Documentation for KNeighborsRegressor</span></a><span class=\"sk-estimator-doc-link fitted\">i<span>Fitted</span></span></label><div class=\"sk-toggleable__content fitted\"><pre>KNeighborsRegressor(leaf_size=15, n_neighbors=15)</pre></div> </div></div></div></div>"
      ],
      "text/plain": [
       "KNeighborsRegressor(leaf_size=15, n_neighbors=15)"
      ]
     },
     "execution_count": 16,
     "metadata": {},
     "output_type": "execute_result"
    }
   ],
   "source": [
    "best_regressor"
   ]
  },
  {
   "cell_type": "code",
   "execution_count": 17,
   "id": "abe4ea99-3b57-4328-9e37-aa1195af9f30",
   "metadata": {},
   "outputs": [
    {
     "data": {
      "text/plain": [
       "'auto'"
      ]
     },
     "execution_count": 17,
     "metadata": {},
     "output_type": "execute_result"
    }
   ],
   "source": [
    "best_regressor.algorithm"
   ]
  },
  {
   "cell_type": "code",
   "execution_count": 18,
   "id": "87d94bc3-c557-4fbf-9626-7fb425fb5169",
   "metadata": {},
   "outputs": [
    {
     "data": {
      "text/plain": [
       "'uniform'"
      ]
     },
     "execution_count": 18,
     "metadata": {},
     "output_type": "execute_result"
    }
   ],
   "source": [
    "best_regressor.weights"
   ]
  },
  {
   "cell_type": "code",
   "execution_count": null,
   "id": "5062df59-6f38-4be2-b646-b653719d4f28",
   "metadata": {},
   "outputs": [],
   "source": []
  }
 ],
 "metadata": {
  "kernelspec": {
   "display_name": "Python 3 (ipykernel)",
   "language": "python",
   "name": "python3"
  },
  "language_info": {
   "codemirror_mode": {
    "name": "ipython",
    "version": 3
   },
   "file_extension": ".py",
   "mimetype": "text/x-python",
   "name": "python",
   "nbconvert_exporter": "python",
   "pygments_lexer": "ipython3",
   "version": "3.11.8"
  }
 },
 "nbformat": 4,
 "nbformat_minor": 5
}
