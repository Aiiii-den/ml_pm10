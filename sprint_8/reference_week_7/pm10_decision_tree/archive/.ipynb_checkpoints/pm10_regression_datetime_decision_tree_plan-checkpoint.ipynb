{
 "cells": [
  {
   "cell_type": "markdown",
   "id": "737294d8-0f6c-457a-9d51-eae447fd7ea0",
   "metadata": {},
   "source": [
    "## Regression based on only datetime information\n",
    "_GOAL:_ Predict the value of pm10 based on datetime information (f.e. day of the week, hour of the day, weekend, month of the year, year)\n",
    "- Train once with year and once without year\n",
    "- Train 2-3 models with random train-validate split and time block split\n",
    "Regression models: \n",
    "1. Decision Tree\n",
    "2. Random Forest\n",
    "3. Knn\n",
    "4. Lineare Regression  \n",
    "\n"
   ]
  },
  {
   "cell_type": "markdown",
   "id": "e9182f94-497e-4d37-823d-bdc405159b6a",
   "metadata": {
    "jp-MarkdownHeadingCollapsed": true
   },
   "source": [
    "#### **_DECISION TREE_** - 1\n",
    "Features: pm10_value, hour, day, month, year, day_of_week, is_weekend  \n",
    "Split: Random (Cross-validation)"
   ]
  },
  {
   "cell_type": "markdown",
   "id": "16f5dbad-9ac6-48b8-9482-2ac021cd5abd",
   "metadata": {
    "jp-MarkdownHeadingCollapsed": true
   },
   "source": [
    "#### **_DECISION TREE_** - 2\n",
    "Features: pm10_value, hour, day, month, day_of_week, is_weekend  \n",
    "Split: Random (Cross-validation)"
   ]
  },
  {
   "cell_type": "markdown",
   "id": "930bc27c-6ff4-4401-b779-51e0141f0ce6",
   "metadata": {},
   "source": [
    "#### **_DECISION TREE_** - 3\n",
    "Features: pm10_value, hour, day, month, year, day_of_week, is_weekend  \n",
    "Split: Time Blocks"
   ]
  },
  {
   "cell_type": "markdown",
   "id": "bf4f729d-6013-417b-b285-efabcd60129a",
   "metadata": {},
   "source": [
    "#### **_DECISION TREE_** - 4\n",
    "Features: pm10_value, hour, day, month, day_of_week, is_weekend  \n",
    "Split: Time Blocks"
   ]
  },
  {
   "cell_type": "code",
   "execution_count": null,
   "id": "bd40f48e-fd2b-4603-a285-df77bb1697cb",
   "metadata": {},
   "outputs": [],
   "source": []
  }
 ],
 "metadata": {
  "kernelspec": {
   "display_name": "Python 3 (ipykernel)",
   "language": "python",
   "name": "python3"
  },
  "language_info": {
   "codemirror_mode": {
    "name": "ipython",
    "version": 3
   },
   "file_extension": ".py",
   "mimetype": "text/x-python",
   "name": "python",
   "nbconvert_exporter": "python",
   "pygments_lexer": "ipython3",
   "version": "3.11.8"
  }
 },
 "nbformat": 4,
 "nbformat_minor": 5
}
