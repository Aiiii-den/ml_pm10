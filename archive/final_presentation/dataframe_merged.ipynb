{
 "cells": [
  {
   "cell_type": "code",
   "execution_count": 1,
   "id": "253a16f7-2f58-4e4d-94c3-7078d53733f8",
   "metadata": {},
   "outputs": [],
   "source": [
    "# GET ALL THE JSONS INTO ONE DATAFRAME\n",
    "import pandas as pd\n",
    "import matplotlib.pyplot as plt\n",
    "import seaborn as sns\n",
    "import numpy as np\n",
    "import os\n",
    "import json"
   ]
  },
  {
   "cell_type": "code",
   "execution_count": 2,
   "id": "64b3a846-a27b-4f8c-ad0e-e187c88e73bd",
   "metadata": {},
   "outputs": [
    {
     "name": "stdout",
     "output_type": "stream",
     "text": [
      "<class 'pandas.core.frame.DataFrame'>\n",
      "Index: 309715 entries, 172992 to 542554\n",
      "Data columns (total 12 columns):\n",
      " #   Column          Non-Null Count   Dtype         \n",
      "---  ------          --------------   -----         \n",
      " 0   datetime        309715 non-null  datetime64[ns]\n",
      " 1   station         309715 non-null  object        \n",
      " 2   core            309715 non-null  object        \n",
      " 3   pm10_value      309715 non-null  float64       \n",
      " 4   hour            309715 non-null  float64       \n",
      " 5   day             309715 non-null  float64       \n",
      " 6   month           309715 non-null  float64       \n",
      " 7   year            309715 non-null  float64       \n",
      " 8   day_of_week     309715 non-null  float64       \n",
      " 9   is_weekend      309715 non-null  float64       \n",
      " 10  wind_speed      309715 non-null  float64       \n",
      " 11  wind_direction  309715 non-null  float64       \n",
      "dtypes: datetime64[ns](1), float64(9), object(2)\n",
      "memory usage: 30.7+ MB\n"
     ]
    }
   ],
   "source": [
    "# Set the search path for files (assuming the directory is relative to the current script)\n",
    "df = pd.read_csv('../data/df_fine_dust_wind_merged.csv', parse_dates=['datetime'])\n",
    "\n",
    "df.dropna(inplace=True)\n",
    "df.info()"
   ]
  },
  {
   "cell_type": "code",
   "execution_count": 3,
   "id": "deb38440-918d-41a0-9450-ba91d774cc96",
   "metadata": {},
   "outputs": [
    {
     "data": {
      "text/html": [
       "<div>\n",
       "<style scoped>\n",
       "    .dataframe tbody tr th:only-of-type {\n",
       "        vertical-align: middle;\n",
       "    }\n",
       "\n",
       "    .dataframe tbody tr th {\n",
       "        vertical-align: top;\n",
       "    }\n",
       "\n",
       "    .dataframe thead th {\n",
       "        text-align: right;\n",
       "    }\n",
       "</style>\n",
       "<table border=\"1\" class=\"dataframe\">\n",
       "  <thead>\n",
       "    <tr style=\"text-align: right;\">\n",
       "      <th></th>\n",
       "      <th>datetime</th>\n",
       "      <th>station</th>\n",
       "      <th>core</th>\n",
       "      <th>pm10_value</th>\n",
       "      <th>hour</th>\n",
       "      <th>day</th>\n",
       "      <th>month</th>\n",
       "      <th>year</th>\n",
       "      <th>day_of_week</th>\n",
       "      <th>is_weekend</th>\n",
       "      <th>wind_speed</th>\n",
       "      <th>wind_direction</th>\n",
       "    </tr>\n",
       "  </thead>\n",
       "  <tbody>\n",
       "    <tr>\n",
       "      <th>312898</th>\n",
       "      <td>2019-03-27 13:00:00</td>\n",
       "      <td>mc124</td>\n",
       "      <td>no</td>\n",
       "      <td>86.0</td>\n",
       "      <td>13.0</td>\n",
       "      <td>27.0</td>\n",
       "      <td>3.0</td>\n",
       "      <td>2019.0</td>\n",
       "      <td>2.0</td>\n",
       "      <td>0.0</td>\n",
       "      <td>7.9</td>\n",
       "      <td>270.0</td>\n",
       "    </tr>\n",
       "    <tr>\n",
       "      <th>216743</th>\n",
       "      <td>2016-12-10 23:00:00</td>\n",
       "      <td>mc124</td>\n",
       "      <td>nox</td>\n",
       "      <td>136.0</td>\n",
       "      <td>23.0</td>\n",
       "      <td>10.0</td>\n",
       "      <td>12.0</td>\n",
       "      <td>2016.0</td>\n",
       "      <td>5.0</td>\n",
       "      <td>1.0</td>\n",
       "      <td>9.5</td>\n",
       "      <td>260.0</td>\n",
       "    </tr>\n",
       "    <tr>\n",
       "      <th>483751</th>\n",
       "      <td>2023-01-05 15:00:00</td>\n",
       "      <td>mc124</td>\n",
       "      <td>pm2</td>\n",
       "      <td>7.0</td>\n",
       "      <td>15.0</td>\n",
       "      <td>5.0</td>\n",
       "      <td>1.0</td>\n",
       "      <td>2023.0</td>\n",
       "      <td>3.0</td>\n",
       "      <td>0.0</td>\n",
       "      <td>18.4</td>\n",
       "      <td>300.0</td>\n",
       "    </tr>\n",
       "    <tr>\n",
       "      <th>201397</th>\n",
       "      <td>2016-07-17 19:00:00</td>\n",
       "      <td>mc124</td>\n",
       "      <td>no2</td>\n",
       "      <td>55.0</td>\n",
       "      <td>19.0</td>\n",
       "      <td>17.0</td>\n",
       "      <td>7.0</td>\n",
       "      <td>2016.0</td>\n",
       "      <td>6.0</td>\n",
       "      <td>1.0</td>\n",
       "      <td>6.5</td>\n",
       "      <td>320.0</td>\n",
       "    </tr>\n",
       "    <tr>\n",
       "      <th>202505</th>\n",
       "      <td>2016-07-06 06:00:00</td>\n",
       "      <td>mc124</td>\n",
       "      <td>no2</td>\n",
       "      <td>21.0</td>\n",
       "      <td>6.0</td>\n",
       "      <td>6.0</td>\n",
       "      <td>7.0</td>\n",
       "      <td>2016.0</td>\n",
       "      <td>2.0</td>\n",
       "      <td>0.0</td>\n",
       "      <td>15.0</td>\n",
       "      <td>270.0</td>\n",
       "    </tr>\n",
       "  </tbody>\n",
       "</table>\n",
       "</div>"
      ],
      "text/plain": [
       "                  datetime station core  pm10_value  hour   day  month  \\\n",
       "312898 2019-03-27 13:00:00   mc124   no        86.0  13.0  27.0    3.0   \n",
       "216743 2016-12-10 23:00:00   mc124  nox       136.0  23.0  10.0   12.0   \n",
       "483751 2023-01-05 15:00:00   mc124  pm2         7.0  15.0   5.0    1.0   \n",
       "201397 2016-07-17 19:00:00   mc124  no2        55.0  19.0  17.0    7.0   \n",
       "202505 2016-07-06 06:00:00   mc124  no2        21.0   6.0   6.0    7.0   \n",
       "\n",
       "          year  day_of_week  is_weekend  wind_speed  wind_direction  \n",
       "312898  2019.0          2.0         0.0         7.9           270.0  \n",
       "216743  2016.0          5.0         1.0         9.5           260.0  \n",
       "483751  2023.0          3.0         0.0        18.4           300.0  \n",
       "201397  2016.0          6.0         1.0         6.5           320.0  \n",
       "202505  2016.0          2.0         0.0        15.0           270.0  "
      ]
     },
     "execution_count": 3,
     "metadata": {},
     "output_type": "execute_result"
    }
   ],
   "source": [
    "df.sample(5)"
   ]
  },
  {
   "cell_type": "code",
   "execution_count": 6,
   "id": "c8551ff7-f1e7-4673-84e4-9494f373bc74",
   "metadata": {},
   "outputs": [],
   "source": [
    "df.rename(columns={'pm10_value': 'value'}, inplace=True)\n",
    "df['is_weekend'] = df['is_weekend'].astype(bool)"
   ]
  },
  {
   "cell_type": "code",
   "execution_count": 7,
   "id": "fd74182d-ff3b-4066-aa38-959d8cb436d8",
   "metadata": {},
   "outputs": [
    {
     "name": "stdout",
     "output_type": "stream",
     "text": [
      "<class 'pandas.core.frame.DataFrame'>\n",
      "Index: 309715 entries, 172992 to 542554\n",
      "Data columns (total 12 columns):\n",
      " #   Column          Non-Null Count   Dtype         \n",
      "---  ------          --------------   -----         \n",
      " 0   datetime        309715 non-null  datetime64[ns]\n",
      " 1   station         309715 non-null  object        \n",
      " 2   core            309715 non-null  object        \n",
      " 3   value           309715 non-null  float64       \n",
      " 4   hour            309715 non-null  float64       \n",
      " 5   day             309715 non-null  float64       \n",
      " 6   month           309715 non-null  float64       \n",
      " 7   year            309715 non-null  float64       \n",
      " 8   day_of_week     309715 non-null  float64       \n",
      " 9   is_weekend      309715 non-null  bool          \n",
      " 10  wind_speed      309715 non-null  float64       \n",
      " 11  wind_direction  309715 non-null  float64       \n",
      "dtypes: bool(1), datetime64[ns](1), float64(8), object(2)\n",
      "memory usage: 28.7+ MB\n"
     ]
    }
   ],
   "source": [
    "df.info()"
   ]
  },
  {
   "cell_type": "code",
   "execution_count": null,
   "id": "c4476b85-9f03-4f67-b2a9-c8244379fbe5",
   "metadata": {},
   "outputs": [],
   "source": []
  }
 ],
 "metadata": {
  "kernelspec": {
   "display_name": "Python 3 (ipykernel)",
   "language": "python",
   "name": "python3"
  },
  "language_info": {
   "codemirror_mode": {
    "name": "ipython",
    "version": 3
   },
   "file_extension": ".py",
   "mimetype": "text/x-python",
   "name": "python",
   "nbconvert_exporter": "python",
   "pygments_lexer": "ipython3",
   "version": "3.11.8"
  }
 },
 "nbformat": 4,
 "nbformat_minor": 5
}
