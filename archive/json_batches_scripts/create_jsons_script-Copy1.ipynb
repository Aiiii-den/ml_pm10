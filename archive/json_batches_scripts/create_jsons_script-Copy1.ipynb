{
 "cells": [
  {
   "cell_type": "code",
   "execution_count": 16,
   "id": "5a35a2bd-513b-48de-b5f0-6fde71207f90",
   "metadata": {},
   "outputs": [
    {
     "name": "stdout",
     "output_type": "stream",
     "text": [
      "2020-12-30 00:00:00 2021-02-01 00:00:00\n",
      "2020-12-30 00:00:00\n",
      "2021-01-30 00:00:00\n"
     ]
    }
   ],
   "source": [
    "import requests\n",
    "import json\n",
    "from datetime import datetime, timedelta\n",
    "from dateutil.relativedelta import relativedelta\n",
    "\n",
    "# Define the API endpoint\n",
    "api_endpoint = \"https://luftdaten.berlin.de/api/stations/mc010/data\"  # Change to your actual API endpoint\n",
    "\n",
    "# Define the start date\n",
    "start_date = datetime(2020, 12, 30)\n",
    "date_rn = datetime(2021, 2, 1)\n",
    "print(start_date, date_rn)\n",
    "\n",
    "# Set an empty dictionary to store responses by year\n",
    "yearly_data = {}\n",
    "\n",
    "# Set an empty list to store all responses\n",
    "all_responses = []\n",
    "\n",
    "# Loop through each month from the start date to the current date\n",
    "current_date = start_date\n",
    "while current_date <= date_rn:\n",
    "    # Define the year and month for the current date\n",
    "    current_year = current_date.year\n",
    "    \n",
    "    # Define the start and end dates for the month in \"dd.mm.yyyy HH:MM\" format\n",
    "    start_date_formatted = current_date.strftime(\"%d.%m.%Y %H:%M\")  # First day of the month\n",
    "    end_date = current_date + relativedelta(months=1) - timedelta(seconds=1)  # Last second of the month\n",
    "    end_date_formatted = end_date.strftime(\"%d.%m.%Y %H:%M\")  # Formatted end date\n",
    "\n",
    "    # Define the parameters for the API request\n",
    "    params = {\n",
    "        \"timespan\": \"custom\",  # Additional parameter for timespan\n",
    "        \"start\": start_date_formatted,  # Start of the month in specified format\n",
    "        \"end\": end_date_formatted  # End of the month in specified format\n",
    "    }\n",
    "\n",
    "    # Make the API request\n",
    "    response = requests.get(api_endpoint, params=params)\n",
    "\n",
    "    data = response.json()  \n",
    "    # Check if the year already exists in the yearly_data dictionary\n",
    "    if current_year not in yearly_data:\n",
    "            yearly_data[current_year] = []\n",
    "            \n",
    "            # Append the data to the current year's list\n",
    "            yearly_data[current_year].append(data)\n",
    "            \n",
    "            # Append the data to the comprehensive list\n",
    "            all_responses.append(data)\n",
    "\n",
    "    print(current_date)\n",
    "    \n",
    "    # Move to the next month\n",
    "    current_date += relativedelta(months=1)\n",
    "\n",
    "\n",
    "# Save the data for each year into separate JSON files\n",
    "for year, data in yearly_data.items():\n",
    "    file_name = f\"year_{year}.json\"  # Filename for each year's data\n",
    "    with open(file_name, \"w\") as f:\n",
    "        json.dump(data, f, indent=4)  # Pretty print with an indent of 4 spaces\n",
    "\n",
    "# Save the entire dataset into one JSON file\n",
    "with open(\"all_data.json\", \"w\") as f:\n",
    "    json.dump(all_responses, f, indent=4)  # Pretty print with an indent of 4 spaces\n"
   ]
  },
  {
   "cell_type": "code",
   "execution_count": null,
   "id": "5905ec69-1ede-4110-9795-2403dd5daf16",
   "metadata": {},
   "outputs": [],
   "source": []
  },
  {
   "cell_type": "code",
   "execution_count": null,
   "id": "03e8d4b9-a28c-4e8f-b089-d31785a28ddb",
   "metadata": {},
   "outputs": [],
   "source": []
  }
 ],
 "metadata": {
  "kernelspec": {
   "display_name": "Python 3 (ipykernel)",
   "language": "python",
   "name": "python3"
  },
  "language_info": {
   "codemirror_mode": {
    "name": "ipython",
    "version": 3
   },
   "file_extension": ".py",
   "mimetype": "text/x-python",
   "name": "python",
   "nbconvert_exporter": "python",
   "pygments_lexer": "ipython3",
   "version": "3.11.8"
  }
 },
 "nbformat": 4,
 "nbformat_minor": 5
}
