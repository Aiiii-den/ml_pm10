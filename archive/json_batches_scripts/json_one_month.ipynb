{
 "cells": [
  {
   "cell_type": "code",
   "execution_count": 6,
   "id": "6974149d-a48e-4066-9716-b7dfcbe0839d",
   "metadata": {},
   "outputs": [
    {
     "name": "stdout",
     "output_type": "stream",
     "text": [
      "2020-01-01 00:00:00 2020-01-30 00:00:00\n",
      "200\n",
      "[]\n"
     ]
    }
   ],
   "source": [
    "import requests\n",
    "import json\n",
    "from datetime import datetime, timedelta\n",
    "from dateutil.relativedelta import relativedelta\n",
    "\n",
    "# Define the API endpoint\n",
    "api_endpoint = \"https://luftdaten.berlin.de/api/stations/mc010/data\"  # Change to your actual API endpoint\n",
    "\n",
    "# Define the start date\n",
    "start_date = datetime(2020, 1, 1)\n",
    "end_date = datetime(2020,1,30)\n",
    "print(start_date, end_date)\n",
    "\n",
    "\n",
    "# Define the start and end dates for the month in \"dd.mm.yyyy HH:MM\" format\n",
    "start_date_formatted = start_date.strftime(\"%d.%m.%Y 00:00\")  # First day of the month\n",
    "end_date_formatted = end_date.strftime(\"%d.%m.%Y 23:00\")  # Formatted end date\n",
    "\n",
    "# Define the parameters for the API request\n",
    "params = {\n",
    "     \"timespan\": \"custom\",  # Additional parameter for timespan\n",
    "     \"start\": start_date_formatted,  # Start of the month in specified format\n",
    "     \"end\": end_date_formatted  # End of the month in specified format\n",
    "  }\n",
    "\n",
    "    # Make the API request\n",
    "response = requests.get(api_endpoint, params=params)\n",
    "print(response.status_code)\n",
    "print(response.json())\n",
    "\n",
    "\n"
   ]
  },
  {
   "cell_type": "code",
   "execution_count": null,
   "id": "d7a4ca40-3eac-4894-8ed3-a3e2271a362f",
   "metadata": {},
   "outputs": [],
   "source": []
  }
 ],
 "metadata": {
  "kernelspec": {
   "display_name": "Python 3 (ipykernel)",
   "language": "python",
   "name": "python3"
  },
  "language_info": {
   "codemirror_mode": {
    "name": "ipython",
    "version": 3
   },
   "file_extension": ".py",
   "mimetype": "text/x-python",
   "name": "python",
   "nbconvert_exporter": "python",
   "pygments_lexer": "ipython3",
   "version": "3.11.8"
  }
 },
 "nbformat": 4,
 "nbformat_minor": 5
}
