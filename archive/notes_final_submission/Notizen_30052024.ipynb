{
 "cells": [
  {
   "cell_type": "raw",
   "id": "96ae20d9-6f2f-42a6-a3a4-c3b68b32f035",
   "metadata": {},
   "source": [
    "1h stündig oder täglicher Durchschnitt --> Tagesabschnitte (Verkehr - BVG Einteilung) 6-8 Zonen (fachlich, müsssen nicht zeitlich gleich lang sein, Durchschnitt  \n",
    "Jahre übereinander legen? - Feiertage fallen auf unterschiedliche Tage (Ostern) --> Osterwochenende extra markieren - Text und Pfeile  \n",
    "API anfragen?\n",
    "\n",
    "\n",
    "Methode um alle JSONs aus einem Ordner in ein df zu schreiben --> glob -- alle Files aus einem Dir in ein df datschen\n",
    "\n",
    "Splitting nach Jahren, um mit Error Rate zu experimentieren --> schauen, wie es sich auswirkt\n",
    "Pandemiezeit\n",
    "\n",
    "\n",
    "Dokumentation Prophet Erklären (welches Modell, was tut es)\n",
    "\n",
    "Erstmal nur mit einer Wetterstation, wenn es gut läuft dann mehrere\n",
    "\n",
    "\n",
    "Data processing:\n",
    "Mean ausrechnen und evlt null values damit ersetzen\n",
    "\n",
    "\n",
    "Von grob zu fein\n",
    "Seaborn standardabweichung von Tagen / pro Monat aggregiert (pro Stunde) pro Jahr"
   ]
  },
  {
   "cell_type": "code",
   "execution_count": null,
   "id": "18b5bc6a-fbd3-4cb1-9cf9-18a0aefb956a",
   "metadata": {},
   "outputs": [],
   "source": [
    "Huggingface Daten / API (nicht für mich, aber allgemein nützlich)"
   ]
  }
 ],
 "metadata": {
  "kernelspec": {
   "display_name": "Python 3 (ipykernel)",
   "language": "python",
   "name": "python3"
  },
  "language_info": {
   "codemirror_mode": {
    "name": "ipython",
    "version": 3
   },
   "file_extension": ".py",
   "mimetype": "text/x-python",
   "name": "python",
   "nbconvert_exporter": "python",
   "pygments_lexer": "ipython3",
   "version": "3.11.8"
  }
 },
 "nbformat": 4,
 "nbformat_minor": 5
}
