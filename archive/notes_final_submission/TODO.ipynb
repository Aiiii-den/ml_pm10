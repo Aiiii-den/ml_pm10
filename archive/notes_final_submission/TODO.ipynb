{
 "cells": [
  {
   "cell_type": "markdown",
   "id": "a2c49904-e675-4e09-a2eb-f5d7c481f608",
   "metadata": {},
   "source": [
    "#### _To-Do:_  \n",
    "- [ x ] Analyse easter in a specific year - fix plots with solution from new year\n",
    "- [ x ] Combine December and January of following years to gauge the spike of pm10 on new years  \n",
    "- [ ] Look at March of a specific year outside of covid years  \n",
    "- [ ] Get averages of each year and compare to average of covid years -- move this task to the seaborn notebook\n",
    "- [ ] Do seaborn comparison between one month of each year and average of years in comparison"
   ]
  },
  {
   "cell_type": "markdown",
   "id": "7d33bcec-8c24-4d23-8fcb-d1609f9a56ec",
   "metadata": {},
   "source": [
    "## Evaluation:\n",
    "- mit k-fold Cross Validation!! --> PFLICHT\n",
    "    - Trainieren und evaluieren anhand verschiedener Split Parts (5 Splits, heißt jeweils 1 Split Test pro Fold) -- siehe Folien\n",
    "    - mean und Standardabweichung insgesamt berechnen\n",
    "    - hohe Abweichung trainiertes Modell hängt sehr stark von den Trainingsdaten ab --> Datenmenge muss erhöht werden\n",
    "    - sklearn.model.selection import cross_validate\n",
    "    - kein train-test-split und kein trainieren des Modells\n",
    "    - does not work for time series prediction ㅠㅠ"
   ]
  },
  {
   "cell_type": "markdown",
   "id": "2c0a885e-406b-434b-a063-6561bd8d9e06",
   "metadata": {},
   "source": [
    "Zeitreihe to not Zeitreihe:\n",
    "- Wochentag\n",
    "- Werktag, Wochenende, Feiertag, Ferien\n",
    "- Stunde\n",
    "- Tagesabschnitt\n",
    "- Jahreszeit\n",
    "- Jahr / Jahrzent"
   ]
  },
  {
   "cell_type": "markdown",
   "id": "dce66a05-dd8c-4bf6-b050-17425d22f2a4",
   "metadata": {},
   "source": [
    "### Zeitreihen Evaluation\n",
    "__Time Series Split__  \n",
    "- Testdaten wandern in die Zukunft, Trainingsdaten werden pro Iteration akkumuliert\n",
    "\n",
    "__Blocking Time Series Split__  \n",
    "- Test und Trainingsdaten immer gleich  \n",
    "RESOURCE: Sklearn Cross-validation -- 3.6 Time Series Prediction  "
   ]
  },
  {
   "cell_type": "markdown",
   "id": "ab8a8a8b-d6cc-4682-9d41-2a3d6365aa5a",
   "metadata": {},
   "source": [
    "allerletzte Vorlesung am: "
   ]
  },
  {
   "cell_type": "code",
   "execution_count": null,
   "id": "f1dafaee-481f-4f79-b043-80859b7fb488",
   "metadata": {},
   "outputs": [],
   "source": []
  }
 ],
 "metadata": {
  "kernelspec": {
   "display_name": "Python 3 (ipykernel)",
   "language": "python",
   "name": "python3"
  },
  "language_info": {
   "codemirror_mode": {
    "name": "ipython",
    "version": 3
   },
   "file_extension": ".py",
   "mimetype": "text/x-python",
   "name": "python",
   "nbconvert_exporter": "python",
   "pygments_lexer": "ipython3",
   "version": "3.11.8"
  }
 },
 "nbformat": 4,
 "nbformat_minor": 5
}
