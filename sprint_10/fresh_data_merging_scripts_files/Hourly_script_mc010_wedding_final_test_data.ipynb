{
 "cells": [
  {
   "cell_type": "code",
   "execution_count": 1,
   "id": "6a1a9995-34cc-4b33-b146-e9ff6d7e6df6",
   "metadata": {},
   "outputs": [
    {
     "name": "stdout",
     "output_type": "stream",
     "text": [
      "2024-06-01 00:00:00 2024-08-31 00:00:00\n",
      "Data from 01.06.2024 00:00 to 30.06.2024 23:59 saved to mc010_data_2024_06.json.\n",
      "Data from 01.07.2024 00:00 to 31.07.2024 23:59 saved to mc010_data_2024_07.json.\n",
      "Data from 01.08.2024 00:00 to 31.08.2024 23:59 saved to mc010_data_2024_08.json.\n",
      "All data has been fetched and saved.\n"
     ]
    }
   ],
   "source": [
    "import requests\n",
    "import json\n",
    "from datetime import datetime, timedelta\n",
    "from dateutil.relativedelta import relativedelta\n",
    "\n",
    "# Define the API endpoint\n",
    "api_endpoint = \"https://luftdaten.berlin.de/api/stations/mc010/data\"  # Change to your actual API endpoint\n",
    "\n",
    "# Define the start date\n",
    "start_date = datetime(2024, 6, 1)\n",
    "date_rn = datetime(2024, 8, 31)\n",
    "print(start_date, date_rn)\n",
    "\n",
    "# Loop through each month from the start date to the end date\n",
    "current_date = start_date\n",
    "while current_date <= date_rn:\n",
    "    # Define the start and end dates for the current month in \"dd.mm.yyyy HH:MM\" format\n",
    "    start_date_formatted = current_date.strftime(\"%d.%m.%Y %H:%M\")  # First day of the month\n",
    "    end_date = current_date + relativedelta(months=1) - timedelta(seconds=1)  # Last second of the month\n",
    "    end_date_formatted = end_date.strftime(\"%d.%m.%Y %H:%M\")  # Formatted end date\n",
    "\n",
    "    # Define the parameters for the API request\n",
    "    params = {\n",
    "        \"timespan\": \"custom\",  # Additional parameter for timespan\n",
    "        \"start\": start_date_formatted,  # Start of the month in specified format\n",
    "        \"end\": end_date_formatted  # End of the month in specified format\n",
    "    }\n",
    "\n",
    "    # Make the API request\n",
    "    response = requests.get(api_endpoint, params=params)\n",
    "\n",
    "    data = response.json()  \n",
    "    \n",
    "    # Create a filename for the current request\n",
    "    filename = f\"mc010_data_{current_date.strftime('%Y_%m')}.json\"\n",
    "    \n",
    "    # Save the response data to a JSON file\n",
    "    with open(filename, \"w\") as f:\n",
    "        json.dump(data, f, indent=4)\n",
    "    \n",
    "    print(f\"Data from {start_date_formatted} to {end_date_formatted} saved to {filename}.\")\n",
    "    \n",
    "    # Move to the next month\n",
    "    current_date += relativedelta(months=1)\n",
    "\n",
    "print(\"All data has been fetched and saved.\")\n"
   ]
  },
  {
   "cell_type": "code",
   "execution_count": null,
   "id": "886fddd7-d0cc-43bb-a7ba-174f1ba54804",
   "metadata": {},
   "outputs": [],
   "source": []
  }
 ],
 "metadata": {
  "kernelspec": {
   "display_name": "Python 3 (ipykernel)",
   "language": "python",
   "name": "python3"
  },
  "language_info": {
   "codemirror_mode": {
    "name": "ipython",
    "version": 3
   },
   "file_extension": ".py",
   "mimetype": "text/x-python",
   "name": "python",
   "nbconvert_exporter": "python",
   "pygments_lexer": "ipython3",
   "version": "3.11.8"
  }
 },
 "nbformat": 4,
 "nbformat_minor": 5
}
